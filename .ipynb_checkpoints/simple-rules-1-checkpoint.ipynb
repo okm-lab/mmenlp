{
    "cells": [
        {
            "cell_type": "code",
            "execution_count": 3,
            "source": [
                "from glob import glob\n",
                "\n",
                "\n",
                "def make_translation(source, target):\n",
                "    assert len(source) == len(target)\n",
                "    return {\n",
                "        ord(a): ord(b)\n",
                "        for a, b in zip(source, target)\n",
                "    }\n",
                "\n",
                "\n",
                "DASHES_TRANSLATION = make_translation(\n",
                "    '‑–—−',\n",
                "    '----'\n",
                ")\n",
                "\n",
                "\n",
                "def preprocess(text):\n",
                "    text = text.replace('\\xa0', ' ')\n",
                "    text = text.replace('\\xad', '')\n",
                "    text = text.translate(DASHES_TRANSLATION)\n",
                "    return text\n",
                "    \n",
                "texts = []\n",
                "for path in sorted(glob('texts/*.txt')):\n",
                "    with open(path) as file:\n",
                "        text = file.read()\n",
                "        text = preprocess(text)\n",
                "        texts.append(text)"
            ],
            "outputs": [],
            "metadata": {}
        },
        {
            "cell_type": "code",
            "execution_count": 6,
            "source": [
                "from random import seed, sample\n",
                "\n",
                "seed(2)\n",
                "for text in sample(texts, 3):\n",
                "    print(text)\n",
                "    print('---' * 10)"
            ],
            "outputs": [
                {
                    "output_type": "stream",
                    "name": "stdout",
                    "text": [
                        "двое взрослых плюс ребенок 7 лет , Анталия, все включено\n",
                        "------------------------------\n",
                        "Хочу в Абхазию, чтобы отель были видны горы и море, на первой линии. Говорят что есть отели все включено\n",
                        "------------------------------\n",
                        "ДОбрый вечер! Хотим в Испанию с мужем и дочкой 3 года. Совместить пляжный отдых и экскурсии. Слышала про салоу, но там наверное дорогие отели? Можно же ареновать машину или как то по другому потом доехать до барселоны. Еще хотели бы посетить порт авентуру. Подскажите по ценам?\n",
                        "------------------------------\n"
                    ]
                }
            ],
            "metadata": {}
        },
        {
            "cell_type": "code",
            "execution_count": 9,
            "source": [
                "lines = []\n",
                "for text in texts:\n",
                "\tfor line in text.splitlines():\n",
                "\t\tlines.append(line)\n",
                "\t\t\n",
                "sample(lines, 3)"
            ],
            "outputs": [
                {
                    "output_type": "execute_result",
                    "data": {
                        "text/plain": [
                            "['Ну раз Турцию наконец то открыли, решили выбраться с семьей. Едем с мужем и двумя детьми (17 и 10). Муж и дети не любят активный отдых, им нужен шведский стол, море, бассейн, мужу мииниьар. Я бы хотела на экскурсии. Отель все включено не ниже хорошей четверки',\n",
                            " 'Здравствуйте, мы с женой хотели бы полететь в Турцию, Анталия. По отелю следующее: первая линия, чистый пляж, не на 1 этаже номер:))), шведский стол и чтобы не шумно. Бюджет около ста. Спасибо',\n",
                            " 'Мы с женой хотим отдохнуть в Белеке, в хорошем отеле на берегу. Номер должен быть обязательно с видом на море. Анимация не нужна, хороший алкоголь приветствуется. Что Вы можете предложить?']"
                        ]
                    },
                    "metadata": {},
                    "execution_count": 9
                }
            ],
            "metadata": {}
        },
        {
            "cell_type": "code",
            "execution_count": 12,
            "source": [
                "from IPython.display import display\n",
                "\n",
                "# pip install ipymarkup\n",
                "from ipymarkup import show_span_ascii_markup as show_markup\n",
                "\n",
                "from yargy import (\n",
                "    Parser,\n",
                "    or_, rule\n",
                ")\n",
                "from yargy.pipelines import morph_pipeline\n",
                "from yargy.predicates import (\n",
                "    eq, in_, dictionary,\n",
                "    type, gram\n",
                ")\n",
                "from yargy.tokenizer import MorphTokenizer\n",
                "from yargy import interpretation as interp\n",
                "from yargy.interpretation import fact, attribute\n",
                "\n",
                "\n",
                "def show_matches(rule, *lines):\n",
                "    parser = Parser(rule)\n",
                "    for line in lines:\n",
                "        matches = parser.findall(line)\n",
                "        matches = sorted(matches, key=lambda _: _.span)\n",
                "        spans = [_.span for _ in matches]\n",
                "        show_markup(line, spans)\n",
                "        if matches:\n",
                "            facts = [_.fact for _ in matches]\n",
                "            if len(facts) == 1:\n",
                "                facts = facts[0]\n",
                "            display(facts)\n",
                "\n",
                "\n",
                "INT = type('INT')\n",
                "NOUN = gram('NOUN')\n",
                "ADJF = gram('ADJF')\n",
                "PRTF = gram('PRTF')\n",
                "GENT = gram('gent')\n",
                "DOT = eq('.')\n",
                "\n",
                "TOKENIZER = MorphTokenizer()"
            ],
            "outputs": [],
            "metadata": {}
        },
        {
            "cell_type": "code",
            "execution_count": 18,
            "source": [
                "Minimal_budget = fact(\n",
                "    'Unit',\n",
                "    ['type', 'modifier']\n",
                ")\n",
                "\n",
                "NAME = morph_pipeline([\n",
                "\t'бюджет',\n",
                "    'затрата'\n",
                "]).interpretation(\n",
                "    Minimal_budget.type.normalized()\n",
                ")\n",
                "\n",
                "MODIFIER = morph_pipeline([\n",
                "    'маленький',\n",
                "    'скромный',\n",
                "    'небольшой',\n",
                "    'минимальный',\n",
                "]).interpretation(\n",
                "    Minimal_budget.modifier.normalized()\n",
                ")\n",
                "\n",
                "MINIMAL_BUDGET = rule(\n",
                "    MODIFIER.optional(),\n",
                "    or_(\n",
                "\trule(\n",
                "\t\tMODIFIER,\n",
                "\t\tNAME\n",
                "\t),\n",
                "\trule(\n",
                "\t\tNAME,\n",
                "\t\tMODIFIER\n",
                "\t)\n",
                "    )\n",
                ").interpretation(\n",
                "    Minimal_budget\n",
                ")\n",
                "\n"
            ],
            "outputs": [],
            "metadata": {}
        },
        {
            "cell_type": "code",
            "execution_count": 20,
            "source": [
                "parser = Parser(MINIMAL_BUDGET)\n",
                "seed(1)\n",
                "for line in sample(lines, 10):\n",
                "    matches = list(parser.findall(line))\n",
                "    spans = [_.span for _ in matches]\n",
                "    show_markup(line, spans)\n",
                "#     if matches:\n",
                "#         match = matches[0]\n",
                "#         display(match.tree.as_dot)\n",
                "#         display(match.fact)\n"
            ],
            "outputs": [
                {
                    "output_type": "stream",
                    "name": "stdout",
                    "text": [
                        "Здравствуйте. Мы бы хотели подобрать тур у вас. Хотим море, пляжный \n",
                        "тур, нас двое (без детей). Нужно экономично, минимальные затраты(до \n",
                        "                                             ───────────────────    \n",
                        "60). Но чтобы обязательно было море, спасибо)))\n",
                        "Доброго времени суток. Интересует Хайнань, слышал от друзей что им там\n",
                        " понравилось семьей. Едем с женой, ищем отель в первой линии. Бюджет \n",
                        "до 70.\n",
                        "Ищем отдых ОАЭ, Турция, Тунис, Египет. Период с 10 сентяря до 25 \n",
                        "сентября. Количество ночей от 10. Бюджет до 180000. 2взр и 2 ребенка.\n",
                        "Добрый день! Ищем пляжный отдых для пары, отель не ниже 4, трансфер из\n",
                        " аэропорта. Не особо дорого, около 50-70.\n",
                        "Хотим нормальную пятерку, первая линия, чтобы был красивый пейзаж. \n",
                        "двое взрослых + маленький ребенок 5 лет. По стоимости до 100. Что \n",
                        "посоветуете?\n",
                        "Приветики! Я хотела бы поехать куда то на море с мужем и сыном. Ну сын\n",
                        " маленький-7 лет ему надо чтобы был ну бассейн там аниматоры что то \n",
                        "такое. Мужу надо шведский стол и бар. Слышала что в Таиланде не очень \n",
                        "сейчас, может Вьетнам? Что можешь пообрать?\n",
                        "Семья 2+1 ребенок(11), Турция , Район Авсалар,Инджекум,Тюрклер, 4-5*, \n",
                        "1 линия, песочный заход\n",
                        "Нужно чтобы отель был недалеко от аэропорта. Чтобы был песчаный вход, \n",
                        "чтобы детское питание было, детская кроватка, чтобы номера были 2-х \n",
                        "комнатные, у нас семья 4 человека с младенцем. Детские горки в отеле \n",
                        "для старшего и штобы был детский клую. Нужно очень хорошее питание.\n",
                        "Отель нужен новый или чтобы ремонт был в прошлом году. Большая \n",
                        "территория, бассейны, ультра все включено, импортный алкоголь, детей \n",
                        "поменьше\n",
                        "Добрый вечер. Расскажите куда можно поехать семье с детьми. Какие \n",
                        "направления открыты? 2 взр и 2 ребенка\n"
                    ]
                }
            ],
            "metadata": {}
        },
        {
            "cell_type": "code",
            "execution_count": 17,
            "source": [],
            "outputs": [
                {
                    "output_type": "stream",
                    "name": "stdout",
                    "text": [
                        "Здравствуйте. Мы бы хотели подобрать тур у вас. Хотим море, пляжный \n",
                        "тур, нас двое (без детей). Нужно экономично, минимальные затраты(до \n",
                        "60). Но чтобы обязательно было море, спасибо)))\n",
                        "Доброго времени суток. Интересует Хайнань, слышал от друзей что им там\n",
                        " понравилось семьей. Едем с женой, ищем отель в первой линии. Бюджет \n",
                        "до 70.\n",
                        "Ищем отдых ОАЭ, Турция, Тунис, Египет. Период с 10 сентяря до 25 \n",
                        "сентября. Количество ночей от 10. Бюджет до 180000. 2взр и 2 ребенка.\n",
                        "Добрый день! Ищем пляжный отдых для пары, отель не ниже 4, трансфер из\n",
                        " аэропорта. Не особо дорого, около 50-70.\n",
                        "Хотим нормальную пятерку, первая линия, чтобы был красивый пейзаж. \n",
                        "двое взрослых + маленький ребенок 5 лет. По стоимости до 100. Что \n",
                        "посоветуете?\n",
                        "Приветики! Я хотела бы поехать куда то на море с мужем и сыном. Ну сын\n",
                        " маленький-7 лет ему надо чтобы был ну бассейн там аниматоры что то \n",
                        "такое. Мужу надо шведский стол и бар. Слышала что в Таиланде не очень \n",
                        "сейчас, может Вьетнам? Что можешь пообрать?\n",
                        "Семья 2+1 ребенок(11), Турция , Район Авсалар,Инджекум,Тюрклер, 4-5*, \n",
                        "1 линия, песочный заход\n",
                        "Нужно чтобы отель был недалеко от аэропорта. Чтобы был песчаный вход, \n",
                        "чтобы детское питание было, детская кроватка, чтобы номера были 2-х \n",
                        "комнатные, у нас семья 4 человека с младенцем. Детские горки в отеле \n",
                        "для старшего и штобы был детский клую. Нужно очень хорошее питание.\n",
                        "Отель нужен новый или чтобы ремонт был в прошлом году. Большая \n",
                        "территория, бассейны, ультра все включено, импортный алкоголь, детей \n",
                        "поменьше\n",
                        "Добрый вечер. Расскажите куда можно поехать семье с детьми. Какие \n",
                        "направления открыты? 2 взр и 2 ребенка\n"
                    ]
                }
            ],
            "metadata": {}
        },
        {
            "cell_type": "code",
            "execution_count": null,
            "source": [],
            "outputs": [],
            "metadata": {}
        }
    ],
    "metadata": {
        "orig_nbformat": 4,
        "language_info": {
            "name": "python",
            "version": "3.9.1",
            "mimetype": "text/x-python",
            "codemirror_mode": {
                "name": "ipython",
                "version": 3
            },
            "pygments_lexer": "ipython3",
            "nbconvert_exporter": "python",
            "file_extension": ".py"
        },
        "kernelspec": {
            "name": "python3",
            "display_name": "Python 3.9.1 64-bit ('base': conda)"
        },
        "interpreter": {
            "hash": "c2cf870773758035b938b81f22e6070e2526a88a16b51765671f7a44fc858513"
        }
    },
    "nbformat": 4,
    "nbformat_minor": 2
}