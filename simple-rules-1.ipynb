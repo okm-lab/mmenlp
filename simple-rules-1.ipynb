{
 "cells": [
  {
   "cell_type": "code",
   "execution_count": 1,
   "source": [
    "from glob import glob\n",
    "\n",
    "\n",
    "def make_translation(source, target):\n",
    "    assert len(source) == len(target)\n",
    "    return {\n",
    "        ord(a): ord(b)\n",
    "        for a, b in zip(source, target)\n",
    "    }\n",
    "\n",
    "\n",
    "DASHES_TRANSLATION = make_translation(\n",
    "    '‑–—−',\n",
    "    '----'\n",
    ")\n",
    "\n",
    "\n",
    "def preprocess(text):\n",
    "    text = text.replace('\\xa0', ' ')\n",
    "    text = text.replace('\\xad', '')\n",
    "    text = text.translate(DASHES_TRANSLATION)\n",
    "    return text\n",
    "    \n",
    "texts = []\n",
    "for path in sorted(glob('texts/*.txt')):\n",
    "    with open(path) as file:\n",
    "        text = file.read()\n",
    "        text = preprocess(text)\n",
    "        texts.append(text)"
   ],
   "outputs": [],
   "metadata": {}
  },
  {
   "cell_type": "code",
   "execution_count": 2,
   "source": [
    "from random import seed, sample\n",
    "\n",
    "seed(2)\n",
    "for text in sample(texts, 3):\n",
    "    print(text)\n",
    "    print('---' * 10)"
   ],
   "outputs": [
    {
     "output_type": "stream",
     "name": "stdout",
     "text": [
      "двое взрослых плюс ребенок 7 лет , Анталия, все включено\n",
      "------------------------------\n",
      "Хочу в Абхазию, чтобы отель были видны горы и море, на первой линии. Говорят что есть отели все включено\n",
      "------------------------------\n",
      "ДОбрый вечер! Хотим в Испанию с мужем и дочкой 3 года. Совместить пляжный отдых и экскурсии. Слышала про салоу, но там наверное дорогие отели? Можно же ареновать машину или как то по другому потом доехать до барселоны. Еще хотели бы посетить порт авентуру. Подскажите по ценам?\n",
      "------------------------------\n"
     ]
    }
   ],
   "metadata": {}
  },
  {
   "cell_type": "code",
   "execution_count": 3,
   "source": [
    "lines = []\n",
    "for text in texts:\n",
    "\tfor line in text.splitlines():\n",
    "\t\tlines.append(line)\n",
    "\t\t\n",
    "sample(lines, 3)"
   ],
   "outputs": [
    {
     "output_type": "execute_result",
     "data": {
      "text/plain": [
       "['Ну раз Турцию наконец то открыли, решили выбраться с семьей. Едем с мужем и двумя детьми (17 и 10). Муж и дети не любят активный отдых, им нужен шведский стол, море, бассейн, мужу мииниьар. Я бы хотела на экскурсии. Отель все включено не ниже хорошей четверки',\n",
       " 'Здравствуйте, мы с женой хотели бы полететь в Турцию, Анталия. По отелю следующее: первая линия, чистый пляж, не на 1 этаже номер:))), шведский стол и чтобы не шумно. Бюджет около ста. Спасибо',\n",
       " 'Мы с женой хотим отдохнуть в Белеке, в хорошем отеле на берегу. Номер должен быть обязательно с видом на море. Анимация не нужна, хороший алкоголь приветствуется. Что Вы можете предложить?']"
      ]
     },
     "metadata": {},
     "execution_count": 3
    }
   ],
   "metadata": {}
  },
  {
   "cell_type": "code",
   "execution_count": 19,
   "source": [
    "from IPython.display import display\n",
    "\n",
    "from ipymarkup import show_span_box_markup as show_markup\n",
    "\n",
    "from yargy import (\n",
    "    Parser,\n",
    "    or_, rule\n",
    ")\n",
    "from yargy.pipelines import morph_pipeline\n",
    "from yargy.predicates import (\n",
    "    eq, in_, dictionary,\n",
    "    type, gram\n",
    ")\n",
    "from yargy.tokenizer import MorphTokenizer\n",
    "from yargy import interpretation as interp\n",
    "from yargy.interpretation import fact, attribute\n",
    "\n",
    "\n",
    "def show_matches(rule, *lines):\n",
    "    parser = Parser(rule)\n",
    "    for line in lines:\n",
    "        matches = parser.findall(line)\n",
    "        matches = sorted(matches, key=lambda _: _.span)\n",
    "        spans = [_.span for _ in matches]\n",
    "        show_markup(line, spans)\n",
    "        if matches:\n",
    "            facts = [_.fact for _ in matches]\n",
    "            if len(facts) == 1:\n",
    "                facts = facts[0]\n",
    "            display(facts)\n",
    "\n",
    "INT = type('INT')\n",
    "NOUN = gram('NOUN')\n",
    "ADJF = gram('ADJF')\n",
    "PRTF = gram('PRTF')\n",
    "GENT = gram('gent')\n",
    "DOT = eq('.')\n",
    "\n",
    "\n",
    "TOKENIZER = MorphTokenizer()"
   ],
   "outputs": [],
   "metadata": {}
  },
  {
   "cell_type": "code",
   "execution_count": 33,
   "source": [
    "%run -n -i rules/budget.py\n",
    "\n",
    "parser = Parser(BUDGET)\n",
    "seed(1)\n",
    "for line in sample(lines, 30):\n",
    "    matches = list(parser.findall(line))\n",
    "    spans = [_.span for _ in matches]\n",
    "    show_markup(line, spans)\n",
    "    if matches:\n",
    "        match = matches[0]\n",
    "        display(match.tree.as_dot)\n",
    "        display(match.fact)\n"
   ],
   "outputs": [
    {
     "output_type": "display_data",
     "data": {
      "text/plain": [
       "<IPython.core.display.HTML object>"
      ],
      "text/html": [
       "<div class=\"tex2jax_ignore\" style=\"white-space: pre-wrap\">Здравствуйте. Мы бы хотели подобрать тур у вас. Хотим море, пляжный тур, нас двое (без детей). Нужно экономично, <span style=\"padding: 2px; border-radius: 4px; border: 1px solid #bbdefb; background: #e3f2fd\">минимальные затраты</span>(до 60). Но чтобы обязательно было море, спасибо)))</div>"
      ]
     },
     "metadata": {}
    },
    {
     "output_type": "display_data",
     "data": {
      "text/plain": [
       "Graph(nodes=[...], edges=[...])"
      ],
      "image/svg+xml": "<?xml version=\"1.0\" encoding=\"UTF-8\" standalone=\"no\"?>\n<!DOCTYPE svg PUBLIC \"-//W3C//DTD SVG 1.1//EN\"\n \"http://www.w3.org/Graphics/SVG/1.1/DTD/svg11.dtd\">\n<!-- Generated by graphviz version 2.48.0 (20210717.1556)\n -->\n<!-- Title: G Pages: 1 -->\n<svg width=\"203pt\" height=\"135pt\"\n viewBox=\"0.00 0.00 202.50 135.00\" xmlns=\"http://www.w3.org/2000/svg\" xmlns:xlink=\"http://www.w3.org/1999/xlink\">\n<g id=\"graph0\" class=\"graph\" transform=\"scale(1 1) rotate(0) translate(4 131)\">\n<title>G</title>\n<polygon fill=\"white\" stroke=\"transparent\" points=\"-4,4 -4,-131 198.5,-131 198.5,4 -4,4\"/>\n<!-- 0 -->\n<g id=\"node1\" class=\"node\">\n<title>0</title>\n<polygon fill=\"#dbdb8d\" stroke=\"transparent\" points=\"115,-127 67,-127 67,-108 115,-108 115,-127\"/>\n<text text-anchor=\"middle\" x=\"91\" y=\"-115\" font-family=\"sans\" font-size=\"10.00\">Budget</text>\n</g>\n<!-- 1 -->\n<g id=\"node2\" class=\"node\">\n<title>1</title>\n<polygon fill=\"#dbdb8d\" stroke=\"transparent\" points=\"84,-100 0,-100 0,-81 84,-81 84,-100\"/>\n<text text-anchor=\"middle\" x=\"42\" y=\"-88\" font-family=\"sans\" font-size=\"10.00\">Budget.amount</text>\n</g>\n<!-- 0&#45;&gt;1 -->\n<g id=\"edge1\" class=\"edge\">\n<title>0&#45;&gt;1</title>\n<path fill=\"none\" stroke=\"gray\" d=\"M74.14,-107.9C70.09,-105.83 65.73,-103.61 61.57,-101.48\"/>\n<polygon fill=\"gray\" stroke=\"gray\" points=\"61.88,-100.46 58.73,-100.03 60.92,-102.33 61.88,-100.46\"/>\n</g>\n<!-- 5 -->\n<g id=\"node6\" class=\"node\">\n<title>5</title>\n<polygon fill=\"#dbdb8d\" stroke=\"transparent\" points=\"194.5,-100 85.5,-100 85.5,-81 194.5,-81 194.5,-100\"/>\n<text text-anchor=\"middle\" x=\"140\" y=\"-88\" font-family=\"sans\" font-size=\"10.00\">Budget.budget_word</text>\n</g>\n<!-- 0&#45;&gt;5 -->\n<g id=\"edge2\" class=\"edge\">\n<title>0&#45;&gt;5</title>\n<path fill=\"none\" stroke=\"gray\" d=\"M107.86,-107.9C111.91,-105.83 116.27,-103.61 120.43,-101.48\"/>\n<polygon fill=\"gray\" stroke=\"gray\" points=\"121.08,-102.33 123.27,-100.03 120.12,-100.46 121.08,-102.33\"/>\n</g>\n<!-- 2 -->\n<g id=\"node3\" class=\"node\">\n<title>2</title>\n<polygon fill=\"#dbdb8d\" stroke=\"transparent\" points=\"67.5,-73 16.5,-73 16.5,-54 67.5,-54 67.5,-73\"/>\n<text text-anchor=\"middle\" x=\"42\" y=\"-61\" font-family=\"sans\" font-size=\"10.00\">Amount</text>\n</g>\n<!-- 1&#45;&gt;2 -->\n<g id=\"edge3\" class=\"edge\">\n<title>1&#45;&gt;2</title>\n<path fill=\"none\" stroke=\"gray\" d=\"M42,-80.76C42,-79.36 42,-77.9 42,-76.45\"/>\n<polygon fill=\"gray\" stroke=\"gray\" points=\"43.05,-76.11 42,-73.11 40.95,-76.11 43.05,-76.11\"/>\n</g>\n<!-- 3 -->\n<g id=\"node4\" class=\"node\">\n<title>3</title>\n<polygon fill=\"#dbdb8d\" stroke=\"transparent\" points=\"67.5,-46 16.5,-46 16.5,-27 67.5,-27 67.5,-46\"/>\n<text text-anchor=\"middle\" x=\"42\" y=\"-34\" font-family=\"sans\" font-size=\"10.00\">Minimal</text>\n</g>\n<!-- 2&#45;&gt;3 -->\n<g id=\"edge4\" class=\"edge\">\n<title>2&#45;&gt;3</title>\n<path fill=\"none\" stroke=\"gray\" d=\"M42,-53.76C42,-52.36 42,-50.9 42,-49.45\"/>\n<polygon fill=\"gray\" stroke=\"gray\" points=\"43.05,-49.11 42,-46.11 40.95,-49.11 43.05,-49.11\"/>\n</g>\n<!-- 4 -->\n<g id=\"node5\" class=\"node\">\n<title>4</title>\n<polygon fill=\"#eeeeee\" stroke=\"transparent\" points=\"83,-19 1,-19 1,0 83,0 83,-19\"/>\n<text text-anchor=\"middle\" x=\"42\" y=\"-7\" font-family=\"sans\" font-size=\"10.00\">минимальные</text>\n</g>\n<!-- 3&#45;&gt;4 -->\n<g id=\"edge5\" class=\"edge\">\n<title>3&#45;&gt;4</title>\n<path fill=\"none\" stroke=\"gray\" d=\"M42,-26.76C42,-25.36 42,-23.9 42,-22.45\"/>\n<polygon fill=\"gray\" stroke=\"gray\" points=\"43.05,-22.11 42,-19.11 40.95,-22.11 43.05,-22.11\"/>\n</g>\n<!-- 6 -->\n<g id=\"node7\" class=\"node\">\n<title>6</title>\n<polygon fill=\"#eeeeee\" stroke=\"transparent\" points=\"167.5,-73 112.5,-73 112.5,-54 167.5,-54 167.5,-73\"/>\n<text text-anchor=\"middle\" x=\"140\" y=\"-61\" font-family=\"sans\" font-size=\"10.00\">затраты</text>\n</g>\n<!-- 5&#45;&gt;6 -->\n<g id=\"edge6\" class=\"edge\">\n<title>5&#45;&gt;6</title>\n<path fill=\"none\" stroke=\"gray\" d=\"M140,-80.76C140,-79.36 140,-77.9 140,-76.45\"/>\n<polygon fill=\"gray\" stroke=\"gray\" points=\"141.05,-76.11 140,-73.11 138.95,-76.11 141.05,-76.11\"/>\n</g>\n</g>\n</svg>\n"
     },
     "metadata": {}
    },
    {
     "output_type": "display_data",
     "data": {
      "text/plain": [
       "Budget(\n",
       "    budget_word='затраты',\n",
       "    amount=Amount(\n",
       "        value=None\n",
       "    )\n",
       ")"
      ]
     },
     "metadata": {}
    },
    {
     "output_type": "display_data",
     "data": {
      "text/plain": [
       "<IPython.core.display.HTML object>"
      ],
      "text/html": [
       "<div class=\"tex2jax_ignore\" style=\"white-space: pre-wrap\">Доброго времени суток. Интересует Хайнань, слышал от друзей что им там понравилось семьей. Едем с женой, ищем отель в первой линии. <span style=\"padding: 2px; border-radius: 4px; border: 1px solid #bbdefb; background: #e3f2fd\">Бюджет до 70</span>.</div>"
      ]
     },
     "metadata": {}
    },
    {
     "output_type": "display_data",
     "data": {
      "text/plain": [
       "Graph(nodes=[...], edges=[...])"
      ],
      "image/svg+xml": "<?xml version=\"1.0\" encoding=\"UTF-8\" standalone=\"no\"?>\n<!DOCTYPE svg PUBLIC \"-//W3C//DTD SVG 1.1//EN\"\n \"http://www.w3.org/Graphics/SVG/1.1/DTD/svg11.dtd\">\n<!-- Generated by graphviz version 2.48.0 (20210717.1556)\n -->\n<!-- Title: G Pages: 1 -->\n<svg width=\"222pt\" height=\"216pt\"\n viewBox=\"0.00 0.00 221.50 216.00\" xmlns=\"http://www.w3.org/2000/svg\" xmlns:xlink=\"http://www.w3.org/1999/xlink\">\n<g id=\"graph0\" class=\"graph\" transform=\"scale(1 1) rotate(0) translate(4 212)\">\n<title>G</title>\n<polygon fill=\"white\" stroke=\"transparent\" points=\"-4,4 -4,-212 217.5,-212 217.5,4 -4,4\"/>\n<!-- 0 -->\n<g id=\"node1\" class=\"node\">\n<title>0</title>\n<polygon fill=\"#dbdb8d\" stroke=\"transparent\" points=\"127.5,-208 79.5,-208 79.5,-189 127.5,-189 127.5,-208\"/>\n<text text-anchor=\"middle\" x=\"103.5\" y=\"-196\" font-family=\"sans\" font-size=\"10.00\">Budget</text>\n</g>\n<!-- 1 -->\n<g id=\"node2\" class=\"node\">\n<title>1</title>\n<polygon fill=\"#dbdb8d\" stroke=\"transparent\" points=\"109,-181 0,-181 0,-162 109,-162 109,-181\"/>\n<text text-anchor=\"middle\" x=\"54.5\" y=\"-169\" font-family=\"sans\" font-size=\"10.00\">Budget.budget_word</text>\n</g>\n<!-- 0&#45;&gt;1 -->\n<g id=\"edge1\" class=\"edge\">\n<title>0&#45;&gt;1</title>\n<path fill=\"none\" stroke=\"gray\" d=\"M86.64,-188.9C82.59,-186.83 78.23,-184.61 74.07,-182.48\"/>\n<polygon fill=\"gray\" stroke=\"gray\" points=\"74.38,-181.46 71.23,-181.03 73.42,-183.33 74.38,-181.46\"/>\n</g>\n<!-- 3 -->\n<g id=\"node4\" class=\"node\">\n<title>3</title>\n<polygon fill=\"#dbdb8d\" stroke=\"transparent\" points=\"194.5,-181 110.5,-181 110.5,-162 194.5,-162 194.5,-181\"/>\n<text text-anchor=\"middle\" x=\"152.5\" y=\"-169\" font-family=\"sans\" font-size=\"10.00\">Budget.amount</text>\n</g>\n<!-- 0&#45;&gt;3 -->\n<g id=\"edge2\" class=\"edge\">\n<title>0&#45;&gt;3</title>\n<path fill=\"none\" stroke=\"gray\" d=\"M120.36,-188.9C124.41,-186.83 128.77,-184.61 132.93,-182.48\"/>\n<polygon fill=\"gray\" stroke=\"gray\" points=\"133.58,-183.33 135.77,-181.03 132.62,-181.46 133.58,-183.33\"/>\n</g>\n<!-- 2 -->\n<g id=\"node3\" class=\"node\">\n<title>2</title>\n<polygon fill=\"#eeeeee\" stroke=\"transparent\" points=\"82,-154 27,-154 27,-135 82,-135 82,-154\"/>\n<text text-anchor=\"middle\" x=\"54.5\" y=\"-142\" font-family=\"sans\" font-size=\"10.00\">Бюджет</text>\n</g>\n<!-- 1&#45;&gt;2 -->\n<g id=\"edge3\" class=\"edge\">\n<title>1&#45;&gt;2</title>\n<path fill=\"none\" stroke=\"gray\" d=\"M54.5,-161.76C54.5,-160.36 54.5,-158.9 54.5,-157.45\"/>\n<polygon fill=\"gray\" stroke=\"gray\" points=\"55.55,-157.11 54.5,-154.11 53.45,-157.11 55.55,-157.11\"/>\n</g>\n<!-- 4 -->\n<g id=\"node5\" class=\"node\">\n<title>4</title>\n<polygon fill=\"#dbdb8d\" stroke=\"transparent\" points=\"178,-154 127,-154 127,-135 178,-135 178,-154\"/>\n<text text-anchor=\"middle\" x=\"152.5\" y=\"-142\" font-family=\"sans\" font-size=\"10.00\">Amount</text>\n</g>\n<!-- 3&#45;&gt;4 -->\n<g id=\"edge4\" class=\"edge\">\n<title>3&#45;&gt;4</title>\n<path fill=\"none\" stroke=\"gray\" d=\"M152.5,-161.76C152.5,-160.36 152.5,-158.9 152.5,-157.45\"/>\n<polygon fill=\"gray\" stroke=\"gray\" points=\"153.55,-157.11 152.5,-154.11 151.45,-157.11 153.55,-157.11\"/>\n</g>\n<!-- 5 -->\n<g id=\"node6\" class=\"node\">\n<title>5</title>\n<polygon fill=\"#dbdb8d\" stroke=\"transparent\" points=\"175.5,-127 129.5,-127 129.5,-108 175.5,-108 175.5,-127\"/>\n<text text-anchor=\"middle\" x=\"152.5\" y=\"-115\" font-family=\"sans\" font-size=\"10.00\">Range</text>\n</g>\n<!-- 4&#45;&gt;5 -->\n<g id=\"edge5\" class=\"edge\">\n<title>4&#45;&gt;5</title>\n<path fill=\"none\" stroke=\"gray\" d=\"M152.5,-134.76C152.5,-133.36 152.5,-131.9 152.5,-130.45\"/>\n<polygon fill=\"gray\" stroke=\"gray\" points=\"153.55,-130.11 152.5,-127.11 151.45,-130.11 153.55,-130.11\"/>\n</g>\n<!-- 6 -->\n<g id=\"node7\" class=\"node\">\n<title>6</title>\n<polygon fill=\"#aec7e8\" stroke=\"transparent\" points=\"144,-100 109,-100 109,-81 144,-81 144,-100\"/>\n<text text-anchor=\"middle\" x=\"126.5\" y=\"-88\" font-family=\"sans\" font-size=\"10.00\">R13</text>\n</g>\n<!-- 5&#45;&gt;6 -->\n<g id=\"edge6\" class=\"edge\">\n<title>5&#45;&gt;6</title>\n<path fill=\"none\" stroke=\"gray\" d=\"M143.41,-107.76C141.55,-105.98 139.58,-104.08 137.67,-102.24\"/>\n<polygon fill=\"gray\" stroke=\"gray\" points=\"138.35,-101.43 135.46,-100.11 136.89,-102.95 138.35,-101.43\"/>\n</g>\n<!-- 8 -->\n<g id=\"node9\" class=\"node\">\n<title>8</title>\n<polygon fill=\"#dbdb8d\" stroke=\"transparent\" points=\"213.5,-100 145.5,-100 145.5,-81 213.5,-81 213.5,-100\"/>\n<text text-anchor=\"middle\" x=\"179.5\" y=\"-88\" font-family=\"sans\" font-size=\"10.00\">Range.stop</text>\n</g>\n<!-- 5&#45;&gt;8 -->\n<g id=\"edge7\" class=\"edge\">\n<title>5&#45;&gt;8</title>\n<path fill=\"none\" stroke=\"gray\" d=\"M161.94,-107.76C163.87,-105.98 165.91,-104.08 167.9,-102.24\"/>\n<polygon fill=\"gray\" stroke=\"gray\" points=\"168.71,-102.92 170.2,-100.11 167.28,-101.38 168.71,-102.92\"/>\n</g>\n<!-- 7 -->\n<g id=\"node8\" class=\"node\">\n<title>7</title>\n<polygon fill=\"#eeeeee\" stroke=\"transparent\" points=\"140.5,-73 112.5,-73 112.5,-54 140.5,-54 140.5,-73\"/>\n<text text-anchor=\"middle\" x=\"126.5\" y=\"-61\" font-family=\"sans\" font-size=\"10.00\">до</text>\n</g>\n<!-- 6&#45;&gt;7 -->\n<g id=\"edge8\" class=\"edge\">\n<title>6&#45;&gt;7</title>\n<path fill=\"none\" stroke=\"gray\" d=\"M126.5,-80.76C126.5,-79.36 126.5,-77.9 126.5,-76.45\"/>\n<polygon fill=\"gray\" stroke=\"gray\" points=\"127.55,-76.11 126.5,-73.11 125.45,-76.11 127.55,-76.11\"/>\n</g>\n<!-- 9 -->\n<g id=\"node10\" class=\"node\">\n<title>9</title>\n<polygon fill=\"#aec7e8\" stroke=\"transparent\" points=\"194,-73 165,-73 165,-54 194,-54 194,-73\"/>\n<text text-anchor=\"middle\" x=\"179.5\" y=\"-61\" font-family=\"sans\" font-size=\"10.00\">R5</text>\n</g>\n<!-- 8&#45;&gt;9 -->\n<g id=\"edge9\" class=\"edge\">\n<title>8&#45;&gt;9</title>\n<path fill=\"none\" stroke=\"gray\" d=\"M179.5,-80.76C179.5,-79.36 179.5,-77.9 179.5,-76.45\"/>\n<polygon fill=\"gray\" stroke=\"gray\" points=\"180.55,-76.11 179.5,-73.11 178.45,-76.11 180.55,-76.11\"/>\n</g>\n<!-- 10 -->\n<g id=\"node11\" class=\"node\">\n<title>10</title>\n<polygon fill=\"#dbdb8d\" stroke=\"transparent\" points=\"212.5,-46 146.5,-46 146.5,-27 212.5,-27 212.5,-46\"/>\n<text text-anchor=\"middle\" x=\"179.5\" y=\"-34\" font-family=\"sans\" font-size=\"10.00\">custom(int)</text>\n</g>\n<!-- 9&#45;&gt;10 -->\n<g id=\"edge10\" class=\"edge\">\n<title>9&#45;&gt;10</title>\n<path fill=\"none\" stroke=\"gray\" d=\"M179.5,-53.76C179.5,-52.36 179.5,-50.9 179.5,-49.45\"/>\n<polygon fill=\"gray\" stroke=\"gray\" points=\"180.55,-49.11 179.5,-46.11 178.45,-49.11 180.55,-49.11\"/>\n</g>\n<!-- 11 -->\n<g id=\"node12\" class=\"node\">\n<title>11</title>\n<polygon fill=\"#eeeeee\" stroke=\"transparent\" points=\"193.5,-19 165.5,-19 165.5,0 193.5,0 193.5,-19\"/>\n<text text-anchor=\"middle\" x=\"179.5\" y=\"-7\" font-family=\"sans\" font-size=\"10.00\">70</text>\n</g>\n<!-- 10&#45;&gt;11 -->\n<g id=\"edge11\" class=\"edge\">\n<title>10&#45;&gt;11</title>\n<path fill=\"none\" stroke=\"gray\" d=\"M179.5,-26.76C179.5,-25.36 179.5,-23.9 179.5,-22.45\"/>\n<polygon fill=\"gray\" stroke=\"gray\" points=\"180.55,-22.11 179.5,-19.11 178.45,-22.11 180.55,-22.11\"/>\n</g>\n</g>\n</svg>\n"
     },
     "metadata": {}
    },
    {
     "output_type": "display_data",
     "data": {
      "text/plain": [
       "Budget(\n",
       "    budget_word='Бюджет',\n",
       "    amount=Amount(\n",
       "        value=None\n",
       "    )\n",
       ")"
      ]
     },
     "metadata": {}
    },
    {
     "output_type": "display_data",
     "data": {
      "text/plain": [
       "<IPython.core.display.HTML object>"
      ],
      "text/html": [
       "<div class=\"tex2jax_ignore\" style=\"white-space: pre-wrap\">Ищем отдых ОАЭ, Турция, Тунис, Египет. Период с 10 сентяря до 25 сентября. Количество ночей от 10. <span style=\"padding: 2px; border-radius: 4px; border: 1px solid #bbdefb; background: #e3f2fd\">Бюджет до 180000</span>. 2взр и 2 ребенка.</div>"
      ]
     },
     "metadata": {}
    },
    {
     "output_type": "display_data",
     "data": {
      "text/plain": [
       "Graph(nodes=[...], edges=[...])"
      ],
      "image/svg+xml": "<?xml version=\"1.0\" encoding=\"UTF-8\" standalone=\"no\"?>\n<!DOCTYPE svg PUBLIC \"-//W3C//DTD SVG 1.1//EN\"\n \"http://www.w3.org/Graphics/SVG/1.1/DTD/svg11.dtd\">\n<!-- Generated by graphviz version 2.48.0 (20210717.1556)\n -->\n<!-- Title: G Pages: 1 -->\n<svg width=\"222pt\" height=\"216pt\"\n viewBox=\"0.00 0.00 221.50 216.00\" xmlns=\"http://www.w3.org/2000/svg\" xmlns:xlink=\"http://www.w3.org/1999/xlink\">\n<g id=\"graph0\" class=\"graph\" transform=\"scale(1 1) rotate(0) translate(4 212)\">\n<title>G</title>\n<polygon fill=\"white\" stroke=\"transparent\" points=\"-4,4 -4,-212 217.5,-212 217.5,4 -4,4\"/>\n<!-- 0 -->\n<g id=\"node1\" class=\"node\">\n<title>0</title>\n<polygon fill=\"#dbdb8d\" stroke=\"transparent\" points=\"127.5,-208 79.5,-208 79.5,-189 127.5,-189 127.5,-208\"/>\n<text text-anchor=\"middle\" x=\"103.5\" y=\"-196\" font-family=\"sans\" font-size=\"10.00\">Budget</text>\n</g>\n<!-- 1 -->\n<g id=\"node2\" class=\"node\">\n<title>1</title>\n<polygon fill=\"#dbdb8d\" stroke=\"transparent\" points=\"109,-181 0,-181 0,-162 109,-162 109,-181\"/>\n<text text-anchor=\"middle\" x=\"54.5\" y=\"-169\" font-family=\"sans\" font-size=\"10.00\">Budget.budget_word</text>\n</g>\n<!-- 0&#45;&gt;1 -->\n<g id=\"edge1\" class=\"edge\">\n<title>0&#45;&gt;1</title>\n<path fill=\"none\" stroke=\"gray\" d=\"M86.64,-188.9C82.59,-186.83 78.23,-184.61 74.07,-182.48\"/>\n<polygon fill=\"gray\" stroke=\"gray\" points=\"74.38,-181.46 71.23,-181.03 73.42,-183.33 74.38,-181.46\"/>\n</g>\n<!-- 3 -->\n<g id=\"node4\" class=\"node\">\n<title>3</title>\n<polygon fill=\"#dbdb8d\" stroke=\"transparent\" points=\"194.5,-181 110.5,-181 110.5,-162 194.5,-162 194.5,-181\"/>\n<text text-anchor=\"middle\" x=\"152.5\" y=\"-169\" font-family=\"sans\" font-size=\"10.00\">Budget.amount</text>\n</g>\n<!-- 0&#45;&gt;3 -->\n<g id=\"edge2\" class=\"edge\">\n<title>0&#45;&gt;3</title>\n<path fill=\"none\" stroke=\"gray\" d=\"M120.36,-188.9C124.41,-186.83 128.77,-184.61 132.93,-182.48\"/>\n<polygon fill=\"gray\" stroke=\"gray\" points=\"133.58,-183.33 135.77,-181.03 132.62,-181.46 133.58,-183.33\"/>\n</g>\n<!-- 2 -->\n<g id=\"node3\" class=\"node\">\n<title>2</title>\n<polygon fill=\"#eeeeee\" stroke=\"transparent\" points=\"82,-154 27,-154 27,-135 82,-135 82,-154\"/>\n<text text-anchor=\"middle\" x=\"54.5\" y=\"-142\" font-family=\"sans\" font-size=\"10.00\">Бюджет</text>\n</g>\n<!-- 1&#45;&gt;2 -->\n<g id=\"edge3\" class=\"edge\">\n<title>1&#45;&gt;2</title>\n<path fill=\"none\" stroke=\"gray\" d=\"M54.5,-161.76C54.5,-160.36 54.5,-158.9 54.5,-157.45\"/>\n<polygon fill=\"gray\" stroke=\"gray\" points=\"55.55,-157.11 54.5,-154.11 53.45,-157.11 55.55,-157.11\"/>\n</g>\n<!-- 4 -->\n<g id=\"node5\" class=\"node\">\n<title>4</title>\n<polygon fill=\"#dbdb8d\" stroke=\"transparent\" points=\"178,-154 127,-154 127,-135 178,-135 178,-154\"/>\n<text text-anchor=\"middle\" x=\"152.5\" y=\"-142\" font-family=\"sans\" font-size=\"10.00\">Amount</text>\n</g>\n<!-- 3&#45;&gt;4 -->\n<g id=\"edge4\" class=\"edge\">\n<title>3&#45;&gt;4</title>\n<path fill=\"none\" stroke=\"gray\" d=\"M152.5,-161.76C152.5,-160.36 152.5,-158.9 152.5,-157.45\"/>\n<polygon fill=\"gray\" stroke=\"gray\" points=\"153.55,-157.11 152.5,-154.11 151.45,-157.11 153.55,-157.11\"/>\n</g>\n<!-- 5 -->\n<g id=\"node6\" class=\"node\">\n<title>5</title>\n<polygon fill=\"#dbdb8d\" stroke=\"transparent\" points=\"175.5,-127 129.5,-127 129.5,-108 175.5,-108 175.5,-127\"/>\n<text text-anchor=\"middle\" x=\"152.5\" y=\"-115\" font-family=\"sans\" font-size=\"10.00\">Range</text>\n</g>\n<!-- 4&#45;&gt;5 -->\n<g id=\"edge5\" class=\"edge\">\n<title>4&#45;&gt;5</title>\n<path fill=\"none\" stroke=\"gray\" d=\"M152.5,-134.76C152.5,-133.36 152.5,-131.9 152.5,-130.45\"/>\n<polygon fill=\"gray\" stroke=\"gray\" points=\"153.55,-130.11 152.5,-127.11 151.45,-130.11 153.55,-130.11\"/>\n</g>\n<!-- 6 -->\n<g id=\"node7\" class=\"node\">\n<title>6</title>\n<polygon fill=\"#aec7e8\" stroke=\"transparent\" points=\"144,-100 109,-100 109,-81 144,-81 144,-100\"/>\n<text text-anchor=\"middle\" x=\"126.5\" y=\"-88\" font-family=\"sans\" font-size=\"10.00\">R13</text>\n</g>\n<!-- 5&#45;&gt;6 -->\n<g id=\"edge6\" class=\"edge\">\n<title>5&#45;&gt;6</title>\n<path fill=\"none\" stroke=\"gray\" d=\"M143.41,-107.76C141.55,-105.98 139.58,-104.08 137.67,-102.24\"/>\n<polygon fill=\"gray\" stroke=\"gray\" points=\"138.35,-101.43 135.46,-100.11 136.89,-102.95 138.35,-101.43\"/>\n</g>\n<!-- 8 -->\n<g id=\"node9\" class=\"node\">\n<title>8</title>\n<polygon fill=\"#dbdb8d\" stroke=\"transparent\" points=\"213.5,-100 145.5,-100 145.5,-81 213.5,-81 213.5,-100\"/>\n<text text-anchor=\"middle\" x=\"179.5\" y=\"-88\" font-family=\"sans\" font-size=\"10.00\">Range.stop</text>\n</g>\n<!-- 5&#45;&gt;8 -->\n<g id=\"edge7\" class=\"edge\">\n<title>5&#45;&gt;8</title>\n<path fill=\"none\" stroke=\"gray\" d=\"M161.94,-107.76C163.87,-105.98 165.91,-104.08 167.9,-102.24\"/>\n<polygon fill=\"gray\" stroke=\"gray\" points=\"168.71,-102.92 170.2,-100.11 167.28,-101.38 168.71,-102.92\"/>\n</g>\n<!-- 7 -->\n<g id=\"node8\" class=\"node\">\n<title>7</title>\n<polygon fill=\"#eeeeee\" stroke=\"transparent\" points=\"140.5,-73 112.5,-73 112.5,-54 140.5,-54 140.5,-73\"/>\n<text text-anchor=\"middle\" x=\"126.5\" y=\"-61\" font-family=\"sans\" font-size=\"10.00\">до</text>\n</g>\n<!-- 6&#45;&gt;7 -->\n<g id=\"edge8\" class=\"edge\">\n<title>6&#45;&gt;7</title>\n<path fill=\"none\" stroke=\"gray\" d=\"M126.5,-80.76C126.5,-79.36 126.5,-77.9 126.5,-76.45\"/>\n<polygon fill=\"gray\" stroke=\"gray\" points=\"127.55,-76.11 126.5,-73.11 125.45,-76.11 127.55,-76.11\"/>\n</g>\n<!-- 9 -->\n<g id=\"node10\" class=\"node\">\n<title>9</title>\n<polygon fill=\"#aec7e8\" stroke=\"transparent\" points=\"194,-73 165,-73 165,-54 194,-54 194,-73\"/>\n<text text-anchor=\"middle\" x=\"179.5\" y=\"-61\" font-family=\"sans\" font-size=\"10.00\">R5</text>\n</g>\n<!-- 8&#45;&gt;9 -->\n<g id=\"edge9\" class=\"edge\">\n<title>8&#45;&gt;9</title>\n<path fill=\"none\" stroke=\"gray\" d=\"M179.5,-80.76C179.5,-79.36 179.5,-77.9 179.5,-76.45\"/>\n<polygon fill=\"gray\" stroke=\"gray\" points=\"180.55,-76.11 179.5,-73.11 178.45,-76.11 180.55,-76.11\"/>\n</g>\n<!-- 10 -->\n<g id=\"node11\" class=\"node\">\n<title>10</title>\n<polygon fill=\"#dbdb8d\" stroke=\"transparent\" points=\"212.5,-46 146.5,-46 146.5,-27 212.5,-27 212.5,-46\"/>\n<text text-anchor=\"middle\" x=\"179.5\" y=\"-34\" font-family=\"sans\" font-size=\"10.00\">custom(int)</text>\n</g>\n<!-- 9&#45;&gt;10 -->\n<g id=\"edge10\" class=\"edge\">\n<title>9&#45;&gt;10</title>\n<path fill=\"none\" stroke=\"gray\" d=\"M179.5,-53.76C179.5,-52.36 179.5,-50.9 179.5,-49.45\"/>\n<polygon fill=\"gray\" stroke=\"gray\" points=\"180.55,-49.11 179.5,-46.11 178.45,-49.11 180.55,-49.11\"/>\n</g>\n<!-- 11 -->\n<g id=\"node12\" class=\"node\">\n<title>11</title>\n<polygon fill=\"#eeeeee\" stroke=\"transparent\" points=\"204.5,-19 154.5,-19 154.5,0 204.5,0 204.5,-19\"/>\n<text text-anchor=\"middle\" x=\"179.5\" y=\"-7\" font-family=\"sans\" font-size=\"10.00\">180000</text>\n</g>\n<!-- 10&#45;&gt;11 -->\n<g id=\"edge11\" class=\"edge\">\n<title>10&#45;&gt;11</title>\n<path fill=\"none\" stroke=\"gray\" d=\"M179.5,-26.76C179.5,-25.36 179.5,-23.9 179.5,-22.45\"/>\n<polygon fill=\"gray\" stroke=\"gray\" points=\"180.55,-22.11 179.5,-19.11 178.45,-22.11 180.55,-22.11\"/>\n</g>\n</g>\n</svg>\n"
     },
     "metadata": {}
    },
    {
     "output_type": "display_data",
     "data": {
      "text/plain": [
       "Budget(\n",
       "    budget_word='Бюджет',\n",
       "    amount=Amount(\n",
       "        value=None\n",
       "    )\n",
       ")"
      ]
     },
     "metadata": {}
    },
    {
     "output_type": "display_data",
     "data": {
      "text/plain": [
       "<IPython.core.display.HTML object>"
      ],
      "text/html": [
       "<div class=\"tex2jax_ignore\" style=\"white-space: pre-wrap\">Добрый день! Ищем пляжный отдых для пары, отель не ниже 4, трансфер из аэропорта. Не особо дорого, <span style=\"padding: 2px; border-radius: 4px; border: 1px solid #bbdefb; background: #e3f2fd\">около 50-70</span>.</div>"
      ]
     },
     "metadata": {}
    },
    {
     "output_type": "display_data",
     "data": {
      "text/plain": [
       "Graph(nodes=[...], edges=[...])"
      ],
      "image/svg+xml": "<?xml version=\"1.0\" encoding=\"UTF-8\" standalone=\"no\"?>\n<!DOCTYPE svg PUBLIC \"-//W3C//DTD SVG 1.1//EN\"\n \"http://www.w3.org/Graphics/SVG/1.1/DTD/svg11.dtd\">\n<!-- Generated by graphviz version 2.48.0 (20210717.1556)\n -->\n<!-- Title: G Pages: 1 -->\n<svg width=\"240pt\" height=\"216pt\"\n viewBox=\"0.00 0.00 239.50 216.00\" xmlns=\"http://www.w3.org/2000/svg\" xmlns:xlink=\"http://www.w3.org/1999/xlink\">\n<g id=\"graph0\" class=\"graph\" transform=\"scale(1 1) rotate(0) translate(4 212)\">\n<title>G</title>\n<polygon fill=\"white\" stroke=\"transparent\" points=\"-4,4 -4,-212 235.5,-212 235.5,4 -4,4\"/>\n<!-- 0 -->\n<g id=\"node1\" class=\"node\">\n<title>0</title>\n<polygon fill=\"#dbdb8d\" stroke=\"transparent\" points=\"127.5,-208 79.5,-208 79.5,-189 127.5,-189 127.5,-208\"/>\n<text text-anchor=\"middle\" x=\"103.5\" y=\"-196\" font-family=\"sans\" font-size=\"10.00\">Budget</text>\n</g>\n<!-- 1 -->\n<g id=\"node2\" class=\"node\">\n<title>1</title>\n<polygon fill=\"#dbdb8d\" stroke=\"transparent\" points=\"109,-181 0,-181 0,-162 109,-162 109,-181\"/>\n<text text-anchor=\"middle\" x=\"54.5\" y=\"-169\" font-family=\"sans\" font-size=\"10.00\">Budget.budget_word</text>\n</g>\n<!-- 0&#45;&gt;1 -->\n<g id=\"edge1\" class=\"edge\">\n<title>0&#45;&gt;1</title>\n<path fill=\"none\" stroke=\"gray\" d=\"M86.64,-188.9C82.59,-186.83 78.23,-184.61 74.07,-182.48\"/>\n<polygon fill=\"gray\" stroke=\"gray\" points=\"74.38,-181.46 71.23,-181.03 73.42,-183.33 74.38,-181.46\"/>\n</g>\n<!-- 3 -->\n<g id=\"node4\" class=\"node\">\n<title>3</title>\n<polygon fill=\"#dbdb8d\" stroke=\"transparent\" points=\"194.5,-181 110.5,-181 110.5,-162 194.5,-162 194.5,-181\"/>\n<text text-anchor=\"middle\" x=\"152.5\" y=\"-169\" font-family=\"sans\" font-size=\"10.00\">Budget.amount</text>\n</g>\n<!-- 0&#45;&gt;3 -->\n<g id=\"edge2\" class=\"edge\">\n<title>0&#45;&gt;3</title>\n<path fill=\"none\" stroke=\"gray\" d=\"M120.36,-188.9C124.41,-186.83 128.77,-184.61 132.93,-182.48\"/>\n<polygon fill=\"gray\" stroke=\"gray\" points=\"133.58,-183.33 135.77,-181.03 132.62,-181.46 133.58,-183.33\"/>\n</g>\n<!-- 2 -->\n<g id=\"node3\" class=\"node\">\n<title>2</title>\n<polygon fill=\"#eeeeee\" stroke=\"transparent\" points=\"76.5,-154 32.5,-154 32.5,-135 76.5,-135 76.5,-154\"/>\n<text text-anchor=\"middle\" x=\"54.5\" y=\"-142\" font-family=\"sans\" font-size=\"10.00\">около</text>\n</g>\n<!-- 1&#45;&gt;2 -->\n<g id=\"edge3\" class=\"edge\">\n<title>1&#45;&gt;2</title>\n<path fill=\"none\" stroke=\"gray\" d=\"M54.5,-161.76C54.5,-160.36 54.5,-158.9 54.5,-157.45\"/>\n<polygon fill=\"gray\" stroke=\"gray\" points=\"55.55,-157.11 54.5,-154.11 53.45,-157.11 55.55,-157.11\"/>\n</g>\n<!-- 4 -->\n<g id=\"node5\" class=\"node\">\n<title>4</title>\n<polygon fill=\"#dbdb8d\" stroke=\"transparent\" points=\"178,-154 127,-154 127,-135 178,-135 178,-154\"/>\n<text text-anchor=\"middle\" x=\"152.5\" y=\"-142\" font-family=\"sans\" font-size=\"10.00\">Amount</text>\n</g>\n<!-- 3&#45;&gt;4 -->\n<g id=\"edge4\" class=\"edge\">\n<title>3&#45;&gt;4</title>\n<path fill=\"none\" stroke=\"gray\" d=\"M152.5,-161.76C152.5,-160.36 152.5,-158.9 152.5,-157.45\"/>\n<polygon fill=\"gray\" stroke=\"gray\" points=\"153.55,-157.11 152.5,-154.11 151.45,-157.11 153.55,-157.11\"/>\n</g>\n<!-- 5 -->\n<g id=\"node6\" class=\"node\">\n<title>5</title>\n<polygon fill=\"#dbdb8d\" stroke=\"transparent\" points=\"175.5,-127 129.5,-127 129.5,-108 175.5,-108 175.5,-127\"/>\n<text text-anchor=\"middle\" x=\"152.5\" y=\"-115\" font-family=\"sans\" font-size=\"10.00\">Range</text>\n</g>\n<!-- 4&#45;&gt;5 -->\n<g id=\"edge5\" class=\"edge\">\n<title>4&#45;&gt;5</title>\n<path fill=\"none\" stroke=\"gray\" d=\"M152.5,-134.76C152.5,-133.36 152.5,-131.9 152.5,-130.45\"/>\n<polygon fill=\"gray\" stroke=\"gray\" points=\"153.55,-130.11 152.5,-127.11 151.45,-130.11 153.55,-130.11\"/>\n</g>\n<!-- 6 -->\n<g id=\"node7\" class=\"node\">\n<title>6</title>\n<polygon fill=\"#dbdb8d\" stroke=\"transparent\" points=\"141.5,-100 73.5,-100 73.5,-81 141.5,-81 141.5,-100\"/>\n<text text-anchor=\"middle\" x=\"107.5\" y=\"-88\" font-family=\"sans\" font-size=\"10.00\">Range.start</text>\n</g>\n<!-- 5&#45;&gt;6 -->\n<g id=\"edge6\" class=\"edge\">\n<title>5&#45;&gt;6</title>\n<path fill=\"none\" stroke=\"gray\" d=\"M137.01,-107.9C133.44,-105.91 129.6,-103.78 125.91,-101.73\"/>\n<polygon fill=\"gray\" stroke=\"gray\" points=\"125.99,-100.57 122.86,-100.03 124.98,-102.41 125.99,-100.57\"/>\n</g>\n<!-- 10 -->\n<g id=\"node11\" class=\"node\">\n<title>10</title>\n<polygon fill=\"#eeeeee\" stroke=\"transparent\" points=\"162.5,-100 142.5,-100 142.5,-81 162.5,-81 162.5,-100\"/>\n<text text-anchor=\"middle\" x=\"152.5\" y=\"-88\" font-family=\"sans\" font-size=\"10.00\">&#45;</text>\n</g>\n<!-- 5&#45;&gt;10 -->\n<g id=\"edge7\" class=\"edge\">\n<title>5&#45;&gt;10</title>\n<path fill=\"none\" stroke=\"gray\" d=\"M152.5,-107.76C152.5,-106.36 152.5,-104.9 152.5,-103.45\"/>\n<polygon fill=\"gray\" stroke=\"gray\" points=\"153.55,-103.11 152.5,-100.11 151.45,-103.11 153.55,-103.11\"/>\n</g>\n<!-- 11 -->\n<g id=\"node12\" class=\"node\">\n<title>11</title>\n<polygon fill=\"#dbdb8d\" stroke=\"transparent\" points=\"231.5,-100 163.5,-100 163.5,-81 231.5,-81 231.5,-100\"/>\n<text text-anchor=\"middle\" x=\"197.5\" y=\"-88\" font-family=\"sans\" font-size=\"10.00\">Range.stop</text>\n</g>\n<!-- 5&#45;&gt;11 -->\n<g id=\"edge8\" class=\"edge\">\n<title>5&#45;&gt;11</title>\n<path fill=\"none\" stroke=\"gray\" d=\"M167.99,-107.9C171.56,-105.91 175.4,-103.78 179.09,-101.73\"/>\n<polygon fill=\"gray\" stroke=\"gray\" points=\"180.02,-102.41 182.14,-100.03 179.01,-100.57 180.02,-102.41\"/>\n</g>\n<!-- 7 -->\n<g id=\"node8\" class=\"node\">\n<title>7</title>\n<polygon fill=\"#aec7e8\" stroke=\"transparent\" points=\"122,-73 93,-73 93,-54 122,-54 122,-73\"/>\n<text text-anchor=\"middle\" x=\"107.5\" y=\"-61\" font-family=\"sans\" font-size=\"10.00\">R5</text>\n</g>\n<!-- 6&#45;&gt;7 -->\n<g id=\"edge9\" class=\"edge\">\n<title>6&#45;&gt;7</title>\n<path fill=\"none\" stroke=\"gray\" d=\"M107.5,-80.76C107.5,-79.36 107.5,-77.9 107.5,-76.45\"/>\n<polygon fill=\"gray\" stroke=\"gray\" points=\"108.55,-76.11 107.5,-73.11 106.45,-76.11 108.55,-76.11\"/>\n</g>\n<!-- 8 -->\n<g id=\"node9\" class=\"node\">\n<title>8</title>\n<polygon fill=\"#dbdb8d\" stroke=\"transparent\" points=\"140.5,-46 74.5,-46 74.5,-27 140.5,-27 140.5,-46\"/>\n<text text-anchor=\"middle\" x=\"107.5\" y=\"-34\" font-family=\"sans\" font-size=\"10.00\">custom(int)</text>\n</g>\n<!-- 7&#45;&gt;8 -->\n<g id=\"edge10\" class=\"edge\">\n<title>7&#45;&gt;8</title>\n<path fill=\"none\" stroke=\"gray\" d=\"M107.5,-53.76C107.5,-52.36 107.5,-50.9 107.5,-49.45\"/>\n<polygon fill=\"gray\" stroke=\"gray\" points=\"108.55,-49.11 107.5,-46.11 106.45,-49.11 108.55,-49.11\"/>\n</g>\n<!-- 9 -->\n<g id=\"node10\" class=\"node\">\n<title>9</title>\n<polygon fill=\"#eeeeee\" stroke=\"transparent\" points=\"121.5,-19 93.5,-19 93.5,0 121.5,0 121.5,-19\"/>\n<text text-anchor=\"middle\" x=\"107.5\" y=\"-7\" font-family=\"sans\" font-size=\"10.00\">50</text>\n</g>\n<!-- 8&#45;&gt;9 -->\n<g id=\"edge11\" class=\"edge\">\n<title>8&#45;&gt;9</title>\n<path fill=\"none\" stroke=\"gray\" d=\"M107.5,-26.76C107.5,-25.36 107.5,-23.9 107.5,-22.45\"/>\n<polygon fill=\"gray\" stroke=\"gray\" points=\"108.55,-22.11 107.5,-19.11 106.45,-22.11 108.55,-22.11\"/>\n</g>\n<!-- 12 -->\n<g id=\"node13\" class=\"node\">\n<title>12</title>\n<polygon fill=\"#aec7e8\" stroke=\"transparent\" points=\"212,-73 183,-73 183,-54 212,-54 212,-73\"/>\n<text text-anchor=\"middle\" x=\"197.5\" y=\"-61\" font-family=\"sans\" font-size=\"10.00\">R5</text>\n</g>\n<!-- 11&#45;&gt;12 -->\n<g id=\"edge12\" class=\"edge\">\n<title>11&#45;&gt;12</title>\n<path fill=\"none\" stroke=\"gray\" d=\"M197.5,-80.76C197.5,-79.36 197.5,-77.9 197.5,-76.45\"/>\n<polygon fill=\"gray\" stroke=\"gray\" points=\"198.55,-76.11 197.5,-73.11 196.45,-76.11 198.55,-76.11\"/>\n</g>\n<!-- 13 -->\n<g id=\"node14\" class=\"node\">\n<title>13</title>\n<polygon fill=\"#dbdb8d\" stroke=\"transparent\" points=\"230.5,-46 164.5,-46 164.5,-27 230.5,-27 230.5,-46\"/>\n<text text-anchor=\"middle\" x=\"197.5\" y=\"-34\" font-family=\"sans\" font-size=\"10.00\">custom(int)</text>\n</g>\n<!-- 12&#45;&gt;13 -->\n<g id=\"edge13\" class=\"edge\">\n<title>12&#45;&gt;13</title>\n<path fill=\"none\" stroke=\"gray\" d=\"M197.5,-53.76C197.5,-52.36 197.5,-50.9 197.5,-49.45\"/>\n<polygon fill=\"gray\" stroke=\"gray\" points=\"198.55,-49.11 197.5,-46.11 196.45,-49.11 198.55,-49.11\"/>\n</g>\n<!-- 14 -->\n<g id=\"node15\" class=\"node\">\n<title>14</title>\n<polygon fill=\"#eeeeee\" stroke=\"transparent\" points=\"211.5,-19 183.5,-19 183.5,0 211.5,0 211.5,-19\"/>\n<text text-anchor=\"middle\" x=\"197.5\" y=\"-7\" font-family=\"sans\" font-size=\"10.00\">70</text>\n</g>\n<!-- 13&#45;&gt;14 -->\n<g id=\"edge14\" class=\"edge\">\n<title>13&#45;&gt;14</title>\n<path fill=\"none\" stroke=\"gray\" d=\"M197.5,-26.76C197.5,-25.36 197.5,-23.9 197.5,-22.45\"/>\n<polygon fill=\"gray\" stroke=\"gray\" points=\"198.55,-22.11 197.5,-19.11 196.45,-22.11 198.55,-22.11\"/>\n</g>\n</g>\n</svg>\n"
     },
     "metadata": {}
    },
    {
     "output_type": "display_data",
     "data": {
      "text/plain": [
       "Budget(\n",
       "    budget_word='около',\n",
       "    amount=Amount(\n",
       "        value=None\n",
       "    )\n",
       ")"
      ]
     },
     "metadata": {}
    },
    {
     "output_type": "display_data",
     "data": {
      "text/plain": [
       "<IPython.core.display.HTML object>"
      ],
      "text/html": [
       "<div class=\"tex2jax_ignore\" style=\"white-space: pre-wrap\">Хотим нормальную пятерку, первая линия, чтобы был красивый пейзаж. двое взрослых + маленький ребенок 5 лет. По <span style=\"padding: 2px; border-radius: 4px; border: 1px solid #bbdefb; background: #e3f2fd\">стоимости до 100</span>. Что посоветуете?</div>"
      ]
     },
     "metadata": {}
    },
    {
     "output_type": "display_data",
     "data": {
      "text/plain": [
       "Graph(nodes=[...], edges=[...])"
      ],
      "image/svg+xml": "<?xml version=\"1.0\" encoding=\"UTF-8\" standalone=\"no\"?>\n<!DOCTYPE svg PUBLIC \"-//W3C//DTD SVG 1.1//EN\"\n \"http://www.w3.org/Graphics/SVG/1.1/DTD/svg11.dtd\">\n<!-- Generated by graphviz version 2.48.0 (20210717.1556)\n -->\n<!-- Title: G Pages: 1 -->\n<svg width=\"222pt\" height=\"216pt\"\n viewBox=\"0.00 0.00 221.50 216.00\" xmlns=\"http://www.w3.org/2000/svg\" xmlns:xlink=\"http://www.w3.org/1999/xlink\">\n<g id=\"graph0\" class=\"graph\" transform=\"scale(1 1) rotate(0) translate(4 212)\">\n<title>G</title>\n<polygon fill=\"white\" stroke=\"transparent\" points=\"-4,4 -4,-212 217.5,-212 217.5,4 -4,4\"/>\n<!-- 0 -->\n<g id=\"node1\" class=\"node\">\n<title>0</title>\n<polygon fill=\"#dbdb8d\" stroke=\"transparent\" points=\"127.5,-208 79.5,-208 79.5,-189 127.5,-189 127.5,-208\"/>\n<text text-anchor=\"middle\" x=\"103.5\" y=\"-196\" font-family=\"sans\" font-size=\"10.00\">Budget</text>\n</g>\n<!-- 1 -->\n<g id=\"node2\" class=\"node\">\n<title>1</title>\n<polygon fill=\"#dbdb8d\" stroke=\"transparent\" points=\"109,-181 0,-181 0,-162 109,-162 109,-181\"/>\n<text text-anchor=\"middle\" x=\"54.5\" y=\"-169\" font-family=\"sans\" font-size=\"10.00\">Budget.budget_word</text>\n</g>\n<!-- 0&#45;&gt;1 -->\n<g id=\"edge1\" class=\"edge\">\n<title>0&#45;&gt;1</title>\n<path fill=\"none\" stroke=\"gray\" d=\"M86.64,-188.9C82.59,-186.83 78.23,-184.61 74.07,-182.48\"/>\n<polygon fill=\"gray\" stroke=\"gray\" points=\"74.38,-181.46 71.23,-181.03 73.42,-183.33 74.38,-181.46\"/>\n</g>\n<!-- 3 -->\n<g id=\"node4\" class=\"node\">\n<title>3</title>\n<polygon fill=\"#dbdb8d\" stroke=\"transparent\" points=\"194.5,-181 110.5,-181 110.5,-162 194.5,-162 194.5,-181\"/>\n<text text-anchor=\"middle\" x=\"152.5\" y=\"-169\" font-family=\"sans\" font-size=\"10.00\">Budget.amount</text>\n</g>\n<!-- 0&#45;&gt;3 -->\n<g id=\"edge2\" class=\"edge\">\n<title>0&#45;&gt;3</title>\n<path fill=\"none\" stroke=\"gray\" d=\"M120.36,-188.9C124.41,-186.83 128.77,-184.61 132.93,-182.48\"/>\n<polygon fill=\"gray\" stroke=\"gray\" points=\"133.58,-183.33 135.77,-181.03 132.62,-181.46 133.58,-183.33\"/>\n</g>\n<!-- 2 -->\n<g id=\"node3\" class=\"node\">\n<title>2</title>\n<polygon fill=\"#eeeeee\" stroke=\"transparent\" points=\"87.5,-154 21.5,-154 21.5,-135 87.5,-135 87.5,-154\"/>\n<text text-anchor=\"middle\" x=\"54.5\" y=\"-142\" font-family=\"sans\" font-size=\"10.00\">стоимости</text>\n</g>\n<!-- 1&#45;&gt;2 -->\n<g id=\"edge3\" class=\"edge\">\n<title>1&#45;&gt;2</title>\n<path fill=\"none\" stroke=\"gray\" d=\"M54.5,-161.76C54.5,-160.36 54.5,-158.9 54.5,-157.45\"/>\n<polygon fill=\"gray\" stroke=\"gray\" points=\"55.55,-157.11 54.5,-154.11 53.45,-157.11 55.55,-157.11\"/>\n</g>\n<!-- 4 -->\n<g id=\"node5\" class=\"node\">\n<title>4</title>\n<polygon fill=\"#dbdb8d\" stroke=\"transparent\" points=\"178,-154 127,-154 127,-135 178,-135 178,-154\"/>\n<text text-anchor=\"middle\" x=\"152.5\" y=\"-142\" font-family=\"sans\" font-size=\"10.00\">Amount</text>\n</g>\n<!-- 3&#45;&gt;4 -->\n<g id=\"edge4\" class=\"edge\">\n<title>3&#45;&gt;4</title>\n<path fill=\"none\" stroke=\"gray\" d=\"M152.5,-161.76C152.5,-160.36 152.5,-158.9 152.5,-157.45\"/>\n<polygon fill=\"gray\" stroke=\"gray\" points=\"153.55,-157.11 152.5,-154.11 151.45,-157.11 153.55,-157.11\"/>\n</g>\n<!-- 5 -->\n<g id=\"node6\" class=\"node\">\n<title>5</title>\n<polygon fill=\"#dbdb8d\" stroke=\"transparent\" points=\"175.5,-127 129.5,-127 129.5,-108 175.5,-108 175.5,-127\"/>\n<text text-anchor=\"middle\" x=\"152.5\" y=\"-115\" font-family=\"sans\" font-size=\"10.00\">Range</text>\n</g>\n<!-- 4&#45;&gt;5 -->\n<g id=\"edge5\" class=\"edge\">\n<title>4&#45;&gt;5</title>\n<path fill=\"none\" stroke=\"gray\" d=\"M152.5,-134.76C152.5,-133.36 152.5,-131.9 152.5,-130.45\"/>\n<polygon fill=\"gray\" stroke=\"gray\" points=\"153.55,-130.11 152.5,-127.11 151.45,-130.11 153.55,-130.11\"/>\n</g>\n<!-- 6 -->\n<g id=\"node7\" class=\"node\">\n<title>6</title>\n<polygon fill=\"#aec7e8\" stroke=\"transparent\" points=\"144,-100 109,-100 109,-81 144,-81 144,-100\"/>\n<text text-anchor=\"middle\" x=\"126.5\" y=\"-88\" font-family=\"sans\" font-size=\"10.00\">R13</text>\n</g>\n<!-- 5&#45;&gt;6 -->\n<g id=\"edge6\" class=\"edge\">\n<title>5&#45;&gt;6</title>\n<path fill=\"none\" stroke=\"gray\" d=\"M143.41,-107.76C141.55,-105.98 139.58,-104.08 137.67,-102.24\"/>\n<polygon fill=\"gray\" stroke=\"gray\" points=\"138.35,-101.43 135.46,-100.11 136.89,-102.95 138.35,-101.43\"/>\n</g>\n<!-- 8 -->\n<g id=\"node9\" class=\"node\">\n<title>8</title>\n<polygon fill=\"#dbdb8d\" stroke=\"transparent\" points=\"213.5,-100 145.5,-100 145.5,-81 213.5,-81 213.5,-100\"/>\n<text text-anchor=\"middle\" x=\"179.5\" y=\"-88\" font-family=\"sans\" font-size=\"10.00\">Range.stop</text>\n</g>\n<!-- 5&#45;&gt;8 -->\n<g id=\"edge7\" class=\"edge\">\n<title>5&#45;&gt;8</title>\n<path fill=\"none\" stroke=\"gray\" d=\"M161.94,-107.76C163.87,-105.98 165.91,-104.08 167.9,-102.24\"/>\n<polygon fill=\"gray\" stroke=\"gray\" points=\"168.71,-102.92 170.2,-100.11 167.28,-101.38 168.71,-102.92\"/>\n</g>\n<!-- 7 -->\n<g id=\"node8\" class=\"node\">\n<title>7</title>\n<polygon fill=\"#eeeeee\" stroke=\"transparent\" points=\"140.5,-73 112.5,-73 112.5,-54 140.5,-54 140.5,-73\"/>\n<text text-anchor=\"middle\" x=\"126.5\" y=\"-61\" font-family=\"sans\" font-size=\"10.00\">до</text>\n</g>\n<!-- 6&#45;&gt;7 -->\n<g id=\"edge8\" class=\"edge\">\n<title>6&#45;&gt;7</title>\n<path fill=\"none\" stroke=\"gray\" d=\"M126.5,-80.76C126.5,-79.36 126.5,-77.9 126.5,-76.45\"/>\n<polygon fill=\"gray\" stroke=\"gray\" points=\"127.55,-76.11 126.5,-73.11 125.45,-76.11 127.55,-76.11\"/>\n</g>\n<!-- 9 -->\n<g id=\"node10\" class=\"node\">\n<title>9</title>\n<polygon fill=\"#aec7e8\" stroke=\"transparent\" points=\"194,-73 165,-73 165,-54 194,-54 194,-73\"/>\n<text text-anchor=\"middle\" x=\"179.5\" y=\"-61\" font-family=\"sans\" font-size=\"10.00\">R5</text>\n</g>\n<!-- 8&#45;&gt;9 -->\n<g id=\"edge9\" class=\"edge\">\n<title>8&#45;&gt;9</title>\n<path fill=\"none\" stroke=\"gray\" d=\"M179.5,-80.76C179.5,-79.36 179.5,-77.9 179.5,-76.45\"/>\n<polygon fill=\"gray\" stroke=\"gray\" points=\"180.55,-76.11 179.5,-73.11 178.45,-76.11 180.55,-76.11\"/>\n</g>\n<!-- 10 -->\n<g id=\"node11\" class=\"node\">\n<title>10</title>\n<polygon fill=\"#dbdb8d\" stroke=\"transparent\" points=\"212.5,-46 146.5,-46 146.5,-27 212.5,-27 212.5,-46\"/>\n<text text-anchor=\"middle\" x=\"179.5\" y=\"-34\" font-family=\"sans\" font-size=\"10.00\">custom(int)</text>\n</g>\n<!-- 9&#45;&gt;10 -->\n<g id=\"edge10\" class=\"edge\">\n<title>9&#45;&gt;10</title>\n<path fill=\"none\" stroke=\"gray\" d=\"M179.5,-53.76C179.5,-52.36 179.5,-50.9 179.5,-49.45\"/>\n<polygon fill=\"gray\" stroke=\"gray\" points=\"180.55,-49.11 179.5,-46.11 178.45,-49.11 180.55,-49.11\"/>\n</g>\n<!-- 11 -->\n<g id=\"node12\" class=\"node\">\n<title>11</title>\n<polygon fill=\"#eeeeee\" stroke=\"transparent\" points=\"196,-19 163,-19 163,0 196,0 196,-19\"/>\n<text text-anchor=\"middle\" x=\"179.5\" y=\"-7\" font-family=\"sans\" font-size=\"10.00\">100</text>\n</g>\n<!-- 10&#45;&gt;11 -->\n<g id=\"edge11\" class=\"edge\">\n<title>10&#45;&gt;11</title>\n<path fill=\"none\" stroke=\"gray\" d=\"M179.5,-26.76C179.5,-25.36 179.5,-23.9 179.5,-22.45\"/>\n<polygon fill=\"gray\" stroke=\"gray\" points=\"180.55,-22.11 179.5,-19.11 178.45,-22.11 180.55,-22.11\"/>\n</g>\n</g>\n</svg>\n"
     },
     "metadata": {}
    },
    {
     "output_type": "display_data",
     "data": {
      "text/plain": [
       "Budget(\n",
       "    budget_word='стоимости',\n",
       "    amount=Amount(\n",
       "        value=None\n",
       "    )\n",
       ")"
      ]
     },
     "metadata": {}
    },
    {
     "output_type": "display_data",
     "data": {
      "text/plain": [
       "<IPython.core.display.HTML object>"
      ],
      "text/html": [
       "<div class=\"tex2jax_ignore\" style=\"white-space: pre-wrap\">Приветики! Я хотела бы поехать куда то на море с мужем и сыном. Ну сын маленький-7 лет ему надо чтобы был ну бассейн там аниматоры что то такое. Мужу надо шведский стол и бар. Слышала что в Таиланде не очень сейчас, может Вьетнам? Что можешь пообрать?</div>"
      ]
     },
     "metadata": {}
    },
    {
     "output_type": "display_data",
     "data": {
      "text/plain": [
       "<IPython.core.display.HTML object>"
      ],
      "text/html": [
       "<div class=\"tex2jax_ignore\" style=\"white-space: pre-wrap\">Семья 2+1 ребенок(11), Турция , Район Авсалар,Инджекум,Тюрклер, 4-5*, 1 линия, песочный заход</div>"
      ]
     },
     "metadata": {}
    },
    {
     "output_type": "display_data",
     "data": {
      "text/plain": [
       "<IPython.core.display.HTML object>"
      ],
      "text/html": [
       "<div class=\"tex2jax_ignore\" style=\"white-space: pre-wrap\">Нужно чтобы отель был недалеко от аэропорта. Чтобы был песчаный вход, чтобы детское питание было, детская кроватка, чтобы номера были 2-х комнатные, у нас семья 4 человека с младенцем. Детские горки в отеле для старшего и штобы был детский клую. Нужно очень хорошее питание.</div>"
      ]
     },
     "metadata": {}
    },
    {
     "output_type": "display_data",
     "data": {
      "text/plain": [
       "<IPython.core.display.HTML object>"
      ],
      "text/html": [
       "<div class=\"tex2jax_ignore\" style=\"white-space: pre-wrap\">Отель нужен новый или чтобы ремонт был в прошлом году. Большая территория, бассейны, ультра все включено, импортный алкоголь, детей поменьше</div>"
      ]
     },
     "metadata": {}
    },
    {
     "output_type": "display_data",
     "data": {
      "text/plain": [
       "<IPython.core.display.HTML object>"
      ],
      "text/html": [
       "<div class=\"tex2jax_ignore\" style=\"white-space: pre-wrap\">Добрый вечер. Расскажите куда можно поехать семье с детьми. Какие направления открыты? 2 взр и 2 ребенка</div>"
      ]
     },
     "metadata": {}
    },
    {
     "output_type": "display_data",
     "data": {
      "text/plain": [
       "<IPython.core.display.HTML object>"
      ],
      "text/html": [
       "<div class=\"tex2jax_ignore\" style=\"white-space: pre-wrap\">Два взрослых и ребенок 3 года. Хотим отель на берегу с собственным песчаным пляжем. Важно, чтобы были диетические блюда для ребенка, wifi в номере. Что Вы можете предложить?</div>"
      ]
     },
     "metadata": {}
    },
    {
     "output_type": "display_data",
     "data": {
      "text/plain": [
       "<IPython.core.display.HTML object>"
      ],
      "text/html": [
       "<div class=\"tex2jax_ignore\" style=\"white-space: pre-wrap\">Здравствуйтете. Напишу подробно, чтобы дальше без вопросов. С женой на годовщину хотим поехать в тур по Европе: Бельгия, НИдерланды, Люксембург. Чтобы в каждом городе минимум по 3-4 дня, с гидом, хорошая экскурсия. Отели везде не ниже 4+. Бюджет любой, можем даже арендовать машину</div>"
      ]
     },
     "metadata": {}
    },
    {
     "output_type": "display_data",
     "data": {
      "text/plain": [
       "<IPython.core.display.HTML object>"
      ],
      "text/html": [
       "<div class=\"tex2jax_ignore\" style=\"white-space: pre-wrap\">7 ночей. <span style=\"padding: 2px; border-radius: 4px; border: 1px solid #bbdefb; background: #e3f2fd\">Бюджет 100</span> 000. Пожелания по отелю: хочется чтобы был чистый, относительно новый и место расположение удобное. Завтрак включён.</div>"
      ]
     },
     "metadata": {}
    },
    {
     "output_type": "display_data",
     "data": {
      "text/plain": [
       "Graph(nodes=[...], edges=[...])"
      ],
      "image/svg+xml": "<?xml version=\"1.0\" encoding=\"UTF-8\" standalone=\"no\"?>\n<!DOCTYPE svg PUBLIC \"-//W3C//DTD SVG 1.1//EN\"\n \"http://www.w3.org/Graphics/SVG/1.1/DTD/svg11.dtd\">\n<!-- Generated by graphviz version 2.48.0 (20210717.1556)\n -->\n<!-- Title: G Pages: 1 -->\n<svg width=\"203pt\" height=\"162pt\"\n viewBox=\"0.00 0.00 202.50 162.00\" xmlns=\"http://www.w3.org/2000/svg\" xmlns:xlink=\"http://www.w3.org/1999/xlink\">\n<g id=\"graph0\" class=\"graph\" transform=\"scale(1 1) rotate(0) translate(4 158)\">\n<title>G</title>\n<polygon fill=\"white\" stroke=\"transparent\" points=\"-4,4 -4,-158 198.5,-158 198.5,4 -4,4\"/>\n<!-- 0 -->\n<g id=\"node1\" class=\"node\">\n<title>0</title>\n<polygon fill=\"#dbdb8d\" stroke=\"transparent\" points=\"127.5,-154 79.5,-154 79.5,-135 127.5,-135 127.5,-154\"/>\n<text text-anchor=\"middle\" x=\"103.5\" y=\"-142\" font-family=\"sans\" font-size=\"10.00\">Budget</text>\n</g>\n<!-- 1 -->\n<g id=\"node2\" class=\"node\">\n<title>1</title>\n<polygon fill=\"#dbdb8d\" stroke=\"transparent\" points=\"109,-127 0,-127 0,-108 109,-108 109,-127\"/>\n<text text-anchor=\"middle\" x=\"54.5\" y=\"-115\" font-family=\"sans\" font-size=\"10.00\">Budget.budget_word</text>\n</g>\n<!-- 0&#45;&gt;1 -->\n<g id=\"edge1\" class=\"edge\">\n<title>0&#45;&gt;1</title>\n<path fill=\"none\" stroke=\"gray\" d=\"M86.64,-134.9C82.59,-132.83 78.23,-130.61 74.07,-128.48\"/>\n<polygon fill=\"gray\" stroke=\"gray\" points=\"74.38,-127.46 71.23,-127.03 73.42,-129.33 74.38,-127.46\"/>\n</g>\n<!-- 3 -->\n<g id=\"node4\" class=\"node\">\n<title>3</title>\n<polygon fill=\"#dbdb8d\" stroke=\"transparent\" points=\"194.5,-127 110.5,-127 110.5,-108 194.5,-108 194.5,-127\"/>\n<text text-anchor=\"middle\" x=\"152.5\" y=\"-115\" font-family=\"sans\" font-size=\"10.00\">Budget.amount</text>\n</g>\n<!-- 0&#45;&gt;3 -->\n<g id=\"edge2\" class=\"edge\">\n<title>0&#45;&gt;3</title>\n<path fill=\"none\" stroke=\"gray\" d=\"M120.36,-134.9C124.41,-132.83 128.77,-130.61 132.93,-128.48\"/>\n<polygon fill=\"gray\" stroke=\"gray\" points=\"133.58,-129.33 135.77,-127.03 132.62,-127.46 133.58,-129.33\"/>\n</g>\n<!-- 2 -->\n<g id=\"node3\" class=\"node\">\n<title>2</title>\n<polygon fill=\"#eeeeee\" stroke=\"transparent\" points=\"82,-100 27,-100 27,-81 82,-81 82,-100\"/>\n<text text-anchor=\"middle\" x=\"54.5\" y=\"-88\" font-family=\"sans\" font-size=\"10.00\">Бюджет</text>\n</g>\n<!-- 1&#45;&gt;2 -->\n<g id=\"edge3\" class=\"edge\">\n<title>1&#45;&gt;2</title>\n<path fill=\"none\" stroke=\"gray\" d=\"M54.5,-107.76C54.5,-106.36 54.5,-104.9 54.5,-103.45\"/>\n<polygon fill=\"gray\" stroke=\"gray\" points=\"55.55,-103.11 54.5,-100.11 53.45,-103.11 55.55,-103.11\"/>\n</g>\n<!-- 4 -->\n<g id=\"node5\" class=\"node\">\n<title>4</title>\n<polygon fill=\"#dbdb8d\" stroke=\"transparent\" points=\"178,-100 127,-100 127,-81 178,-81 178,-100\"/>\n<text text-anchor=\"middle\" x=\"152.5\" y=\"-88\" font-family=\"sans\" font-size=\"10.00\">Amount</text>\n</g>\n<!-- 3&#45;&gt;4 -->\n<g id=\"edge4\" class=\"edge\">\n<title>3&#45;&gt;4</title>\n<path fill=\"none\" stroke=\"gray\" d=\"M152.5,-107.76C152.5,-106.36 152.5,-104.9 152.5,-103.45\"/>\n<polygon fill=\"gray\" stroke=\"gray\" points=\"153.55,-103.11 152.5,-100.11 151.45,-103.11 153.55,-103.11\"/>\n</g>\n<!-- 5 -->\n<g id=\"node6\" class=\"node\">\n<title>5</title>\n<polygon fill=\"#aec7e8\" stroke=\"transparent\" points=\"167,-73 138,-73 138,-54 167,-54 167,-73\"/>\n<text text-anchor=\"middle\" x=\"152.5\" y=\"-61\" font-family=\"sans\" font-size=\"10.00\">R5</text>\n</g>\n<!-- 4&#45;&gt;5 -->\n<g id=\"edge5\" class=\"edge\">\n<title>4&#45;&gt;5</title>\n<path fill=\"none\" stroke=\"gray\" d=\"M152.5,-80.76C152.5,-79.36 152.5,-77.9 152.5,-76.45\"/>\n<polygon fill=\"gray\" stroke=\"gray\" points=\"153.55,-76.11 152.5,-73.11 151.45,-76.11 153.55,-76.11\"/>\n</g>\n<!-- 6 -->\n<g id=\"node7\" class=\"node\">\n<title>6</title>\n<polygon fill=\"#dbdb8d\" stroke=\"transparent\" points=\"185.5,-46 119.5,-46 119.5,-27 185.5,-27 185.5,-46\"/>\n<text text-anchor=\"middle\" x=\"152.5\" y=\"-34\" font-family=\"sans\" font-size=\"10.00\">custom(int)</text>\n</g>\n<!-- 5&#45;&gt;6 -->\n<g id=\"edge6\" class=\"edge\">\n<title>5&#45;&gt;6</title>\n<path fill=\"none\" stroke=\"gray\" d=\"M152.5,-53.76C152.5,-52.36 152.5,-50.9 152.5,-49.45\"/>\n<polygon fill=\"gray\" stroke=\"gray\" points=\"153.55,-49.11 152.5,-46.11 151.45,-49.11 153.55,-49.11\"/>\n</g>\n<!-- 7 -->\n<g id=\"node8\" class=\"node\">\n<title>7</title>\n<polygon fill=\"#eeeeee\" stroke=\"transparent\" points=\"169,-19 136,-19 136,0 169,0 169,-19\"/>\n<text text-anchor=\"middle\" x=\"152.5\" y=\"-7\" font-family=\"sans\" font-size=\"10.00\">100</text>\n</g>\n<!-- 6&#45;&gt;7 -->\n<g id=\"edge7\" class=\"edge\">\n<title>6&#45;&gt;7</title>\n<path fill=\"none\" stroke=\"gray\" d=\"M152.5,-26.76C152.5,-25.36 152.5,-23.9 152.5,-22.45\"/>\n<polygon fill=\"gray\" stroke=\"gray\" points=\"153.55,-22.11 152.5,-19.11 151.45,-22.11 153.55,-22.11\"/>\n</g>\n</g>\n</svg>\n"
     },
     "metadata": {}
    },
    {
     "output_type": "display_data",
     "data": {
      "text/plain": [
       "Budget(\n",
       "    budget_word='Бюджет',\n",
       "    amount=Amount(\n",
       "        value=None\n",
       "    )\n",
       ")"
      ]
     },
     "metadata": {}
    },
    {
     "output_type": "display_data",
     "data": {
      "text/plain": [
       "<IPython.core.display.HTML object>"
      ],
      "text/html": [
       "<div class=\"tex2jax_ignore\" style=\"white-space: pre-wrap\">Хотим отдых на 3 семьи На Кипре или в Турции. 6 взрослых и 2 ребенка. Нужно 3 отдельных номера, для детей детские зоны, анимация. Отель 5 звезд</div>"
      ]
     },
     "metadata": {}
    },
    {
     "output_type": "display_data",
     "data": {
      "text/plain": [
       "<IPython.core.display.HTML object>"
      ],
      "text/html": [
       "<div class=\"tex2jax_ignore\" style=\"white-space: pre-wrap\">Привет, ищу качественный отель категории 3* недалеко от пляжа, 11 дней с конца июня. В Египте и Турции была неоднократно, эти страны не интересуют. Не особо чтобы дорого, но готова <span style=\"padding: 2px; border-radius: 4px; border: 1px solid #bbdefb; background: #e3f2fd\">потратить до 95000</span>.</div>"
      ]
     },
     "metadata": {}
    },
    {
     "output_type": "display_data",
     "data": {
      "text/plain": [
       "Graph(nodes=[...], edges=[...])"
      ],
      "image/svg+xml": "<?xml version=\"1.0\" encoding=\"UTF-8\" standalone=\"no\"?>\n<!DOCTYPE svg PUBLIC \"-//W3C//DTD SVG 1.1//EN\"\n \"http://www.w3.org/Graphics/SVG/1.1/DTD/svg11.dtd\">\n<!-- Generated by graphviz version 2.48.0 (20210717.1556)\n -->\n<!-- Title: G Pages: 1 -->\n<svg width=\"222pt\" height=\"216pt\"\n viewBox=\"0.00 0.00 221.50 216.00\" xmlns=\"http://www.w3.org/2000/svg\" xmlns:xlink=\"http://www.w3.org/1999/xlink\">\n<g id=\"graph0\" class=\"graph\" transform=\"scale(1 1) rotate(0) translate(4 212)\">\n<title>G</title>\n<polygon fill=\"white\" stroke=\"transparent\" points=\"-4,4 -4,-212 217.5,-212 217.5,4 -4,4\"/>\n<!-- 0 -->\n<g id=\"node1\" class=\"node\">\n<title>0</title>\n<polygon fill=\"#dbdb8d\" stroke=\"transparent\" points=\"127.5,-208 79.5,-208 79.5,-189 127.5,-189 127.5,-208\"/>\n<text text-anchor=\"middle\" x=\"103.5\" y=\"-196\" font-family=\"sans\" font-size=\"10.00\">Budget</text>\n</g>\n<!-- 1 -->\n<g id=\"node2\" class=\"node\">\n<title>1</title>\n<polygon fill=\"#dbdb8d\" stroke=\"transparent\" points=\"109,-181 0,-181 0,-162 109,-162 109,-181\"/>\n<text text-anchor=\"middle\" x=\"54.5\" y=\"-169\" font-family=\"sans\" font-size=\"10.00\">Budget.budget_word</text>\n</g>\n<!-- 0&#45;&gt;1 -->\n<g id=\"edge1\" class=\"edge\">\n<title>0&#45;&gt;1</title>\n<path fill=\"none\" stroke=\"gray\" d=\"M86.64,-188.9C82.59,-186.83 78.23,-184.61 74.07,-182.48\"/>\n<polygon fill=\"gray\" stroke=\"gray\" points=\"74.38,-181.46 71.23,-181.03 73.42,-183.33 74.38,-181.46\"/>\n</g>\n<!-- 3 -->\n<g id=\"node4\" class=\"node\">\n<title>3</title>\n<polygon fill=\"#dbdb8d\" stroke=\"transparent\" points=\"194.5,-181 110.5,-181 110.5,-162 194.5,-162 194.5,-181\"/>\n<text text-anchor=\"middle\" x=\"152.5\" y=\"-169\" font-family=\"sans\" font-size=\"10.00\">Budget.amount</text>\n</g>\n<!-- 0&#45;&gt;3 -->\n<g id=\"edge2\" class=\"edge\">\n<title>0&#45;&gt;3</title>\n<path fill=\"none\" stroke=\"gray\" d=\"M120.36,-188.9C124.41,-186.83 128.77,-184.61 132.93,-182.48\"/>\n<polygon fill=\"gray\" stroke=\"gray\" points=\"133.58,-183.33 135.77,-181.03 132.62,-181.46 133.58,-183.33\"/>\n</g>\n<!-- 2 -->\n<g id=\"node3\" class=\"node\">\n<title>2</title>\n<polygon fill=\"#eeeeee\" stroke=\"transparent\" points=\"87,-154 22,-154 22,-135 87,-135 87,-154\"/>\n<text text-anchor=\"middle\" x=\"54.5\" y=\"-142\" font-family=\"sans\" font-size=\"10.00\">потратить</text>\n</g>\n<!-- 1&#45;&gt;2 -->\n<g id=\"edge3\" class=\"edge\">\n<title>1&#45;&gt;2</title>\n<path fill=\"none\" stroke=\"gray\" d=\"M54.5,-161.76C54.5,-160.36 54.5,-158.9 54.5,-157.45\"/>\n<polygon fill=\"gray\" stroke=\"gray\" points=\"55.55,-157.11 54.5,-154.11 53.45,-157.11 55.55,-157.11\"/>\n</g>\n<!-- 4 -->\n<g id=\"node5\" class=\"node\">\n<title>4</title>\n<polygon fill=\"#dbdb8d\" stroke=\"transparent\" points=\"178,-154 127,-154 127,-135 178,-135 178,-154\"/>\n<text text-anchor=\"middle\" x=\"152.5\" y=\"-142\" font-family=\"sans\" font-size=\"10.00\">Amount</text>\n</g>\n<!-- 3&#45;&gt;4 -->\n<g id=\"edge4\" class=\"edge\">\n<title>3&#45;&gt;4</title>\n<path fill=\"none\" stroke=\"gray\" d=\"M152.5,-161.76C152.5,-160.36 152.5,-158.9 152.5,-157.45\"/>\n<polygon fill=\"gray\" stroke=\"gray\" points=\"153.55,-157.11 152.5,-154.11 151.45,-157.11 153.55,-157.11\"/>\n</g>\n<!-- 5 -->\n<g id=\"node6\" class=\"node\">\n<title>5</title>\n<polygon fill=\"#dbdb8d\" stroke=\"transparent\" points=\"175.5,-127 129.5,-127 129.5,-108 175.5,-108 175.5,-127\"/>\n<text text-anchor=\"middle\" x=\"152.5\" y=\"-115\" font-family=\"sans\" font-size=\"10.00\">Range</text>\n</g>\n<!-- 4&#45;&gt;5 -->\n<g id=\"edge5\" class=\"edge\">\n<title>4&#45;&gt;5</title>\n<path fill=\"none\" stroke=\"gray\" d=\"M152.5,-134.76C152.5,-133.36 152.5,-131.9 152.5,-130.45\"/>\n<polygon fill=\"gray\" stroke=\"gray\" points=\"153.55,-130.11 152.5,-127.11 151.45,-130.11 153.55,-130.11\"/>\n</g>\n<!-- 6 -->\n<g id=\"node7\" class=\"node\">\n<title>6</title>\n<polygon fill=\"#aec7e8\" stroke=\"transparent\" points=\"144,-100 109,-100 109,-81 144,-81 144,-100\"/>\n<text text-anchor=\"middle\" x=\"126.5\" y=\"-88\" font-family=\"sans\" font-size=\"10.00\">R13</text>\n</g>\n<!-- 5&#45;&gt;6 -->\n<g id=\"edge6\" class=\"edge\">\n<title>5&#45;&gt;6</title>\n<path fill=\"none\" stroke=\"gray\" d=\"M143.41,-107.76C141.55,-105.98 139.58,-104.08 137.67,-102.24\"/>\n<polygon fill=\"gray\" stroke=\"gray\" points=\"138.35,-101.43 135.46,-100.11 136.89,-102.95 138.35,-101.43\"/>\n</g>\n<!-- 8 -->\n<g id=\"node9\" class=\"node\">\n<title>8</title>\n<polygon fill=\"#dbdb8d\" stroke=\"transparent\" points=\"213.5,-100 145.5,-100 145.5,-81 213.5,-81 213.5,-100\"/>\n<text text-anchor=\"middle\" x=\"179.5\" y=\"-88\" font-family=\"sans\" font-size=\"10.00\">Range.stop</text>\n</g>\n<!-- 5&#45;&gt;8 -->\n<g id=\"edge7\" class=\"edge\">\n<title>5&#45;&gt;8</title>\n<path fill=\"none\" stroke=\"gray\" d=\"M161.94,-107.76C163.87,-105.98 165.91,-104.08 167.9,-102.24\"/>\n<polygon fill=\"gray\" stroke=\"gray\" points=\"168.71,-102.92 170.2,-100.11 167.28,-101.38 168.71,-102.92\"/>\n</g>\n<!-- 7 -->\n<g id=\"node8\" class=\"node\">\n<title>7</title>\n<polygon fill=\"#eeeeee\" stroke=\"transparent\" points=\"140.5,-73 112.5,-73 112.5,-54 140.5,-54 140.5,-73\"/>\n<text text-anchor=\"middle\" x=\"126.5\" y=\"-61\" font-family=\"sans\" font-size=\"10.00\">до</text>\n</g>\n<!-- 6&#45;&gt;7 -->\n<g id=\"edge8\" class=\"edge\">\n<title>6&#45;&gt;7</title>\n<path fill=\"none\" stroke=\"gray\" d=\"M126.5,-80.76C126.5,-79.36 126.5,-77.9 126.5,-76.45\"/>\n<polygon fill=\"gray\" stroke=\"gray\" points=\"127.55,-76.11 126.5,-73.11 125.45,-76.11 127.55,-76.11\"/>\n</g>\n<!-- 9 -->\n<g id=\"node10\" class=\"node\">\n<title>9</title>\n<polygon fill=\"#aec7e8\" stroke=\"transparent\" points=\"194,-73 165,-73 165,-54 194,-54 194,-73\"/>\n<text text-anchor=\"middle\" x=\"179.5\" y=\"-61\" font-family=\"sans\" font-size=\"10.00\">R5</text>\n</g>\n<!-- 8&#45;&gt;9 -->\n<g id=\"edge9\" class=\"edge\">\n<title>8&#45;&gt;9</title>\n<path fill=\"none\" stroke=\"gray\" d=\"M179.5,-80.76C179.5,-79.36 179.5,-77.9 179.5,-76.45\"/>\n<polygon fill=\"gray\" stroke=\"gray\" points=\"180.55,-76.11 179.5,-73.11 178.45,-76.11 180.55,-76.11\"/>\n</g>\n<!-- 10 -->\n<g id=\"node11\" class=\"node\">\n<title>10</title>\n<polygon fill=\"#dbdb8d\" stroke=\"transparent\" points=\"212.5,-46 146.5,-46 146.5,-27 212.5,-27 212.5,-46\"/>\n<text text-anchor=\"middle\" x=\"179.5\" y=\"-34\" font-family=\"sans\" font-size=\"10.00\">custom(int)</text>\n</g>\n<!-- 9&#45;&gt;10 -->\n<g id=\"edge10\" class=\"edge\">\n<title>9&#45;&gt;10</title>\n<path fill=\"none\" stroke=\"gray\" d=\"M179.5,-53.76C179.5,-52.36 179.5,-50.9 179.5,-49.45\"/>\n<polygon fill=\"gray\" stroke=\"gray\" points=\"180.55,-49.11 179.5,-46.11 178.45,-49.11 180.55,-49.11\"/>\n</g>\n<!-- 11 -->\n<g id=\"node12\" class=\"node\">\n<title>11</title>\n<polygon fill=\"#eeeeee\" stroke=\"transparent\" points=\"201.5,-19 157.5,-19 157.5,0 201.5,0 201.5,-19\"/>\n<text text-anchor=\"middle\" x=\"179.5\" y=\"-7\" font-family=\"sans\" font-size=\"10.00\">95000</text>\n</g>\n<!-- 10&#45;&gt;11 -->\n<g id=\"edge11\" class=\"edge\">\n<title>10&#45;&gt;11</title>\n<path fill=\"none\" stroke=\"gray\" d=\"M179.5,-26.76C179.5,-25.36 179.5,-23.9 179.5,-22.45\"/>\n<polygon fill=\"gray\" stroke=\"gray\" points=\"180.55,-22.11 179.5,-19.11 178.45,-22.11 180.55,-22.11\"/>\n</g>\n</g>\n</svg>\n"
     },
     "metadata": {}
    },
    {
     "output_type": "display_data",
     "data": {
      "text/plain": [
       "Budget(\n",
       "    budget_word='потратить',\n",
       "    amount=Amount(\n",
       "        value=None\n",
       "    )\n",
       ")"
      ]
     },
     "metadata": {}
    },
    {
     "output_type": "display_data",
     "data": {
      "text/plain": [
       "<IPython.core.display.HTML object>"
      ],
      "text/html": [
       "<div class=\"tex2jax_ignore\" style=\"white-space: pre-wrap\">Здравствуйте! Посоветуйте,,, какие отели посмотреть на Протарасе и Айя Напе? Куда отправляете туристов? 3-4*.  Пятерки, наверное, под полмиллиона?  И что с Грецией? Открыли? Там шенген надо делать.. в Новосибирске?</div>"
      ]
     },
     "metadata": {}
    },
    {
     "output_type": "display_data",
     "data": {
      "text/plain": [
       "<IPython.core.display.HTML object>"
      ],
      "text/html": [
       "<div class=\"tex2jax_ignore\" style=\"white-space: pre-wrap\">Здравствуйте. Ищем где пополярно, песочек и чтобы для ребенка все было:еда анимация горки. И чтобы поближе к пляжу, можно было дойти пешком. Два человека и 1 ребенок 6 лет.</div>"
      ]
     },
     "metadata": {}
    },
    {
     "output_type": "display_data",
     "data": {
      "text/plain": [
       "<IPython.core.display.HTML object>"
      ],
      "text/html": [
       "<div class=\"tex2jax_ignore\" style=\"white-space: pre-wrap\">Мы можем хоть когда, к датам особо не привязаны. Хотим по горящей путевке съездить. Вы можете нам позвонить-у нас чемоданы собраны и мы можем сразу лететь из барнаула. А сколько сейчас горящие путевки стоят?</div>"
      ]
     },
     "metadata": {}
    },
    {
     "output_type": "display_data",
     "data": {
      "text/plain": [
       "<IPython.core.display.HTML object>"
      ],
      "text/html": [
       "<div class=\"tex2jax_ignore\" style=\"white-space: pre-wrap\">2 семейные пары. У нас с 10 отпуск дней на 7. Хотим море и чистый пляж. Чтобы были зонты и лежаки бесплатные и свой пляж у отеля. Что порекомендуете?</div>"
      ]
     },
     "metadata": {}
    },
    {
     "output_type": "display_data",
     "data": {
      "text/plain": [
       "<IPython.core.display.HTML object>"
      ],
      "text/html": [
       "<div class=\"tex2jax_ignore\" style=\"white-space: pre-wrap\">Отель в Турции 4-5*с песчаным пляжем ,работающий по системе AI с кухней в номере . Едет семья с двумя детками,родители и старший ребенок хотят питаться по системе &quot;все включено&quot;,младший ребенок находится на специализированном питании</div>"
      ]
     },
     "metadata": {}
    },
    {
     "output_type": "display_data",
     "data": {
      "text/plain": [
       "<IPython.core.display.HTML object>"
      ],
      "text/html": [
       "<div class=\"tex2jax_ignore\" style=\"white-space: pre-wrap\">2 взр с 14.06 до 02.07 даты вылета, на 10 ночей тунис, или кипр, 1, 2 линия в предела 120 на двоих</div>"
      ]
     },
     "metadata": {}
    },
    {
     "output_type": "display_data",
     "data": {
      "text/plain": [
       "<IPython.core.display.HTML object>"
      ],
      "text/html": [
       "<div class=\"tex2jax_ignore\" style=\"white-space: pre-wrap\">2 взрослых, 12-16 июля Горный, на берегу,лесистая территория, домик,отдельный вход, не дальше Берели, авто стоянка</div>"
      ]
     },
     "metadata": {}
    },
    {
     "output_type": "display_data",
     "data": {
      "text/plain": [
       "<IPython.core.display.HTML object>"
      ],
      "text/html": [
       "<div class=\"tex2jax_ignore\" style=\"white-space: pre-wrap\">Здравствуйте. Ищем ну что нибудь популярное такое и недорого. Ну вот вы куда бы сами поехали?</div>"
      ]
     },
     "metadata": {}
    },
    {
     "output_type": "display_data",
     "data": {
      "text/plain": [
       "<IPython.core.display.HTML object>"
      ],
      "text/html": [
       "<div class=\"tex2jax_ignore\" style=\"white-space: pre-wrap\">3взрослых +1 ребенок (9), Горный 29.07-01.08, хорошая база,бассейн</div>"
      ]
     },
     "metadata": {}
    },
    {
     "output_type": "display_data",
     "data": {
      "text/plain": [
       "<IPython.core.display.HTML object>"
      ],
      "text/html": [
       "<div class=\"tex2jax_ignore\" style=\"white-space: pre-wrap\">Ну раз Турцию наконец то открыли, решили выбраться с семьей. Едем с мужем и двумя детьми (17 и 10). Муж и дети не любят активный отдых, им нужен шведский стол, море, бассейн, мужу мииниьар. Я бы хотела на экскурсии. Отель все включено не ниже хорошей четверки</div>"
      ]
     },
     "metadata": {}
    },
    {
     "output_type": "display_data",
     "data": {
      "text/plain": [
       "<IPython.core.display.HTML object>"
      ],
      "text/html": [
       "<div class=\"tex2jax_ignore\" style=\"white-space: pre-wrap\">Добрый день! Ищем пляжный отдых для матери с ребенком (13), отель не ниже 4, чтобы был пляж и трансфер из аэропорта. Не особо дорого</div>"
      ]
     },
     "metadata": {}
    },
    {
     "output_type": "display_data",
     "data": {
      "text/plain": [
       "<IPython.core.display.HTML object>"
      ],
      "text/html": [
       "<div class=\"tex2jax_ignore\" style=\"white-space: pre-wrap\">Мне нужно туда. Чтобы было поменьше русских, отель лучше бунгало, первая линия. Питание не обязательно, только завтраки</div>"
      ]
     },
     "metadata": {}
    },
    {
     "output_type": "display_data",
     "data": {
      "text/plain": [
       "<IPython.core.display.HTML object>"
      ],
      "text/html": [
       "<div class=\"tex2jax_ignore\" style=\"white-space: pre-wrap\">Хотим нормальную четверку, первая линия, чтобы был красивый пейзаж. двое взрослых По <span style=\"padding: 2px; border-radius: 4px; border: 1px solid #bbdefb; background: #e3f2fd\">стоимости до 100</span>. Что посоветуете?</div>"
      ]
     },
     "metadata": {}
    },
    {
     "output_type": "display_data",
     "data": {
      "text/plain": [
       "Graph(nodes=[...], edges=[...])"
      ],
      "image/svg+xml": "<?xml version=\"1.0\" encoding=\"UTF-8\" standalone=\"no\"?>\n<!DOCTYPE svg PUBLIC \"-//W3C//DTD SVG 1.1//EN\"\n \"http://www.w3.org/Graphics/SVG/1.1/DTD/svg11.dtd\">\n<!-- Generated by graphviz version 2.48.0 (20210717.1556)\n -->\n<!-- Title: G Pages: 1 -->\n<svg width=\"222pt\" height=\"216pt\"\n viewBox=\"0.00 0.00 221.50 216.00\" xmlns=\"http://www.w3.org/2000/svg\" xmlns:xlink=\"http://www.w3.org/1999/xlink\">\n<g id=\"graph0\" class=\"graph\" transform=\"scale(1 1) rotate(0) translate(4 212)\">\n<title>G</title>\n<polygon fill=\"white\" stroke=\"transparent\" points=\"-4,4 -4,-212 217.5,-212 217.5,4 -4,4\"/>\n<!-- 0 -->\n<g id=\"node1\" class=\"node\">\n<title>0</title>\n<polygon fill=\"#dbdb8d\" stroke=\"transparent\" points=\"127.5,-208 79.5,-208 79.5,-189 127.5,-189 127.5,-208\"/>\n<text text-anchor=\"middle\" x=\"103.5\" y=\"-196\" font-family=\"sans\" font-size=\"10.00\">Budget</text>\n</g>\n<!-- 1 -->\n<g id=\"node2\" class=\"node\">\n<title>1</title>\n<polygon fill=\"#dbdb8d\" stroke=\"transparent\" points=\"109,-181 0,-181 0,-162 109,-162 109,-181\"/>\n<text text-anchor=\"middle\" x=\"54.5\" y=\"-169\" font-family=\"sans\" font-size=\"10.00\">Budget.budget_word</text>\n</g>\n<!-- 0&#45;&gt;1 -->\n<g id=\"edge1\" class=\"edge\">\n<title>0&#45;&gt;1</title>\n<path fill=\"none\" stroke=\"gray\" d=\"M86.64,-188.9C82.59,-186.83 78.23,-184.61 74.07,-182.48\"/>\n<polygon fill=\"gray\" stroke=\"gray\" points=\"74.38,-181.46 71.23,-181.03 73.42,-183.33 74.38,-181.46\"/>\n</g>\n<!-- 3 -->\n<g id=\"node4\" class=\"node\">\n<title>3</title>\n<polygon fill=\"#dbdb8d\" stroke=\"transparent\" points=\"194.5,-181 110.5,-181 110.5,-162 194.5,-162 194.5,-181\"/>\n<text text-anchor=\"middle\" x=\"152.5\" y=\"-169\" font-family=\"sans\" font-size=\"10.00\">Budget.amount</text>\n</g>\n<!-- 0&#45;&gt;3 -->\n<g id=\"edge2\" class=\"edge\">\n<title>0&#45;&gt;3</title>\n<path fill=\"none\" stroke=\"gray\" d=\"M120.36,-188.9C124.41,-186.83 128.77,-184.61 132.93,-182.48\"/>\n<polygon fill=\"gray\" stroke=\"gray\" points=\"133.58,-183.33 135.77,-181.03 132.62,-181.46 133.58,-183.33\"/>\n</g>\n<!-- 2 -->\n<g id=\"node3\" class=\"node\">\n<title>2</title>\n<polygon fill=\"#eeeeee\" stroke=\"transparent\" points=\"87.5,-154 21.5,-154 21.5,-135 87.5,-135 87.5,-154\"/>\n<text text-anchor=\"middle\" x=\"54.5\" y=\"-142\" font-family=\"sans\" font-size=\"10.00\">стоимости</text>\n</g>\n<!-- 1&#45;&gt;2 -->\n<g id=\"edge3\" class=\"edge\">\n<title>1&#45;&gt;2</title>\n<path fill=\"none\" stroke=\"gray\" d=\"M54.5,-161.76C54.5,-160.36 54.5,-158.9 54.5,-157.45\"/>\n<polygon fill=\"gray\" stroke=\"gray\" points=\"55.55,-157.11 54.5,-154.11 53.45,-157.11 55.55,-157.11\"/>\n</g>\n<!-- 4 -->\n<g id=\"node5\" class=\"node\">\n<title>4</title>\n<polygon fill=\"#dbdb8d\" stroke=\"transparent\" points=\"178,-154 127,-154 127,-135 178,-135 178,-154\"/>\n<text text-anchor=\"middle\" x=\"152.5\" y=\"-142\" font-family=\"sans\" font-size=\"10.00\">Amount</text>\n</g>\n<!-- 3&#45;&gt;4 -->\n<g id=\"edge4\" class=\"edge\">\n<title>3&#45;&gt;4</title>\n<path fill=\"none\" stroke=\"gray\" d=\"M152.5,-161.76C152.5,-160.36 152.5,-158.9 152.5,-157.45\"/>\n<polygon fill=\"gray\" stroke=\"gray\" points=\"153.55,-157.11 152.5,-154.11 151.45,-157.11 153.55,-157.11\"/>\n</g>\n<!-- 5 -->\n<g id=\"node6\" class=\"node\">\n<title>5</title>\n<polygon fill=\"#dbdb8d\" stroke=\"transparent\" points=\"175.5,-127 129.5,-127 129.5,-108 175.5,-108 175.5,-127\"/>\n<text text-anchor=\"middle\" x=\"152.5\" y=\"-115\" font-family=\"sans\" font-size=\"10.00\">Range</text>\n</g>\n<!-- 4&#45;&gt;5 -->\n<g id=\"edge5\" class=\"edge\">\n<title>4&#45;&gt;5</title>\n<path fill=\"none\" stroke=\"gray\" d=\"M152.5,-134.76C152.5,-133.36 152.5,-131.9 152.5,-130.45\"/>\n<polygon fill=\"gray\" stroke=\"gray\" points=\"153.55,-130.11 152.5,-127.11 151.45,-130.11 153.55,-130.11\"/>\n</g>\n<!-- 6 -->\n<g id=\"node7\" class=\"node\">\n<title>6</title>\n<polygon fill=\"#aec7e8\" stroke=\"transparent\" points=\"144,-100 109,-100 109,-81 144,-81 144,-100\"/>\n<text text-anchor=\"middle\" x=\"126.5\" y=\"-88\" font-family=\"sans\" font-size=\"10.00\">R13</text>\n</g>\n<!-- 5&#45;&gt;6 -->\n<g id=\"edge6\" class=\"edge\">\n<title>5&#45;&gt;6</title>\n<path fill=\"none\" stroke=\"gray\" d=\"M143.41,-107.76C141.55,-105.98 139.58,-104.08 137.67,-102.24\"/>\n<polygon fill=\"gray\" stroke=\"gray\" points=\"138.35,-101.43 135.46,-100.11 136.89,-102.95 138.35,-101.43\"/>\n</g>\n<!-- 8 -->\n<g id=\"node9\" class=\"node\">\n<title>8</title>\n<polygon fill=\"#dbdb8d\" stroke=\"transparent\" points=\"213.5,-100 145.5,-100 145.5,-81 213.5,-81 213.5,-100\"/>\n<text text-anchor=\"middle\" x=\"179.5\" y=\"-88\" font-family=\"sans\" font-size=\"10.00\">Range.stop</text>\n</g>\n<!-- 5&#45;&gt;8 -->\n<g id=\"edge7\" class=\"edge\">\n<title>5&#45;&gt;8</title>\n<path fill=\"none\" stroke=\"gray\" d=\"M161.94,-107.76C163.87,-105.98 165.91,-104.08 167.9,-102.24\"/>\n<polygon fill=\"gray\" stroke=\"gray\" points=\"168.71,-102.92 170.2,-100.11 167.28,-101.38 168.71,-102.92\"/>\n</g>\n<!-- 7 -->\n<g id=\"node8\" class=\"node\">\n<title>7</title>\n<polygon fill=\"#eeeeee\" stroke=\"transparent\" points=\"140.5,-73 112.5,-73 112.5,-54 140.5,-54 140.5,-73\"/>\n<text text-anchor=\"middle\" x=\"126.5\" y=\"-61\" font-family=\"sans\" font-size=\"10.00\">до</text>\n</g>\n<!-- 6&#45;&gt;7 -->\n<g id=\"edge8\" class=\"edge\">\n<title>6&#45;&gt;7</title>\n<path fill=\"none\" stroke=\"gray\" d=\"M126.5,-80.76C126.5,-79.36 126.5,-77.9 126.5,-76.45\"/>\n<polygon fill=\"gray\" stroke=\"gray\" points=\"127.55,-76.11 126.5,-73.11 125.45,-76.11 127.55,-76.11\"/>\n</g>\n<!-- 9 -->\n<g id=\"node10\" class=\"node\">\n<title>9</title>\n<polygon fill=\"#aec7e8\" stroke=\"transparent\" points=\"194,-73 165,-73 165,-54 194,-54 194,-73\"/>\n<text text-anchor=\"middle\" x=\"179.5\" y=\"-61\" font-family=\"sans\" font-size=\"10.00\">R5</text>\n</g>\n<!-- 8&#45;&gt;9 -->\n<g id=\"edge9\" class=\"edge\">\n<title>8&#45;&gt;9</title>\n<path fill=\"none\" stroke=\"gray\" d=\"M179.5,-80.76C179.5,-79.36 179.5,-77.9 179.5,-76.45\"/>\n<polygon fill=\"gray\" stroke=\"gray\" points=\"180.55,-76.11 179.5,-73.11 178.45,-76.11 180.55,-76.11\"/>\n</g>\n<!-- 10 -->\n<g id=\"node11\" class=\"node\">\n<title>10</title>\n<polygon fill=\"#dbdb8d\" stroke=\"transparent\" points=\"212.5,-46 146.5,-46 146.5,-27 212.5,-27 212.5,-46\"/>\n<text text-anchor=\"middle\" x=\"179.5\" y=\"-34\" font-family=\"sans\" font-size=\"10.00\">custom(int)</text>\n</g>\n<!-- 9&#45;&gt;10 -->\n<g id=\"edge10\" class=\"edge\">\n<title>9&#45;&gt;10</title>\n<path fill=\"none\" stroke=\"gray\" d=\"M179.5,-53.76C179.5,-52.36 179.5,-50.9 179.5,-49.45\"/>\n<polygon fill=\"gray\" stroke=\"gray\" points=\"180.55,-49.11 179.5,-46.11 178.45,-49.11 180.55,-49.11\"/>\n</g>\n<!-- 11 -->\n<g id=\"node12\" class=\"node\">\n<title>11</title>\n<polygon fill=\"#eeeeee\" stroke=\"transparent\" points=\"196,-19 163,-19 163,0 196,0 196,-19\"/>\n<text text-anchor=\"middle\" x=\"179.5\" y=\"-7\" font-family=\"sans\" font-size=\"10.00\">100</text>\n</g>\n<!-- 10&#45;&gt;11 -->\n<g id=\"edge11\" class=\"edge\">\n<title>10&#45;&gt;11</title>\n<path fill=\"none\" stroke=\"gray\" d=\"M179.5,-26.76C179.5,-25.36 179.5,-23.9 179.5,-22.45\"/>\n<polygon fill=\"gray\" stroke=\"gray\" points=\"180.55,-22.11 179.5,-19.11 178.45,-22.11 180.55,-22.11\"/>\n</g>\n</g>\n</svg>\n"
     },
     "metadata": {}
    },
    {
     "output_type": "display_data",
     "data": {
      "text/plain": [
       "Budget(\n",
       "    budget_word='стоимости',\n",
       "    amount=Amount(\n",
       "        value=None\n",
       "    )\n",
       ")"
      ]
     },
     "metadata": {}
    },
    {
     "output_type": "display_data",
     "data": {
      "text/plain": [
       "<IPython.core.display.HTML object>"
      ],
      "text/html": [
       "<div class=\"tex2jax_ignore\" style=\"white-space: pre-wrap\">Здравствуйте, выбрали Грецию. 2 семьи(2 взрослых и 1 подруга семьи и ее ребенок). Хотим у вас взять трансфер и авто на прокат. Номера разные (только на разных этажах). Что можете предложить нам?</div>"
      ]
     },
     "metadata": {}
    },
    {
     "output_type": "display_data",
     "data": {
      "text/plain": [
       "<IPython.core.display.HTML object>"
      ],
      "text/html": [
       "<div class=\"tex2jax_ignore\" style=\"white-space: pre-wrap\">Примерно на 7-9 ночей, море в шаговой доступности, номер с вайфаем, туалетом и кондиционером. <span style=\"padding: 2px; border-radius: 4px; border: 1px solid #bbdefb; background: #e3f2fd\">Бюджет скромный</span>.</div>"
      ]
     },
     "metadata": {}
    },
    {
     "output_type": "display_data",
     "data": {
      "text/plain": [
       "Graph(nodes=[...], edges=[...])"
      ],
      "image/svg+xml": "<?xml version=\"1.0\" encoding=\"UTF-8\" standalone=\"no\"?>\n<!DOCTYPE svg PUBLIC \"-//W3C//DTD SVG 1.1//EN\"\n \"http://www.w3.org/Graphics/SVG/1.1/DTD/svg11.dtd\">\n<!-- Generated by graphviz version 2.48.0 (20210717.1556)\n -->\n<!-- Title: G Pages: 1 -->\n<svg width=\"203pt\" height=\"135pt\"\n viewBox=\"0.00 0.00 202.50 135.00\" xmlns=\"http://www.w3.org/2000/svg\" xmlns:xlink=\"http://www.w3.org/1999/xlink\">\n<g id=\"graph0\" class=\"graph\" transform=\"scale(1 1) rotate(0) translate(4 131)\">\n<title>G</title>\n<polygon fill=\"white\" stroke=\"transparent\" points=\"-4,4 -4,-131 198.5,-131 198.5,4 -4,4\"/>\n<!-- 0 -->\n<g id=\"node1\" class=\"node\">\n<title>0</title>\n<polygon fill=\"#dbdb8d\" stroke=\"transparent\" points=\"127.5,-127 79.5,-127 79.5,-108 127.5,-108 127.5,-127\"/>\n<text text-anchor=\"middle\" x=\"103.5\" y=\"-115\" font-family=\"sans\" font-size=\"10.00\">Budget</text>\n</g>\n<!-- 1 -->\n<g id=\"node2\" class=\"node\">\n<title>1</title>\n<polygon fill=\"#dbdb8d\" stroke=\"transparent\" points=\"109,-100 0,-100 0,-81 109,-81 109,-100\"/>\n<text text-anchor=\"middle\" x=\"54.5\" y=\"-88\" font-family=\"sans\" font-size=\"10.00\">Budget.budget_word</text>\n</g>\n<!-- 0&#45;&gt;1 -->\n<g id=\"edge1\" class=\"edge\">\n<title>0&#45;&gt;1</title>\n<path fill=\"none\" stroke=\"gray\" d=\"M86.64,-107.9C82.59,-105.83 78.23,-103.61 74.07,-101.48\"/>\n<polygon fill=\"gray\" stroke=\"gray\" points=\"74.38,-100.46 71.23,-100.03 73.42,-102.33 74.38,-100.46\"/>\n</g>\n<!-- 3 -->\n<g id=\"node4\" class=\"node\">\n<title>3</title>\n<polygon fill=\"#dbdb8d\" stroke=\"transparent\" points=\"194.5,-100 110.5,-100 110.5,-81 194.5,-81 194.5,-100\"/>\n<text text-anchor=\"middle\" x=\"152.5\" y=\"-88\" font-family=\"sans\" font-size=\"10.00\">Budget.amount</text>\n</g>\n<!-- 0&#45;&gt;3 -->\n<g id=\"edge2\" class=\"edge\">\n<title>0&#45;&gt;3</title>\n<path fill=\"none\" stroke=\"gray\" d=\"M120.36,-107.9C124.41,-105.83 128.77,-103.61 132.93,-101.48\"/>\n<polygon fill=\"gray\" stroke=\"gray\" points=\"133.58,-102.33 135.77,-100.03 132.62,-100.46 133.58,-102.33\"/>\n</g>\n<!-- 2 -->\n<g id=\"node3\" class=\"node\">\n<title>2</title>\n<polygon fill=\"#eeeeee\" stroke=\"transparent\" points=\"82,-73 27,-73 27,-54 82,-54 82,-73\"/>\n<text text-anchor=\"middle\" x=\"54.5\" y=\"-61\" font-family=\"sans\" font-size=\"10.00\">Бюджет</text>\n</g>\n<!-- 1&#45;&gt;2 -->\n<g id=\"edge3\" class=\"edge\">\n<title>1&#45;&gt;2</title>\n<path fill=\"none\" stroke=\"gray\" d=\"M54.5,-80.76C54.5,-79.36 54.5,-77.9 54.5,-76.45\"/>\n<polygon fill=\"gray\" stroke=\"gray\" points=\"55.55,-76.11 54.5,-73.11 53.45,-76.11 55.55,-76.11\"/>\n</g>\n<!-- 4 -->\n<g id=\"node5\" class=\"node\">\n<title>4</title>\n<polygon fill=\"#dbdb8d\" stroke=\"transparent\" points=\"178,-73 127,-73 127,-54 178,-54 178,-73\"/>\n<text text-anchor=\"middle\" x=\"152.5\" y=\"-61\" font-family=\"sans\" font-size=\"10.00\">Amount</text>\n</g>\n<!-- 3&#45;&gt;4 -->\n<g id=\"edge4\" class=\"edge\">\n<title>3&#45;&gt;4</title>\n<path fill=\"none\" stroke=\"gray\" d=\"M152.5,-80.76C152.5,-79.36 152.5,-77.9 152.5,-76.45\"/>\n<polygon fill=\"gray\" stroke=\"gray\" points=\"153.55,-76.11 152.5,-73.11 151.45,-76.11 153.55,-76.11\"/>\n</g>\n<!-- 5 -->\n<g id=\"node6\" class=\"node\">\n<title>5</title>\n<polygon fill=\"#dbdb8d\" stroke=\"transparent\" points=\"178,-46 127,-46 127,-27 178,-27 178,-46\"/>\n<text text-anchor=\"middle\" x=\"152.5\" y=\"-34\" font-family=\"sans\" font-size=\"10.00\">Minimal</text>\n</g>\n<!-- 4&#45;&gt;5 -->\n<g id=\"edge5\" class=\"edge\">\n<title>4&#45;&gt;5</title>\n<path fill=\"none\" stroke=\"gray\" d=\"M152.5,-53.76C152.5,-52.36 152.5,-50.9 152.5,-49.45\"/>\n<polygon fill=\"gray\" stroke=\"gray\" points=\"153.55,-49.11 152.5,-46.11 151.45,-49.11 153.55,-49.11\"/>\n</g>\n<!-- 6 -->\n<g id=\"node7\" class=\"node\">\n<title>6</title>\n<polygon fill=\"#eeeeee\" stroke=\"transparent\" points=\"184,-19 121,-19 121,0 184,0 184,-19\"/>\n<text text-anchor=\"middle\" x=\"152.5\" y=\"-7\" font-family=\"sans\" font-size=\"10.00\">скромный</text>\n</g>\n<!-- 5&#45;&gt;6 -->\n<g id=\"edge6\" class=\"edge\">\n<title>5&#45;&gt;6</title>\n<path fill=\"none\" stroke=\"gray\" d=\"M152.5,-26.76C152.5,-25.36 152.5,-23.9 152.5,-22.45\"/>\n<polygon fill=\"gray\" stroke=\"gray\" points=\"153.55,-22.11 152.5,-19.11 151.45,-22.11 153.55,-22.11\"/>\n</g>\n</g>\n</svg>\n"
     },
     "metadata": {}
    },
    {
     "output_type": "display_data",
     "data": {
      "text/plain": [
       "Budget(\n",
       "    budget_word='Бюджет',\n",
       "    amount=Amount(\n",
       "        value=None\n",
       "    )\n",
       ")"
      ]
     },
     "metadata": {}
    }
   ],
   "metadata": {}
  },
  {
   "cell_type": "code",
   "execution_count": 50,
   "source": [
    "%run -n -i rules/children.py\n",
    "\n",
    "parser = Parser(KIDS_NUMBER)\n",
    "seed(1)\n",
    "for line in sample(lines, 30):\n",
    "    matches = list(parser.findall(line))\n",
    "    spans = [_.span for _ in matches]\n",
    "    show_markup(line, spans)\n",
    "    if matches:\n",
    "        match = matches[0]\n",
    "        display(match.tree.as_dot)\n",
    "        display(match.fact)"
   ],
   "outputs": [
    {
     "output_type": "display_data",
     "data": {
      "text/plain": [
       "<IPython.core.display.HTML object>"
      ],
      "text/html": [
       "<div class=\"tex2jax_ignore\" style=\"white-space: pre-wrap\">Здравствуйте. Мы бы хотели подобрать тур у вас. Хотим море, пляжный тур, нас двое (<span style=\"padding: 2px; border-radius: 4px; border: 1px solid #bbdefb; background: #e3f2fd\">без детей</span>). Нужно экономично, минимальные затраты(до 60). Но чтобы обязательно было море, спасибо)))</div>"
      ]
     },
     "metadata": {}
    },
    {
     "output_type": "display_data",
     "data": {
      "text/plain": [
       "Graph(nodes=[...], edges=[...])"
      ],
      "image/svg+xml": "<?xml version=\"1.0\" encoding=\"UTF-8\" standalone=\"no\"?>\n<!DOCTYPE svg PUBLIC \"-//W3C//DTD SVG 1.1//EN\"\n \"http://www.w3.org/Graphics/SVG/1.1/DTD/svg11.dtd\">\n<!-- Generated by graphviz version 2.48.0 (20210717.1556)\n -->\n<!-- Title: G Pages: 1 -->\n<svg width=\"99pt\" height=\"108pt\"\n viewBox=\"0.00 0.00 99.00 108.00\" xmlns=\"http://www.w3.org/2000/svg\" xmlns:xlink=\"http://www.w3.org/1999/xlink\">\n<g id=\"graph0\" class=\"graph\" transform=\"scale(1 1) rotate(0) translate(4 104)\">\n<title>G</title>\n<polygon fill=\"white\" stroke=\"transparent\" points=\"-4,4 -4,-104 95,-104 95,4 -4,4\"/>\n<!-- 0 -->\n<g id=\"node1\" class=\"node\">\n<title>0</title>\n<polygon fill=\"#dbdb8d\" stroke=\"transparent\" points=\"74.5,-100 2.5,-100 2.5,-81 74.5,-81 74.5,-100\"/>\n<text text-anchor=\"middle\" x=\"38.5\" y=\"-88\" font-family=\"sans\" font-size=\"10.00\">KidsNumber</text>\n</g>\n<!-- 1 -->\n<g id=\"node2\" class=\"node\">\n<title>1</title>\n<polygon fill=\"#aec7e8\" stroke=\"transparent\" points=\"53,-73 24,-73 24,-54 53,-54 53,-73\"/>\n<text text-anchor=\"middle\" x=\"38.5\" y=\"-61\" font-family=\"sans\" font-size=\"10.00\">R1</text>\n</g>\n<!-- 0&#45;&gt;1 -->\n<g id=\"edge1\" class=\"edge\">\n<title>0&#45;&gt;1</title>\n<path fill=\"none\" stroke=\"gray\" d=\"M38.5,-80.76C38.5,-79.36 38.5,-77.9 38.5,-76.45\"/>\n<polygon fill=\"gray\" stroke=\"gray\" points=\"39.55,-76.11 38.5,-73.11 37.45,-76.11 39.55,-76.11\"/>\n</g>\n<!-- 2 -->\n<g id=\"node3\" class=\"node\">\n<title>2</title>\n<polygon fill=\"#aec7e8\" stroke=\"transparent\" points=\"31,-46 2,-46 2,-27 31,-27 31,-46\"/>\n<text text-anchor=\"middle\" x=\"16.5\" y=\"-34\" font-family=\"sans\" font-size=\"10.00\">R6</text>\n</g>\n<!-- 1&#45;&gt;2 -->\n<g id=\"edge2\" class=\"edge\">\n<title>1&#45;&gt;2</title>\n<path fill=\"none\" stroke=\"gray\" d=\"M30.81,-53.76C29.31,-52.05 27.72,-50.25 26.16,-48.48\"/>\n<polygon fill=\"gray\" stroke=\"gray\" points=\"26.85,-47.67 24.08,-46.11 25.27,-49.06 26.85,-47.67\"/>\n</g>\n<!-- 4 -->\n<g id=\"node5\" class=\"node\">\n<title>4</title>\n<polygon fill=\"#dbdb8d\" stroke=\"transparent\" points=\"91,-46 32,-46 32,-27 91,-27 91,-46\"/>\n<text text-anchor=\"middle\" x=\"61.5\" y=\"-34\" font-family=\"sans\" font-size=\"10.00\">Childrens</text>\n</g>\n<!-- 1&#45;&gt;4 -->\n<g id=\"edge3\" class=\"edge\">\n<title>1&#45;&gt;4</title>\n<path fill=\"none\" stroke=\"gray\" d=\"M46.54,-53.76C48.11,-52.05 49.77,-50.25 51.4,-48.48\"/>\n<polygon fill=\"gray\" stroke=\"gray\" points=\"52.32,-49.03 53.58,-46.11 50.77,-47.61 52.32,-49.03\"/>\n</g>\n<!-- 3 -->\n<g id=\"node4\" class=\"node\">\n<title>3</title>\n<polygon fill=\"#eeeeee\" stroke=\"transparent\" points=\"33,-19 0,-19 0,0 33,0 33,-19\"/>\n<text text-anchor=\"middle\" x=\"16.5\" y=\"-7\" font-family=\"sans\" font-size=\"10.00\">без</text>\n</g>\n<!-- 2&#45;&gt;3 -->\n<g id=\"edge4\" class=\"edge\">\n<title>2&#45;&gt;3</title>\n<path fill=\"none\" stroke=\"gray\" d=\"M16.5,-26.76C16.5,-25.36 16.5,-23.9 16.5,-22.45\"/>\n<polygon fill=\"gray\" stroke=\"gray\" points=\"17.55,-22.11 16.5,-19.11 15.45,-22.11 17.55,-22.11\"/>\n</g>\n<!-- 5 -->\n<g id=\"node6\" class=\"node\">\n<title>5</title>\n<polygon fill=\"#eeeeee\" stroke=\"transparent\" points=\"84,-19 39,-19 39,0 84,0 84,-19\"/>\n<text text-anchor=\"middle\" x=\"61.5\" y=\"-7\" font-family=\"sans\" font-size=\"10.00\">детей</text>\n</g>\n<!-- 4&#45;&gt;5 -->\n<g id=\"edge5\" class=\"edge\">\n<title>4&#45;&gt;5</title>\n<path fill=\"none\" stroke=\"gray\" d=\"M61.5,-26.76C61.5,-25.36 61.5,-23.9 61.5,-22.45\"/>\n<polygon fill=\"gray\" stroke=\"gray\" points=\"62.55,-22.11 61.5,-19.11 60.45,-22.11 62.55,-22.11\"/>\n</g>\n</g>\n</svg>\n"
     },
     "metadata": {}
    },
    {
     "output_type": "display_data",
     "data": {
      "text/plain": [
       "KidsNumber(\n",
       "    words=None,\n",
       "    amount=None\n",
       ")"
      ]
     },
     "metadata": {}
    },
    {
     "output_type": "display_data",
     "data": {
      "text/plain": [
       "<IPython.core.display.HTML object>"
      ],
      "text/html": [
       "<div class=\"tex2jax_ignore\" style=\"white-space: pre-wrap\">Доброго времени суток. Интересует Хайнань, слышал от друзей что им там понравилось семьей. Едем с женой, ищем отель в первой линии. Бюджет до 70.</div>"
      ]
     },
     "metadata": {}
    },
    {
     "output_type": "display_data",
     "data": {
      "text/plain": [
       "<IPython.core.display.HTML object>"
      ],
      "text/html": [
       "<div class=\"tex2jax_ignore\" style=\"white-space: pre-wrap\">Ищем отдых ОАЭ, Турция, Тунис, Египет. Период с 10 сентяря до 25 сентября. Количество ночей от 10. Бюджет до 180000. 2взр и <span style=\"padding: 2px; border-radius: 4px; border: 1px solid #bbdefb; background: #e3f2fd\">2 ребенка</span>.</div>"
      ]
     },
     "metadata": {}
    },
    {
     "output_type": "display_data",
     "data": {
      "text/plain": [
       "Graph(nodes=[...], edges=[...])"
      ],
      "image/svg+xml": "<?xml version=\"1.0\" encoding=\"UTF-8\" standalone=\"no\"?>\n<!DOCTYPE svg PUBLIC \"-//W3C//DTD SVG 1.1//EN\"\n \"http://www.w3.org/Graphics/SVG/1.1/DTD/svg11.dtd\">\n<!-- Generated by graphviz version 2.48.0 (20210717.1556)\n -->\n<!-- Title: G Pages: 1 -->\n<svg width=\"217pt\" height=\"108pt\"\n viewBox=\"0.00 0.00 216.50 108.00\" xmlns=\"http://www.w3.org/2000/svg\" xmlns:xlink=\"http://www.w3.org/1999/xlink\">\n<g id=\"graph0\" class=\"graph\" transform=\"scale(1 1) rotate(0) translate(4 104)\">\n<title>G</title>\n<polygon fill=\"white\" stroke=\"transparent\" points=\"-4,4 -4,-104 212.5,-104 212.5,4 -4,4\"/>\n<!-- 0 -->\n<g id=\"node1\" class=\"node\">\n<title>0</title>\n<polygon fill=\"#dbdb8d\" stroke=\"transparent\" points=\"141.5,-100 69.5,-100 69.5,-81 141.5,-81 141.5,-100\"/>\n<text text-anchor=\"middle\" x=\"105.5\" y=\"-88\" font-family=\"sans\" font-size=\"10.00\">KidsNumber</text>\n</g>\n<!-- 1 -->\n<g id=\"node2\" class=\"node\">\n<title>1</title>\n<polygon fill=\"#dbdb8d\" stroke=\"transparent\" points=\"107,-73 0,-73 0,-54 107,-54 107,-73\"/>\n<text text-anchor=\"middle\" x=\"53.5\" y=\"-61\" font-family=\"sans\" font-size=\"10.00\">KidsNumber.amount</text>\n</g>\n<!-- 0&#45;&gt;1 -->\n<g id=\"edge1\" class=\"edge\">\n<title>0&#45;&gt;1</title>\n<path fill=\"none\" stroke=\"gray\" d=\"M87.6,-80.9C83.23,-78.79 78.51,-76.52 74.01,-74.36\"/>\n<polygon fill=\"gray\" stroke=\"gray\" points=\"74.41,-73.39 71.25,-73.03 73.5,-75.28 74.41,-73.39\"/>\n</g>\n<!-- 4 -->\n<g id=\"node5\" class=\"node\">\n<title>4</title>\n<polygon fill=\"#dbdb8d\" stroke=\"transparent\" points=\"208.5,-73 108.5,-73 108.5,-54 208.5,-54 208.5,-73\"/>\n<text text-anchor=\"middle\" x=\"158.5\" y=\"-61\" font-family=\"sans\" font-size=\"10.00\">KidsNumber.words</text>\n</g>\n<!-- 0&#45;&gt;4 -->\n<g id=\"edge2\" class=\"edge\">\n<title>0&#45;&gt;4</title>\n<path fill=\"none\" stroke=\"gray\" d=\"M123.74,-80.9C128.2,-78.79 133.01,-76.52 137.59,-74.36\"/>\n<polygon fill=\"gray\" stroke=\"gray\" points=\"138.14,-75.26 140.41,-73.03 137.25,-73.37 138.14,-75.26\"/>\n</g>\n<!-- 2 -->\n<g id=\"node3\" class=\"node\">\n<title>2</title>\n<polygon fill=\"#dbdb8d\" stroke=\"transparent\" points=\"86.5,-46 20.5,-46 20.5,-27 86.5,-27 86.5,-46\"/>\n<text text-anchor=\"middle\" x=\"53.5\" y=\"-34\" font-family=\"sans\" font-size=\"10.00\">custom(int)</text>\n</g>\n<!-- 1&#45;&gt;2 -->\n<g id=\"edge3\" class=\"edge\">\n<title>1&#45;&gt;2</title>\n<path fill=\"none\" stroke=\"gray\" d=\"M53.5,-53.76C53.5,-52.36 53.5,-50.9 53.5,-49.45\"/>\n<polygon fill=\"gray\" stroke=\"gray\" points=\"54.55,-49.11 53.5,-46.11 52.45,-49.11 54.55,-49.11\"/>\n</g>\n<!-- 3 -->\n<g id=\"node4\" class=\"node\">\n<title>3</title>\n<polygon fill=\"#eeeeee\" stroke=\"transparent\" points=\"64.5,-19 42.5,-19 42.5,0 64.5,0 64.5,-19\"/>\n<text text-anchor=\"middle\" x=\"53.5\" y=\"-7\" font-family=\"sans\" font-size=\"10.00\">2</text>\n</g>\n<!-- 2&#45;&gt;3 -->\n<g id=\"edge4\" class=\"edge\">\n<title>2&#45;&gt;3</title>\n<path fill=\"none\" stroke=\"gray\" d=\"M53.5,-26.76C53.5,-25.36 53.5,-23.9 53.5,-22.45\"/>\n<polygon fill=\"gray\" stroke=\"gray\" points=\"54.55,-22.11 53.5,-19.11 52.45,-22.11 54.55,-22.11\"/>\n</g>\n<!-- 5 -->\n<g id=\"node6\" class=\"node\">\n<title>5</title>\n<polygon fill=\"#dbdb8d\" stroke=\"transparent\" points=\"188,-46 129,-46 129,-27 188,-27 188,-46\"/>\n<text text-anchor=\"middle\" x=\"158.5\" y=\"-34\" font-family=\"sans\" font-size=\"10.00\">Childrens</text>\n</g>\n<!-- 4&#45;&gt;5 -->\n<g id=\"edge5\" class=\"edge\">\n<title>4&#45;&gt;5</title>\n<path fill=\"none\" stroke=\"gray\" d=\"M158.5,-53.76C158.5,-52.36 158.5,-50.9 158.5,-49.45\"/>\n<polygon fill=\"gray\" stroke=\"gray\" points=\"159.55,-49.11 158.5,-46.11 157.45,-49.11 159.55,-49.11\"/>\n</g>\n<!-- 6 -->\n<g id=\"node7\" class=\"node\">\n<title>6</title>\n<polygon fill=\"#eeeeee\" stroke=\"transparent\" points=\"186,-19 131,-19 131,0 186,0 186,-19\"/>\n<text text-anchor=\"middle\" x=\"158.5\" y=\"-7\" font-family=\"sans\" font-size=\"10.00\">ребенка</text>\n</g>\n<!-- 5&#45;&gt;6 -->\n<g id=\"edge6\" class=\"edge\">\n<title>5&#45;&gt;6</title>\n<path fill=\"none\" stroke=\"gray\" d=\"M158.5,-26.76C158.5,-25.36 158.5,-23.9 158.5,-22.45\"/>\n<polygon fill=\"gray\" stroke=\"gray\" points=\"159.55,-22.11 158.5,-19.11 157.45,-22.11 159.55,-22.11\"/>\n</g>\n</g>\n</svg>\n"
     },
     "metadata": {}
    },
    {
     "output_type": "display_data",
     "data": {
      "text/plain": [
       "KidsNumber(\n",
       "    words=Childrens(),\n",
       "    amount=2\n",
       ")"
      ]
     },
     "metadata": {}
    },
    {
     "output_type": "display_data",
     "data": {
      "text/plain": [
       "<IPython.core.display.HTML object>"
      ],
      "text/html": [
       "<div class=\"tex2jax_ignore\" style=\"white-space: pre-wrap\">Добрый день! Ищем пляжный отдых для пары, отель не ниже 4, трансфер из аэропорта. Не особо дорого, около 50-70.</div>"
      ]
     },
     "metadata": {}
    },
    {
     "output_type": "display_data",
     "data": {
      "text/plain": [
       "<IPython.core.display.HTML object>"
      ],
      "text/html": [
       "<div class=\"tex2jax_ignore\" style=\"white-space: pre-wrap\">Хотим нормальную пятерку, первая линия, чтобы был красивый пейзаж. двое взрослых + <span style=\"padding: 2px; border-radius: 4px; border: 1px solid #bbdefb; background: #e3f2fd\">маленький ребенок</span> 5 лет. По стоимости до 100. Что посоветуете?</div>"
      ]
     },
     "metadata": {}
    },
    {
     "output_type": "display_data",
     "data": {
      "text/plain": [
       "Graph(nodes=[...], edges=[...])"
      ],
      "image/svg+xml": "<?xml version=\"1.0\" encoding=\"UTF-8\" standalone=\"no\"?>\n<!DOCTYPE svg PUBLIC \"-//W3C//DTD SVG 1.1//EN\"\n \"http://www.w3.org/Graphics/SVG/1.1/DTD/svg11.dtd\">\n<!-- Generated by graphviz version 2.48.0 (20210717.1556)\n -->\n<!-- Title: G Pages: 1 -->\n<svg width=\"217pt\" height=\"108pt\"\n viewBox=\"0.00 0.00 216.50 108.00\" xmlns=\"http://www.w3.org/2000/svg\" xmlns:xlink=\"http://www.w3.org/1999/xlink\">\n<g id=\"graph0\" class=\"graph\" transform=\"scale(1 1) rotate(0) translate(4 104)\">\n<title>G</title>\n<polygon fill=\"white\" stroke=\"transparent\" points=\"-4,4 -4,-104 212.5,-104 212.5,4 -4,4\"/>\n<!-- 0 -->\n<g id=\"node1\" class=\"node\">\n<title>0</title>\n<polygon fill=\"#dbdb8d\" stroke=\"transparent\" points=\"141.5,-100 69.5,-100 69.5,-81 141.5,-81 141.5,-100\"/>\n<text text-anchor=\"middle\" x=\"105.5\" y=\"-88\" font-family=\"sans\" font-size=\"10.00\">KidsNumber</text>\n</g>\n<!-- 1 -->\n<g id=\"node2\" class=\"node\">\n<title>1</title>\n<polygon fill=\"#dbdb8d\" stroke=\"transparent\" points=\"107,-73 0,-73 0,-54 107,-54 107,-73\"/>\n<text text-anchor=\"middle\" x=\"53.5\" y=\"-61\" font-family=\"sans\" font-size=\"10.00\">KidsNumber.amount</text>\n</g>\n<!-- 0&#45;&gt;1 -->\n<g id=\"edge1\" class=\"edge\">\n<title>0&#45;&gt;1</title>\n<path fill=\"none\" stroke=\"gray\" d=\"M87.6,-80.9C83.23,-78.79 78.51,-76.52 74.01,-74.36\"/>\n<polygon fill=\"gray\" stroke=\"gray\" points=\"74.41,-73.39 71.25,-73.03 73.5,-75.28 74.41,-73.39\"/>\n</g>\n<!-- 4 -->\n<g id=\"node5\" class=\"node\">\n<title>4</title>\n<polygon fill=\"#dbdb8d\" stroke=\"transparent\" points=\"208.5,-73 108.5,-73 108.5,-54 208.5,-54 208.5,-73\"/>\n<text text-anchor=\"middle\" x=\"158.5\" y=\"-61\" font-family=\"sans\" font-size=\"10.00\">KidsNumber.words</text>\n</g>\n<!-- 0&#45;&gt;4 -->\n<g id=\"edge2\" class=\"edge\">\n<title>0&#45;&gt;4</title>\n<path fill=\"none\" stroke=\"gray\" d=\"M123.74,-80.9C128.2,-78.79 133.01,-76.52 137.59,-74.36\"/>\n<polygon fill=\"gray\" stroke=\"gray\" points=\"138.14,-75.26 140.41,-73.03 137.25,-73.37 138.14,-75.26\"/>\n</g>\n<!-- 2 -->\n<g id=\"node3\" class=\"node\">\n<title>2</title>\n<polygon fill=\"#aec7e8\" stroke=\"transparent\" points=\"68,-46 39,-46 39,-27 68,-27 68,-46\"/>\n<text text-anchor=\"middle\" x=\"53.5\" y=\"-34\" font-family=\"sans\" font-size=\"10.00\">R8</text>\n</g>\n<!-- 1&#45;&gt;2 -->\n<g id=\"edge3\" class=\"edge\">\n<title>1&#45;&gt;2</title>\n<path fill=\"none\" stroke=\"gray\" d=\"M53.5,-53.76C53.5,-52.36 53.5,-50.9 53.5,-49.45\"/>\n<polygon fill=\"gray\" stroke=\"gray\" points=\"54.55,-49.11 53.5,-46.11 52.45,-49.11 54.55,-49.11\"/>\n</g>\n<!-- 3 -->\n<g id=\"node4\" class=\"node\">\n<title>3</title>\n<polygon fill=\"#eeeeee\" stroke=\"transparent\" points=\"87.5,-19 19.5,-19 19.5,0 87.5,0 87.5,-19\"/>\n<text text-anchor=\"middle\" x=\"53.5\" y=\"-7\" font-family=\"sans\" font-size=\"10.00\">маленький</text>\n</g>\n<!-- 2&#45;&gt;3 -->\n<g id=\"edge4\" class=\"edge\">\n<title>2&#45;&gt;3</title>\n<path fill=\"none\" stroke=\"gray\" d=\"M53.5,-26.76C53.5,-25.36 53.5,-23.9 53.5,-22.45\"/>\n<polygon fill=\"gray\" stroke=\"gray\" points=\"54.55,-22.11 53.5,-19.11 52.45,-22.11 54.55,-22.11\"/>\n</g>\n<!-- 5 -->\n<g id=\"node6\" class=\"node\">\n<title>5</title>\n<polygon fill=\"#dbdb8d\" stroke=\"transparent\" points=\"188,-46 129,-46 129,-27 188,-27 188,-46\"/>\n<text text-anchor=\"middle\" x=\"158.5\" y=\"-34\" font-family=\"sans\" font-size=\"10.00\">Childrens</text>\n</g>\n<!-- 4&#45;&gt;5 -->\n<g id=\"edge5\" class=\"edge\">\n<title>4&#45;&gt;5</title>\n<path fill=\"none\" stroke=\"gray\" d=\"M158.5,-53.76C158.5,-52.36 158.5,-50.9 158.5,-49.45\"/>\n<polygon fill=\"gray\" stroke=\"gray\" points=\"159.55,-49.11 158.5,-46.11 157.45,-49.11 159.55,-49.11\"/>\n</g>\n<!-- 6 -->\n<g id=\"node7\" class=\"node\">\n<title>6</title>\n<polygon fill=\"#eeeeee\" stroke=\"transparent\" points=\"186,-19 131,-19 131,0 186,0 186,-19\"/>\n<text text-anchor=\"middle\" x=\"158.5\" y=\"-7\" font-family=\"sans\" font-size=\"10.00\">ребенок</text>\n</g>\n<!-- 5&#45;&gt;6 -->\n<g id=\"edge6\" class=\"edge\">\n<title>5&#45;&gt;6</title>\n<path fill=\"none\" stroke=\"gray\" d=\"M158.5,-26.76C158.5,-25.36 158.5,-23.9 158.5,-22.45\"/>\n<polygon fill=\"gray\" stroke=\"gray\" points=\"159.55,-22.11 158.5,-19.11 157.45,-22.11 159.55,-22.11\"/>\n</g>\n</g>\n</svg>\n"
     },
     "metadata": {}
    },
    {
     "output_type": "display_data",
     "data": {
      "text/plain": [
       "KidsNumber(\n",
       "    words=Childrens(),\n",
       "    amount='маленький'\n",
       ")"
      ]
     },
     "metadata": {}
    },
    {
     "output_type": "display_data",
     "data": {
      "text/plain": [
       "<IPython.core.display.HTML object>"
      ],
      "text/html": [
       "<div class=\"tex2jax_ignore\" style=\"white-space: pre-wrap\">Приветики! Я хотела бы поехать куда то на море с мужем и сыном. Ну сын маленький-7 лет ему надо чтобы был ну бассейн там аниматоры что то такое. Мужу надо шведский стол и бар. Слышала что в Таиланде не очень сейчас, может Вьетнам? Что можешь пообрать?</div>"
      ]
     },
     "metadata": {}
    },
    {
     "output_type": "display_data",
     "data": {
      "text/plain": [
       "<IPython.core.display.HTML object>"
      ],
      "text/html": [
       "<div class=\"tex2jax_ignore\" style=\"white-space: pre-wrap\">Семья 2+<span style=\"padding: 2px; border-radius: 4px; border: 1px solid #bbdefb; background: #e3f2fd\">1 ребенок</span>(11), Турция , Район Авсалар,Инджекум,Тюрклер, 4-5*, 1 линия, песочный заход</div>"
      ]
     },
     "metadata": {}
    },
    {
     "output_type": "display_data",
     "data": {
      "text/plain": [
       "Graph(nodes=[...], edges=[...])"
      ],
      "image/svg+xml": "<?xml version=\"1.0\" encoding=\"UTF-8\" standalone=\"no\"?>\n<!DOCTYPE svg PUBLIC \"-//W3C//DTD SVG 1.1//EN\"\n \"http://www.w3.org/Graphics/SVG/1.1/DTD/svg11.dtd\">\n<!-- Generated by graphviz version 2.48.0 (20210717.1556)\n -->\n<!-- Title: G Pages: 1 -->\n<svg width=\"217pt\" height=\"108pt\"\n viewBox=\"0.00 0.00 216.50 108.00\" xmlns=\"http://www.w3.org/2000/svg\" xmlns:xlink=\"http://www.w3.org/1999/xlink\">\n<g id=\"graph0\" class=\"graph\" transform=\"scale(1 1) rotate(0) translate(4 104)\">\n<title>G</title>\n<polygon fill=\"white\" stroke=\"transparent\" points=\"-4,4 -4,-104 212.5,-104 212.5,4 -4,4\"/>\n<!-- 0 -->\n<g id=\"node1\" class=\"node\">\n<title>0</title>\n<polygon fill=\"#dbdb8d\" stroke=\"transparent\" points=\"141.5,-100 69.5,-100 69.5,-81 141.5,-81 141.5,-100\"/>\n<text text-anchor=\"middle\" x=\"105.5\" y=\"-88\" font-family=\"sans\" font-size=\"10.00\">KidsNumber</text>\n</g>\n<!-- 1 -->\n<g id=\"node2\" class=\"node\">\n<title>1</title>\n<polygon fill=\"#dbdb8d\" stroke=\"transparent\" points=\"107,-73 0,-73 0,-54 107,-54 107,-73\"/>\n<text text-anchor=\"middle\" x=\"53.5\" y=\"-61\" font-family=\"sans\" font-size=\"10.00\">KidsNumber.amount</text>\n</g>\n<!-- 0&#45;&gt;1 -->\n<g id=\"edge1\" class=\"edge\">\n<title>0&#45;&gt;1</title>\n<path fill=\"none\" stroke=\"gray\" d=\"M87.6,-80.9C83.23,-78.79 78.51,-76.52 74.01,-74.36\"/>\n<polygon fill=\"gray\" stroke=\"gray\" points=\"74.41,-73.39 71.25,-73.03 73.5,-75.28 74.41,-73.39\"/>\n</g>\n<!-- 4 -->\n<g id=\"node5\" class=\"node\">\n<title>4</title>\n<polygon fill=\"#dbdb8d\" stroke=\"transparent\" points=\"208.5,-73 108.5,-73 108.5,-54 208.5,-54 208.5,-73\"/>\n<text text-anchor=\"middle\" x=\"158.5\" y=\"-61\" font-family=\"sans\" font-size=\"10.00\">KidsNumber.words</text>\n</g>\n<!-- 0&#45;&gt;4 -->\n<g id=\"edge2\" class=\"edge\">\n<title>0&#45;&gt;4</title>\n<path fill=\"none\" stroke=\"gray\" d=\"M123.74,-80.9C128.2,-78.79 133.01,-76.52 137.59,-74.36\"/>\n<polygon fill=\"gray\" stroke=\"gray\" points=\"138.14,-75.26 140.41,-73.03 137.25,-73.37 138.14,-75.26\"/>\n</g>\n<!-- 2 -->\n<g id=\"node3\" class=\"node\">\n<title>2</title>\n<polygon fill=\"#dbdb8d\" stroke=\"transparent\" points=\"86.5,-46 20.5,-46 20.5,-27 86.5,-27 86.5,-46\"/>\n<text text-anchor=\"middle\" x=\"53.5\" y=\"-34\" font-family=\"sans\" font-size=\"10.00\">custom(int)</text>\n</g>\n<!-- 1&#45;&gt;2 -->\n<g id=\"edge3\" class=\"edge\">\n<title>1&#45;&gt;2</title>\n<path fill=\"none\" stroke=\"gray\" d=\"M53.5,-53.76C53.5,-52.36 53.5,-50.9 53.5,-49.45\"/>\n<polygon fill=\"gray\" stroke=\"gray\" points=\"54.55,-49.11 53.5,-46.11 52.45,-49.11 54.55,-49.11\"/>\n</g>\n<!-- 3 -->\n<g id=\"node4\" class=\"node\">\n<title>3</title>\n<polygon fill=\"#eeeeee\" stroke=\"transparent\" points=\"64.5,-19 42.5,-19 42.5,0 64.5,0 64.5,-19\"/>\n<text text-anchor=\"middle\" x=\"53.5\" y=\"-7\" font-family=\"sans\" font-size=\"10.00\">1</text>\n</g>\n<!-- 2&#45;&gt;3 -->\n<g id=\"edge4\" class=\"edge\">\n<title>2&#45;&gt;3</title>\n<path fill=\"none\" stroke=\"gray\" d=\"M53.5,-26.76C53.5,-25.36 53.5,-23.9 53.5,-22.45\"/>\n<polygon fill=\"gray\" stroke=\"gray\" points=\"54.55,-22.11 53.5,-19.11 52.45,-22.11 54.55,-22.11\"/>\n</g>\n<!-- 5 -->\n<g id=\"node6\" class=\"node\">\n<title>5</title>\n<polygon fill=\"#dbdb8d\" stroke=\"transparent\" points=\"188,-46 129,-46 129,-27 188,-27 188,-46\"/>\n<text text-anchor=\"middle\" x=\"158.5\" y=\"-34\" font-family=\"sans\" font-size=\"10.00\">Childrens</text>\n</g>\n<!-- 4&#45;&gt;5 -->\n<g id=\"edge5\" class=\"edge\">\n<title>4&#45;&gt;5</title>\n<path fill=\"none\" stroke=\"gray\" d=\"M158.5,-53.76C158.5,-52.36 158.5,-50.9 158.5,-49.45\"/>\n<polygon fill=\"gray\" stroke=\"gray\" points=\"159.55,-49.11 158.5,-46.11 157.45,-49.11 159.55,-49.11\"/>\n</g>\n<!-- 6 -->\n<g id=\"node7\" class=\"node\">\n<title>6</title>\n<polygon fill=\"#eeeeee\" stroke=\"transparent\" points=\"186,-19 131,-19 131,0 186,0 186,-19\"/>\n<text text-anchor=\"middle\" x=\"158.5\" y=\"-7\" font-family=\"sans\" font-size=\"10.00\">ребенок</text>\n</g>\n<!-- 5&#45;&gt;6 -->\n<g id=\"edge6\" class=\"edge\">\n<title>5&#45;&gt;6</title>\n<path fill=\"none\" stroke=\"gray\" d=\"M158.5,-26.76C158.5,-25.36 158.5,-23.9 158.5,-22.45\"/>\n<polygon fill=\"gray\" stroke=\"gray\" points=\"159.55,-22.11 158.5,-19.11 157.45,-22.11 159.55,-22.11\"/>\n</g>\n</g>\n</svg>\n"
     },
     "metadata": {}
    },
    {
     "output_type": "display_data",
     "data": {
      "text/plain": [
       "KidsNumber(\n",
       "    words=Childrens(),\n",
       "    amount=1\n",
       ")"
      ]
     },
     "metadata": {}
    },
    {
     "output_type": "display_data",
     "data": {
      "text/plain": [
       "<IPython.core.display.HTML object>"
      ],
      "text/html": [
       "<div class=\"tex2jax_ignore\" style=\"white-space: pre-wrap\">Нужно чтобы отель был недалеко от аэропорта. Чтобы был песчаный вход, чтобы детское питание было, детская кроватка, чтобы номера были 2-х комнатные, у нас семья 4 человека с <span style=\"padding: 2px; border-radius: 4px; border: 1px solid #bbdefb; background: #e3f2fd\">младенцем</span>. Детские горки в отеле для старшего и штобы был детский клую. Нужно очень хорошее питание.</div>"
      ]
     },
     "metadata": {}
    },
    {
     "output_type": "display_data",
     "data": {
      "text/plain": [
       "Graph(nodes=[...], edges=[...])"
      ],
      "image/svg+xml": "<?xml version=\"1.0\" encoding=\"UTF-8\" standalone=\"no\"?>\n<!DOCTYPE svg PUBLIC \"-//W3C//DTD SVG 1.1//EN\"\n \"http://www.w3.org/Graphics/SVG/1.1/DTD/svg11.dtd\">\n<!-- Generated by graphviz version 2.48.0 (20210717.1556)\n -->\n<!-- Title: G Pages: 1 -->\n<svg width=\"108pt\" height=\"81pt\"\n viewBox=\"0.00 0.00 108.00 81.00\" xmlns=\"http://www.w3.org/2000/svg\" xmlns:xlink=\"http://www.w3.org/1999/xlink\">\n<g id=\"graph0\" class=\"graph\" transform=\"scale(1 1) rotate(0) translate(4 77)\">\n<title>G</title>\n<polygon fill=\"white\" stroke=\"transparent\" points=\"-4,4 -4,-77 104,-77 104,4 -4,4\"/>\n<!-- 0 -->\n<g id=\"node1\" class=\"node\">\n<title>0</title>\n<polygon fill=\"#dbdb8d\" stroke=\"transparent\" points=\"86,-73 14,-73 14,-54 86,-54 86,-73\"/>\n<text text-anchor=\"middle\" x=\"50\" y=\"-61\" font-family=\"sans\" font-size=\"10.00\">KidsNumber</text>\n</g>\n<!-- 1 -->\n<g id=\"node2\" class=\"node\">\n<title>1</title>\n<polygon fill=\"#dbdb8d\" stroke=\"transparent\" points=\"100,-46 0,-46 0,-27 100,-27 100,-46\"/>\n<text text-anchor=\"middle\" x=\"50\" y=\"-34\" font-family=\"sans\" font-size=\"10.00\">KidsNumber.words</text>\n</g>\n<!-- 0&#45;&gt;1 -->\n<g id=\"edge1\" class=\"edge\">\n<title>0&#45;&gt;1</title>\n<path fill=\"none\" stroke=\"gray\" d=\"M50,-53.76C50,-52.36 50,-50.9 50,-49.45\"/>\n<polygon fill=\"gray\" stroke=\"gray\" points=\"51.05,-49.11 50,-46.11 48.95,-49.11 51.05,-49.11\"/>\n</g>\n<!-- 2 -->\n<g id=\"node3\" class=\"node\">\n<title>2</title>\n<polygon fill=\"#eeeeee\" stroke=\"transparent\" points=\"85,-19 15,-19 15,0 85,0 85,-19\"/>\n<text text-anchor=\"middle\" x=\"50\" y=\"-7\" font-family=\"sans\" font-size=\"10.00\">младенцем</text>\n</g>\n<!-- 1&#45;&gt;2 -->\n<g id=\"edge2\" class=\"edge\">\n<title>1&#45;&gt;2</title>\n<path fill=\"none\" stroke=\"gray\" d=\"M50,-26.76C50,-25.36 50,-23.9 50,-22.45\"/>\n<polygon fill=\"gray\" stroke=\"gray\" points=\"51.05,-22.11 50,-19.11 48.95,-22.11 51.05,-22.11\"/>\n</g>\n</g>\n</svg>\n"
     },
     "metadata": {}
    },
    {
     "output_type": "display_data",
     "data": {
      "text/plain": [
       "KidsNumber(\n",
       "    words='младенцем',\n",
       "    amount=None\n",
       ")"
      ]
     },
     "metadata": {}
    },
    {
     "output_type": "display_data",
     "data": {
      "text/plain": [
       "<IPython.core.display.HTML object>"
      ],
      "text/html": [
       "<div class=\"tex2jax_ignore\" style=\"white-space: pre-wrap\">Отель нужен новый или чтобы ремонт был в прошлом году. Большая территория, бассейны, ультра все включено, импортный алкоголь, <span style=\"padding: 2px; border-radius: 4px; border: 1px solid #bbdefb; background: #e3f2fd\">детей поменьше</span></div>"
      ]
     },
     "metadata": {}
    },
    {
     "output_type": "display_data",
     "data": {
      "text/plain": [
       "Graph(nodes=[...], edges=[...])"
      ],
      "image/svg+xml": "<?xml version=\"1.0\" encoding=\"UTF-8\" standalone=\"no\"?>\n<!DOCTYPE svg PUBLIC \"-//W3C//DTD SVG 1.1//EN\"\n \"http://www.w3.org/Graphics/SVG/1.1/DTD/svg11.dtd\">\n<!-- Generated by graphviz version 2.48.0 (20210717.1556)\n -->\n<!-- Title: G Pages: 1 -->\n<svg width=\"217pt\" height=\"108pt\"\n viewBox=\"0.00 0.00 216.50 108.00\" xmlns=\"http://www.w3.org/2000/svg\" xmlns:xlink=\"http://www.w3.org/1999/xlink\">\n<g id=\"graph0\" class=\"graph\" transform=\"scale(1 1) rotate(0) translate(4 104)\">\n<title>G</title>\n<polygon fill=\"white\" stroke=\"transparent\" points=\"-4,4 -4,-104 212.5,-104 212.5,4 -4,4\"/>\n<!-- 0 -->\n<g id=\"node1\" class=\"node\">\n<title>0</title>\n<polygon fill=\"#dbdb8d\" stroke=\"transparent\" points=\"138,-100 66,-100 66,-81 138,-81 138,-100\"/>\n<text text-anchor=\"middle\" x=\"102\" y=\"-88\" font-family=\"sans\" font-size=\"10.00\">KidsNumber</text>\n</g>\n<!-- 1 -->\n<g id=\"node2\" class=\"node\">\n<title>1</title>\n<polygon fill=\"#dbdb8d\" stroke=\"transparent\" points=\"100,-73 0,-73 0,-54 100,-54 100,-73\"/>\n<text text-anchor=\"middle\" x=\"50\" y=\"-61\" font-family=\"sans\" font-size=\"10.00\">KidsNumber.words</text>\n</g>\n<!-- 0&#45;&gt;1 -->\n<g id=\"edge1\" class=\"edge\">\n<title>0&#45;&gt;1</title>\n<path fill=\"none\" stroke=\"gray\" d=\"M84.1,-80.9C79.73,-78.79 75.01,-76.52 70.51,-74.36\"/>\n<polygon fill=\"gray\" stroke=\"gray\" points=\"70.91,-73.39 67.75,-73.03 70,-75.28 70.91,-73.39\"/>\n</g>\n<!-- 4 -->\n<g id=\"node5\" class=\"node\">\n<title>4</title>\n<polygon fill=\"#dbdb8d\" stroke=\"transparent\" points=\"208.5,-73 101.5,-73 101.5,-54 208.5,-54 208.5,-73\"/>\n<text text-anchor=\"middle\" x=\"155\" y=\"-61\" font-family=\"sans\" font-size=\"10.00\">KidsNumber.amount</text>\n</g>\n<!-- 0&#45;&gt;4 -->\n<g id=\"edge2\" class=\"edge\">\n<title>0&#45;&gt;4</title>\n<path fill=\"none\" stroke=\"gray\" d=\"M120.24,-80.9C124.7,-78.79 129.51,-76.52 134.09,-74.36\"/>\n<polygon fill=\"gray\" stroke=\"gray\" points=\"134.64,-75.26 136.91,-73.03 133.75,-73.37 134.64,-75.26\"/>\n</g>\n<!-- 2 -->\n<g id=\"node3\" class=\"node\">\n<title>2</title>\n<polygon fill=\"#dbdb8d\" stroke=\"transparent\" points=\"79.5,-46 20.5,-46 20.5,-27 79.5,-27 79.5,-46\"/>\n<text text-anchor=\"middle\" x=\"50\" y=\"-34\" font-family=\"sans\" font-size=\"10.00\">Childrens</text>\n</g>\n<!-- 1&#45;&gt;2 -->\n<g id=\"edge3\" class=\"edge\">\n<title>1&#45;&gt;2</title>\n<path fill=\"none\" stroke=\"gray\" d=\"M50,-53.76C50,-52.36 50,-50.9 50,-49.45\"/>\n<polygon fill=\"gray\" stroke=\"gray\" points=\"51.05,-49.11 50,-46.11 48.95,-49.11 51.05,-49.11\"/>\n</g>\n<!-- 3 -->\n<g id=\"node4\" class=\"node\">\n<title>3</title>\n<polygon fill=\"#eeeeee\" stroke=\"transparent\" points=\"72.5,-19 27.5,-19 27.5,0 72.5,0 72.5,-19\"/>\n<text text-anchor=\"middle\" x=\"50\" y=\"-7\" font-family=\"sans\" font-size=\"10.00\">детей</text>\n</g>\n<!-- 2&#45;&gt;3 -->\n<g id=\"edge4\" class=\"edge\">\n<title>2&#45;&gt;3</title>\n<path fill=\"none\" stroke=\"gray\" d=\"M50,-26.76C50,-25.36 50,-23.9 50,-22.45\"/>\n<polygon fill=\"gray\" stroke=\"gray\" points=\"51.05,-22.11 50,-19.11 48.95,-22.11 51.05,-22.11\"/>\n</g>\n<!-- 5 -->\n<g id=\"node6\" class=\"node\">\n<title>5</title>\n<polygon fill=\"#aec7e8\" stroke=\"transparent\" points=\"169.5,-46 140.5,-46 140.5,-27 169.5,-27 169.5,-46\"/>\n<text text-anchor=\"middle\" x=\"155\" y=\"-34\" font-family=\"sans\" font-size=\"10.00\">R8</text>\n</g>\n<!-- 4&#45;&gt;5 -->\n<g id=\"edge5\" class=\"edge\">\n<title>4&#45;&gt;5</title>\n<path fill=\"none\" stroke=\"gray\" d=\"M155,-53.76C155,-52.36 155,-50.9 155,-49.45\"/>\n<polygon fill=\"gray\" stroke=\"gray\" points=\"156.05,-49.11 155,-46.11 153.95,-49.11 156.05,-49.11\"/>\n</g>\n<!-- 6 -->\n<g id=\"node7\" class=\"node\">\n<title>6</title>\n<polygon fill=\"#eeeeee\" stroke=\"transparent\" points=\"187,-19 123,-19 123,0 187,0 187,-19\"/>\n<text text-anchor=\"middle\" x=\"155\" y=\"-7\" font-family=\"sans\" font-size=\"10.00\">поменьше</text>\n</g>\n<!-- 5&#45;&gt;6 -->\n<g id=\"edge6\" class=\"edge\">\n<title>5&#45;&gt;6</title>\n<path fill=\"none\" stroke=\"gray\" d=\"M155,-26.76C155,-25.36 155,-23.9 155,-22.45\"/>\n<polygon fill=\"gray\" stroke=\"gray\" points=\"156.05,-22.11 155,-19.11 153.95,-22.11 156.05,-22.11\"/>\n</g>\n</g>\n</svg>\n"
     },
     "metadata": {}
    },
    {
     "output_type": "display_data",
     "data": {
      "text/plain": [
       "KidsNumber(\n",
       "    words=Childrens(),\n",
       "    amount='поменьше'\n",
       ")"
      ]
     },
     "metadata": {}
    },
    {
     "output_type": "display_data",
     "data": {
      "text/plain": [
       "<IPython.core.display.HTML object>"
      ],
      "text/html": [
       "<div class=\"tex2jax_ignore\" style=\"white-space: pre-wrap\">Добрый вечер. Расскажите куда можно поехать семье с детьми. Какие направления открыты? 2 взр и <span style=\"padding: 2px; border-radius: 4px; border: 1px solid #bbdefb; background: #e3f2fd\">2 ребенка</span></div>"
      ]
     },
     "metadata": {}
    },
    {
     "output_type": "display_data",
     "data": {
      "text/plain": [
       "Graph(nodes=[...], edges=[...])"
      ],
      "image/svg+xml": "<?xml version=\"1.0\" encoding=\"UTF-8\" standalone=\"no\"?>\n<!DOCTYPE svg PUBLIC \"-//W3C//DTD SVG 1.1//EN\"\n \"http://www.w3.org/Graphics/SVG/1.1/DTD/svg11.dtd\">\n<!-- Generated by graphviz version 2.48.0 (20210717.1556)\n -->\n<!-- Title: G Pages: 1 -->\n<svg width=\"217pt\" height=\"108pt\"\n viewBox=\"0.00 0.00 216.50 108.00\" xmlns=\"http://www.w3.org/2000/svg\" xmlns:xlink=\"http://www.w3.org/1999/xlink\">\n<g id=\"graph0\" class=\"graph\" transform=\"scale(1 1) rotate(0) translate(4 104)\">\n<title>G</title>\n<polygon fill=\"white\" stroke=\"transparent\" points=\"-4,4 -4,-104 212.5,-104 212.5,4 -4,4\"/>\n<!-- 0 -->\n<g id=\"node1\" class=\"node\">\n<title>0</title>\n<polygon fill=\"#dbdb8d\" stroke=\"transparent\" points=\"141.5,-100 69.5,-100 69.5,-81 141.5,-81 141.5,-100\"/>\n<text text-anchor=\"middle\" x=\"105.5\" y=\"-88\" font-family=\"sans\" font-size=\"10.00\">KidsNumber</text>\n</g>\n<!-- 1 -->\n<g id=\"node2\" class=\"node\">\n<title>1</title>\n<polygon fill=\"#dbdb8d\" stroke=\"transparent\" points=\"107,-73 0,-73 0,-54 107,-54 107,-73\"/>\n<text text-anchor=\"middle\" x=\"53.5\" y=\"-61\" font-family=\"sans\" font-size=\"10.00\">KidsNumber.amount</text>\n</g>\n<!-- 0&#45;&gt;1 -->\n<g id=\"edge1\" class=\"edge\">\n<title>0&#45;&gt;1</title>\n<path fill=\"none\" stroke=\"gray\" d=\"M87.6,-80.9C83.23,-78.79 78.51,-76.52 74.01,-74.36\"/>\n<polygon fill=\"gray\" stroke=\"gray\" points=\"74.41,-73.39 71.25,-73.03 73.5,-75.28 74.41,-73.39\"/>\n</g>\n<!-- 4 -->\n<g id=\"node5\" class=\"node\">\n<title>4</title>\n<polygon fill=\"#dbdb8d\" stroke=\"transparent\" points=\"208.5,-73 108.5,-73 108.5,-54 208.5,-54 208.5,-73\"/>\n<text text-anchor=\"middle\" x=\"158.5\" y=\"-61\" font-family=\"sans\" font-size=\"10.00\">KidsNumber.words</text>\n</g>\n<!-- 0&#45;&gt;4 -->\n<g id=\"edge2\" class=\"edge\">\n<title>0&#45;&gt;4</title>\n<path fill=\"none\" stroke=\"gray\" d=\"M123.74,-80.9C128.2,-78.79 133.01,-76.52 137.59,-74.36\"/>\n<polygon fill=\"gray\" stroke=\"gray\" points=\"138.14,-75.26 140.41,-73.03 137.25,-73.37 138.14,-75.26\"/>\n</g>\n<!-- 2 -->\n<g id=\"node3\" class=\"node\">\n<title>2</title>\n<polygon fill=\"#dbdb8d\" stroke=\"transparent\" points=\"86.5,-46 20.5,-46 20.5,-27 86.5,-27 86.5,-46\"/>\n<text text-anchor=\"middle\" x=\"53.5\" y=\"-34\" font-family=\"sans\" font-size=\"10.00\">custom(int)</text>\n</g>\n<!-- 1&#45;&gt;2 -->\n<g id=\"edge3\" class=\"edge\">\n<title>1&#45;&gt;2</title>\n<path fill=\"none\" stroke=\"gray\" d=\"M53.5,-53.76C53.5,-52.36 53.5,-50.9 53.5,-49.45\"/>\n<polygon fill=\"gray\" stroke=\"gray\" points=\"54.55,-49.11 53.5,-46.11 52.45,-49.11 54.55,-49.11\"/>\n</g>\n<!-- 3 -->\n<g id=\"node4\" class=\"node\">\n<title>3</title>\n<polygon fill=\"#eeeeee\" stroke=\"transparent\" points=\"64.5,-19 42.5,-19 42.5,0 64.5,0 64.5,-19\"/>\n<text text-anchor=\"middle\" x=\"53.5\" y=\"-7\" font-family=\"sans\" font-size=\"10.00\">2</text>\n</g>\n<!-- 2&#45;&gt;3 -->\n<g id=\"edge4\" class=\"edge\">\n<title>2&#45;&gt;3</title>\n<path fill=\"none\" stroke=\"gray\" d=\"M53.5,-26.76C53.5,-25.36 53.5,-23.9 53.5,-22.45\"/>\n<polygon fill=\"gray\" stroke=\"gray\" points=\"54.55,-22.11 53.5,-19.11 52.45,-22.11 54.55,-22.11\"/>\n</g>\n<!-- 5 -->\n<g id=\"node6\" class=\"node\">\n<title>5</title>\n<polygon fill=\"#dbdb8d\" stroke=\"transparent\" points=\"188,-46 129,-46 129,-27 188,-27 188,-46\"/>\n<text text-anchor=\"middle\" x=\"158.5\" y=\"-34\" font-family=\"sans\" font-size=\"10.00\">Childrens</text>\n</g>\n<!-- 4&#45;&gt;5 -->\n<g id=\"edge5\" class=\"edge\">\n<title>4&#45;&gt;5</title>\n<path fill=\"none\" stroke=\"gray\" d=\"M158.5,-53.76C158.5,-52.36 158.5,-50.9 158.5,-49.45\"/>\n<polygon fill=\"gray\" stroke=\"gray\" points=\"159.55,-49.11 158.5,-46.11 157.45,-49.11 159.55,-49.11\"/>\n</g>\n<!-- 6 -->\n<g id=\"node7\" class=\"node\">\n<title>6</title>\n<polygon fill=\"#eeeeee\" stroke=\"transparent\" points=\"186,-19 131,-19 131,0 186,0 186,-19\"/>\n<text text-anchor=\"middle\" x=\"158.5\" y=\"-7\" font-family=\"sans\" font-size=\"10.00\">ребенка</text>\n</g>\n<!-- 5&#45;&gt;6 -->\n<g id=\"edge6\" class=\"edge\">\n<title>5&#45;&gt;6</title>\n<path fill=\"none\" stroke=\"gray\" d=\"M158.5,-26.76C158.5,-25.36 158.5,-23.9 158.5,-22.45\"/>\n<polygon fill=\"gray\" stroke=\"gray\" points=\"159.55,-22.11 158.5,-19.11 157.45,-22.11 159.55,-22.11\"/>\n</g>\n</g>\n</svg>\n"
     },
     "metadata": {}
    },
    {
     "output_type": "display_data",
     "data": {
      "text/plain": [
       "KidsNumber(\n",
       "    words=Childrens(),\n",
       "    amount=2\n",
       ")"
      ]
     },
     "metadata": {}
    },
    {
     "output_type": "display_data",
     "data": {
      "text/plain": [
       "<IPython.core.display.HTML object>"
      ],
      "text/html": [
       "<div class=\"tex2jax_ignore\" style=\"white-space: pre-wrap\">Два взрослых и <span style=\"padding: 2px; border-radius: 4px; border: 1px solid #bbdefb; background: #e3f2fd\">ребенок 3</span> года. Хотим отель на берегу с собственным песчаным пляжем. Важно, чтобы были диетические блюда для ребенка, wifi в номере. Что Вы можете предложить?</div>"
      ]
     },
     "metadata": {}
    },
    {
     "output_type": "display_data",
     "data": {
      "text/plain": [
       "Graph(nodes=[...], edges=[...])"
      ],
      "image/svg+xml": "<?xml version=\"1.0\" encoding=\"UTF-8\" standalone=\"no\"?>\n<!DOCTYPE svg PUBLIC \"-//W3C//DTD SVG 1.1//EN\"\n \"http://www.w3.org/Graphics/SVG/1.1/DTD/svg11.dtd\">\n<!-- Generated by graphviz version 2.48.0 (20210717.1556)\n -->\n<!-- Title: G Pages: 1 -->\n<svg width=\"217pt\" height=\"108pt\"\n viewBox=\"0.00 0.00 216.50 108.00\" xmlns=\"http://www.w3.org/2000/svg\" xmlns:xlink=\"http://www.w3.org/1999/xlink\">\n<g id=\"graph0\" class=\"graph\" transform=\"scale(1 1) rotate(0) translate(4 104)\">\n<title>G</title>\n<polygon fill=\"white\" stroke=\"transparent\" points=\"-4,4 -4,-104 212.5,-104 212.5,4 -4,4\"/>\n<!-- 0 -->\n<g id=\"node1\" class=\"node\">\n<title>0</title>\n<polygon fill=\"#dbdb8d\" stroke=\"transparent\" points=\"138,-100 66,-100 66,-81 138,-81 138,-100\"/>\n<text text-anchor=\"middle\" x=\"102\" y=\"-88\" font-family=\"sans\" font-size=\"10.00\">KidsNumber</text>\n</g>\n<!-- 1 -->\n<g id=\"node2\" class=\"node\">\n<title>1</title>\n<polygon fill=\"#dbdb8d\" stroke=\"transparent\" points=\"100,-73 0,-73 0,-54 100,-54 100,-73\"/>\n<text text-anchor=\"middle\" x=\"50\" y=\"-61\" font-family=\"sans\" font-size=\"10.00\">KidsNumber.words</text>\n</g>\n<!-- 0&#45;&gt;1 -->\n<g id=\"edge1\" class=\"edge\">\n<title>0&#45;&gt;1</title>\n<path fill=\"none\" stroke=\"gray\" d=\"M84.1,-80.9C79.73,-78.79 75.01,-76.52 70.51,-74.36\"/>\n<polygon fill=\"gray\" stroke=\"gray\" points=\"70.91,-73.39 67.75,-73.03 70,-75.28 70.91,-73.39\"/>\n</g>\n<!-- 4 -->\n<g id=\"node5\" class=\"node\">\n<title>4</title>\n<polygon fill=\"#dbdb8d\" stroke=\"transparent\" points=\"208.5,-73 101.5,-73 101.5,-54 208.5,-54 208.5,-73\"/>\n<text text-anchor=\"middle\" x=\"155\" y=\"-61\" font-family=\"sans\" font-size=\"10.00\">KidsNumber.amount</text>\n</g>\n<!-- 0&#45;&gt;4 -->\n<g id=\"edge2\" class=\"edge\">\n<title>0&#45;&gt;4</title>\n<path fill=\"none\" stroke=\"gray\" d=\"M120.24,-80.9C124.7,-78.79 129.51,-76.52 134.09,-74.36\"/>\n<polygon fill=\"gray\" stroke=\"gray\" points=\"134.64,-75.26 136.91,-73.03 133.75,-73.37 134.64,-75.26\"/>\n</g>\n<!-- 2 -->\n<g id=\"node3\" class=\"node\">\n<title>2</title>\n<polygon fill=\"#dbdb8d\" stroke=\"transparent\" points=\"79.5,-46 20.5,-46 20.5,-27 79.5,-27 79.5,-46\"/>\n<text text-anchor=\"middle\" x=\"50\" y=\"-34\" font-family=\"sans\" font-size=\"10.00\">Childrens</text>\n</g>\n<!-- 1&#45;&gt;2 -->\n<g id=\"edge3\" class=\"edge\">\n<title>1&#45;&gt;2</title>\n<path fill=\"none\" stroke=\"gray\" d=\"M50,-53.76C50,-52.36 50,-50.9 50,-49.45\"/>\n<polygon fill=\"gray\" stroke=\"gray\" points=\"51.05,-49.11 50,-46.11 48.95,-49.11 51.05,-49.11\"/>\n</g>\n<!-- 3 -->\n<g id=\"node4\" class=\"node\">\n<title>3</title>\n<polygon fill=\"#eeeeee\" stroke=\"transparent\" points=\"77.5,-19 22.5,-19 22.5,0 77.5,0 77.5,-19\"/>\n<text text-anchor=\"middle\" x=\"50\" y=\"-7\" font-family=\"sans\" font-size=\"10.00\">ребенок</text>\n</g>\n<!-- 2&#45;&gt;3 -->\n<g id=\"edge4\" class=\"edge\">\n<title>2&#45;&gt;3</title>\n<path fill=\"none\" stroke=\"gray\" d=\"M50,-26.76C50,-25.36 50,-23.9 50,-22.45\"/>\n<polygon fill=\"gray\" stroke=\"gray\" points=\"51.05,-22.11 50,-19.11 48.95,-22.11 51.05,-22.11\"/>\n</g>\n<!-- 5 -->\n<g id=\"node6\" class=\"node\">\n<title>5</title>\n<polygon fill=\"#dbdb8d\" stroke=\"transparent\" points=\"188,-46 122,-46 122,-27 188,-27 188,-46\"/>\n<text text-anchor=\"middle\" x=\"155\" y=\"-34\" font-family=\"sans\" font-size=\"10.00\">custom(int)</text>\n</g>\n<!-- 4&#45;&gt;5 -->\n<g id=\"edge5\" class=\"edge\">\n<title>4&#45;&gt;5</title>\n<path fill=\"none\" stroke=\"gray\" d=\"M155,-53.76C155,-52.36 155,-50.9 155,-49.45\"/>\n<polygon fill=\"gray\" stroke=\"gray\" points=\"156.05,-49.11 155,-46.11 153.95,-49.11 156.05,-49.11\"/>\n</g>\n<!-- 6 -->\n<g id=\"node7\" class=\"node\">\n<title>6</title>\n<polygon fill=\"#eeeeee\" stroke=\"transparent\" points=\"166,-19 144,-19 144,0 166,0 166,-19\"/>\n<text text-anchor=\"middle\" x=\"155\" y=\"-7\" font-family=\"sans\" font-size=\"10.00\">3</text>\n</g>\n<!-- 5&#45;&gt;6 -->\n<g id=\"edge6\" class=\"edge\">\n<title>5&#45;&gt;6</title>\n<path fill=\"none\" stroke=\"gray\" d=\"M155,-26.76C155,-25.36 155,-23.9 155,-22.45\"/>\n<polygon fill=\"gray\" stroke=\"gray\" points=\"156.05,-22.11 155,-19.11 153.95,-22.11 156.05,-22.11\"/>\n</g>\n</g>\n</svg>\n"
     },
     "metadata": {}
    },
    {
     "output_type": "display_data",
     "data": {
      "text/plain": [
       "KidsNumber(\n",
       "    words=Childrens(),\n",
       "    amount=3\n",
       ")"
      ]
     },
     "metadata": {}
    },
    {
     "output_type": "display_data",
     "data": {
      "text/plain": [
       "<IPython.core.display.HTML object>"
      ],
      "text/html": [
       "<div class=\"tex2jax_ignore\" style=\"white-space: pre-wrap\">Здравствуйтете. Напишу подробно, чтобы дальше без вопросов. С женой на годовщину хотим поехать в тур по Европе: Бельгия, НИдерланды, Люксембург. Чтобы в каждом городе минимум по 3-4 дня, с гидом, хорошая экскурсия. Отели везде не ниже 4+. Бюджет любой, можем даже арендовать машину</div>"
      ]
     },
     "metadata": {}
    },
    {
     "output_type": "display_data",
     "data": {
      "text/plain": [
       "<IPython.core.display.HTML object>"
      ],
      "text/html": [
       "<div class=\"tex2jax_ignore\" style=\"white-space: pre-wrap\">7 ночей. Бюджет 100 000. Пожелания по отелю: хочется чтобы был чистый, относительно новый и место расположение удобное. Завтрак включён.</div>"
      ]
     },
     "metadata": {}
    },
    {
     "output_type": "display_data",
     "data": {
      "text/plain": [
       "<IPython.core.display.HTML object>"
      ],
      "text/html": [
       "<div class=\"tex2jax_ignore\" style=\"white-space: pre-wrap\">Хотим отдых на 3 семьи На Кипре или в Турции. 6 взрослых и <span style=\"padding: 2px; border-radius: 4px; border: 1px solid #bbdefb; background: #e3f2fd\">2 ребенка</span>. Нужно 3 отдельных номера, для детей детские зоны, анимация. Отель 5 звезд</div>"
      ]
     },
     "metadata": {}
    },
    {
     "output_type": "display_data",
     "data": {
      "text/plain": [
       "Graph(nodes=[...], edges=[...])"
      ],
      "image/svg+xml": "<?xml version=\"1.0\" encoding=\"UTF-8\" standalone=\"no\"?>\n<!DOCTYPE svg PUBLIC \"-//W3C//DTD SVG 1.1//EN\"\n \"http://www.w3.org/Graphics/SVG/1.1/DTD/svg11.dtd\">\n<!-- Generated by graphviz version 2.48.0 (20210717.1556)\n -->\n<!-- Title: G Pages: 1 -->\n<svg width=\"217pt\" height=\"108pt\"\n viewBox=\"0.00 0.00 216.50 108.00\" xmlns=\"http://www.w3.org/2000/svg\" xmlns:xlink=\"http://www.w3.org/1999/xlink\">\n<g id=\"graph0\" class=\"graph\" transform=\"scale(1 1) rotate(0) translate(4 104)\">\n<title>G</title>\n<polygon fill=\"white\" stroke=\"transparent\" points=\"-4,4 -4,-104 212.5,-104 212.5,4 -4,4\"/>\n<!-- 0 -->\n<g id=\"node1\" class=\"node\">\n<title>0</title>\n<polygon fill=\"#dbdb8d\" stroke=\"transparent\" points=\"141.5,-100 69.5,-100 69.5,-81 141.5,-81 141.5,-100\"/>\n<text text-anchor=\"middle\" x=\"105.5\" y=\"-88\" font-family=\"sans\" font-size=\"10.00\">KidsNumber</text>\n</g>\n<!-- 1 -->\n<g id=\"node2\" class=\"node\">\n<title>1</title>\n<polygon fill=\"#dbdb8d\" stroke=\"transparent\" points=\"107,-73 0,-73 0,-54 107,-54 107,-73\"/>\n<text text-anchor=\"middle\" x=\"53.5\" y=\"-61\" font-family=\"sans\" font-size=\"10.00\">KidsNumber.amount</text>\n</g>\n<!-- 0&#45;&gt;1 -->\n<g id=\"edge1\" class=\"edge\">\n<title>0&#45;&gt;1</title>\n<path fill=\"none\" stroke=\"gray\" d=\"M87.6,-80.9C83.23,-78.79 78.51,-76.52 74.01,-74.36\"/>\n<polygon fill=\"gray\" stroke=\"gray\" points=\"74.41,-73.39 71.25,-73.03 73.5,-75.28 74.41,-73.39\"/>\n</g>\n<!-- 4 -->\n<g id=\"node5\" class=\"node\">\n<title>4</title>\n<polygon fill=\"#dbdb8d\" stroke=\"transparent\" points=\"208.5,-73 108.5,-73 108.5,-54 208.5,-54 208.5,-73\"/>\n<text text-anchor=\"middle\" x=\"158.5\" y=\"-61\" font-family=\"sans\" font-size=\"10.00\">KidsNumber.words</text>\n</g>\n<!-- 0&#45;&gt;4 -->\n<g id=\"edge2\" class=\"edge\">\n<title>0&#45;&gt;4</title>\n<path fill=\"none\" stroke=\"gray\" d=\"M123.74,-80.9C128.2,-78.79 133.01,-76.52 137.59,-74.36\"/>\n<polygon fill=\"gray\" stroke=\"gray\" points=\"138.14,-75.26 140.41,-73.03 137.25,-73.37 138.14,-75.26\"/>\n</g>\n<!-- 2 -->\n<g id=\"node3\" class=\"node\">\n<title>2</title>\n<polygon fill=\"#dbdb8d\" stroke=\"transparent\" points=\"86.5,-46 20.5,-46 20.5,-27 86.5,-27 86.5,-46\"/>\n<text text-anchor=\"middle\" x=\"53.5\" y=\"-34\" font-family=\"sans\" font-size=\"10.00\">custom(int)</text>\n</g>\n<!-- 1&#45;&gt;2 -->\n<g id=\"edge3\" class=\"edge\">\n<title>1&#45;&gt;2</title>\n<path fill=\"none\" stroke=\"gray\" d=\"M53.5,-53.76C53.5,-52.36 53.5,-50.9 53.5,-49.45\"/>\n<polygon fill=\"gray\" stroke=\"gray\" points=\"54.55,-49.11 53.5,-46.11 52.45,-49.11 54.55,-49.11\"/>\n</g>\n<!-- 3 -->\n<g id=\"node4\" class=\"node\">\n<title>3</title>\n<polygon fill=\"#eeeeee\" stroke=\"transparent\" points=\"64.5,-19 42.5,-19 42.5,0 64.5,0 64.5,-19\"/>\n<text text-anchor=\"middle\" x=\"53.5\" y=\"-7\" font-family=\"sans\" font-size=\"10.00\">2</text>\n</g>\n<!-- 2&#45;&gt;3 -->\n<g id=\"edge4\" class=\"edge\">\n<title>2&#45;&gt;3</title>\n<path fill=\"none\" stroke=\"gray\" d=\"M53.5,-26.76C53.5,-25.36 53.5,-23.9 53.5,-22.45\"/>\n<polygon fill=\"gray\" stroke=\"gray\" points=\"54.55,-22.11 53.5,-19.11 52.45,-22.11 54.55,-22.11\"/>\n</g>\n<!-- 5 -->\n<g id=\"node6\" class=\"node\">\n<title>5</title>\n<polygon fill=\"#dbdb8d\" stroke=\"transparent\" points=\"188,-46 129,-46 129,-27 188,-27 188,-46\"/>\n<text text-anchor=\"middle\" x=\"158.5\" y=\"-34\" font-family=\"sans\" font-size=\"10.00\">Childrens</text>\n</g>\n<!-- 4&#45;&gt;5 -->\n<g id=\"edge5\" class=\"edge\">\n<title>4&#45;&gt;5</title>\n<path fill=\"none\" stroke=\"gray\" d=\"M158.5,-53.76C158.5,-52.36 158.5,-50.9 158.5,-49.45\"/>\n<polygon fill=\"gray\" stroke=\"gray\" points=\"159.55,-49.11 158.5,-46.11 157.45,-49.11 159.55,-49.11\"/>\n</g>\n<!-- 6 -->\n<g id=\"node7\" class=\"node\">\n<title>6</title>\n<polygon fill=\"#eeeeee\" stroke=\"transparent\" points=\"186,-19 131,-19 131,0 186,0 186,-19\"/>\n<text text-anchor=\"middle\" x=\"158.5\" y=\"-7\" font-family=\"sans\" font-size=\"10.00\">ребенка</text>\n</g>\n<!-- 5&#45;&gt;6 -->\n<g id=\"edge6\" class=\"edge\">\n<title>5&#45;&gt;6</title>\n<path fill=\"none\" stroke=\"gray\" d=\"M158.5,-26.76C158.5,-25.36 158.5,-23.9 158.5,-22.45\"/>\n<polygon fill=\"gray\" stroke=\"gray\" points=\"159.55,-22.11 158.5,-19.11 157.45,-22.11 159.55,-22.11\"/>\n</g>\n</g>\n</svg>\n"
     },
     "metadata": {}
    },
    {
     "output_type": "display_data",
     "data": {
      "text/plain": [
       "KidsNumber(\n",
       "    words=Childrens(),\n",
       "    amount=2\n",
       ")"
      ]
     },
     "metadata": {}
    },
    {
     "output_type": "display_data",
     "data": {
      "text/plain": [
       "<IPython.core.display.HTML object>"
      ],
      "text/html": [
       "<div class=\"tex2jax_ignore\" style=\"white-space: pre-wrap\">Привет, ищу качественный отель категории 3* недалеко от пляжа, 11 дней с конца июня. В Египте и Турции была неоднократно, эти страны не интересуют. Не особо чтобы дорого, но готова потратить до 95000.</div>"
      ]
     },
     "metadata": {}
    },
    {
     "output_type": "display_data",
     "data": {
      "text/plain": [
       "<IPython.core.display.HTML object>"
      ],
      "text/html": [
       "<div class=\"tex2jax_ignore\" style=\"white-space: pre-wrap\">Здравствуйте! Посоветуйте,,, какие отели посмотреть на Протарасе и Айя Напе? Куда отправляете туристов? 3-4*.  Пятерки, наверное, под полмиллиона?  И что с Грецией? Открыли? Там шенген надо делать.. в Новосибирске?</div>"
      ]
     },
     "metadata": {}
    },
    {
     "output_type": "display_data",
     "data": {
      "text/plain": [
       "<IPython.core.display.HTML object>"
      ],
      "text/html": [
       "<div class=\"tex2jax_ignore\" style=\"white-space: pre-wrap\">Здравствуйте. Ищем где пополярно, песочек и чтобы для ребенка все было:еда анимация горки. И чтобы поближе к пляжу, можно было дойти пешком. Два человека и <span style=\"padding: 2px; border-radius: 4px; border: 1px solid #bbdefb; background: #e3f2fd\">1 ребенок</span> 6 лет.</div>"
      ]
     },
     "metadata": {}
    },
    {
     "output_type": "display_data",
     "data": {
      "text/plain": [
       "Graph(nodes=[...], edges=[...])"
      ],
      "image/svg+xml": "<?xml version=\"1.0\" encoding=\"UTF-8\" standalone=\"no\"?>\n<!DOCTYPE svg PUBLIC \"-//W3C//DTD SVG 1.1//EN\"\n \"http://www.w3.org/Graphics/SVG/1.1/DTD/svg11.dtd\">\n<!-- Generated by graphviz version 2.48.0 (20210717.1556)\n -->\n<!-- Title: G Pages: 1 -->\n<svg width=\"217pt\" height=\"108pt\"\n viewBox=\"0.00 0.00 216.50 108.00\" xmlns=\"http://www.w3.org/2000/svg\" xmlns:xlink=\"http://www.w3.org/1999/xlink\">\n<g id=\"graph0\" class=\"graph\" transform=\"scale(1 1) rotate(0) translate(4 104)\">\n<title>G</title>\n<polygon fill=\"white\" stroke=\"transparent\" points=\"-4,4 -4,-104 212.5,-104 212.5,4 -4,4\"/>\n<!-- 0 -->\n<g id=\"node1\" class=\"node\">\n<title>0</title>\n<polygon fill=\"#dbdb8d\" stroke=\"transparent\" points=\"141.5,-100 69.5,-100 69.5,-81 141.5,-81 141.5,-100\"/>\n<text text-anchor=\"middle\" x=\"105.5\" y=\"-88\" font-family=\"sans\" font-size=\"10.00\">KidsNumber</text>\n</g>\n<!-- 1 -->\n<g id=\"node2\" class=\"node\">\n<title>1</title>\n<polygon fill=\"#dbdb8d\" stroke=\"transparent\" points=\"107,-73 0,-73 0,-54 107,-54 107,-73\"/>\n<text text-anchor=\"middle\" x=\"53.5\" y=\"-61\" font-family=\"sans\" font-size=\"10.00\">KidsNumber.amount</text>\n</g>\n<!-- 0&#45;&gt;1 -->\n<g id=\"edge1\" class=\"edge\">\n<title>0&#45;&gt;1</title>\n<path fill=\"none\" stroke=\"gray\" d=\"M87.6,-80.9C83.23,-78.79 78.51,-76.52 74.01,-74.36\"/>\n<polygon fill=\"gray\" stroke=\"gray\" points=\"74.41,-73.39 71.25,-73.03 73.5,-75.28 74.41,-73.39\"/>\n</g>\n<!-- 4 -->\n<g id=\"node5\" class=\"node\">\n<title>4</title>\n<polygon fill=\"#dbdb8d\" stroke=\"transparent\" points=\"208.5,-73 108.5,-73 108.5,-54 208.5,-54 208.5,-73\"/>\n<text text-anchor=\"middle\" x=\"158.5\" y=\"-61\" font-family=\"sans\" font-size=\"10.00\">KidsNumber.words</text>\n</g>\n<!-- 0&#45;&gt;4 -->\n<g id=\"edge2\" class=\"edge\">\n<title>0&#45;&gt;4</title>\n<path fill=\"none\" stroke=\"gray\" d=\"M123.74,-80.9C128.2,-78.79 133.01,-76.52 137.59,-74.36\"/>\n<polygon fill=\"gray\" stroke=\"gray\" points=\"138.14,-75.26 140.41,-73.03 137.25,-73.37 138.14,-75.26\"/>\n</g>\n<!-- 2 -->\n<g id=\"node3\" class=\"node\">\n<title>2</title>\n<polygon fill=\"#dbdb8d\" stroke=\"transparent\" points=\"86.5,-46 20.5,-46 20.5,-27 86.5,-27 86.5,-46\"/>\n<text text-anchor=\"middle\" x=\"53.5\" y=\"-34\" font-family=\"sans\" font-size=\"10.00\">custom(int)</text>\n</g>\n<!-- 1&#45;&gt;2 -->\n<g id=\"edge3\" class=\"edge\">\n<title>1&#45;&gt;2</title>\n<path fill=\"none\" stroke=\"gray\" d=\"M53.5,-53.76C53.5,-52.36 53.5,-50.9 53.5,-49.45\"/>\n<polygon fill=\"gray\" stroke=\"gray\" points=\"54.55,-49.11 53.5,-46.11 52.45,-49.11 54.55,-49.11\"/>\n</g>\n<!-- 3 -->\n<g id=\"node4\" class=\"node\">\n<title>3</title>\n<polygon fill=\"#eeeeee\" stroke=\"transparent\" points=\"64.5,-19 42.5,-19 42.5,0 64.5,0 64.5,-19\"/>\n<text text-anchor=\"middle\" x=\"53.5\" y=\"-7\" font-family=\"sans\" font-size=\"10.00\">1</text>\n</g>\n<!-- 2&#45;&gt;3 -->\n<g id=\"edge4\" class=\"edge\">\n<title>2&#45;&gt;3</title>\n<path fill=\"none\" stroke=\"gray\" d=\"M53.5,-26.76C53.5,-25.36 53.5,-23.9 53.5,-22.45\"/>\n<polygon fill=\"gray\" stroke=\"gray\" points=\"54.55,-22.11 53.5,-19.11 52.45,-22.11 54.55,-22.11\"/>\n</g>\n<!-- 5 -->\n<g id=\"node6\" class=\"node\">\n<title>5</title>\n<polygon fill=\"#dbdb8d\" stroke=\"transparent\" points=\"188,-46 129,-46 129,-27 188,-27 188,-46\"/>\n<text text-anchor=\"middle\" x=\"158.5\" y=\"-34\" font-family=\"sans\" font-size=\"10.00\">Childrens</text>\n</g>\n<!-- 4&#45;&gt;5 -->\n<g id=\"edge5\" class=\"edge\">\n<title>4&#45;&gt;5</title>\n<path fill=\"none\" stroke=\"gray\" d=\"M158.5,-53.76C158.5,-52.36 158.5,-50.9 158.5,-49.45\"/>\n<polygon fill=\"gray\" stroke=\"gray\" points=\"159.55,-49.11 158.5,-46.11 157.45,-49.11 159.55,-49.11\"/>\n</g>\n<!-- 6 -->\n<g id=\"node7\" class=\"node\">\n<title>6</title>\n<polygon fill=\"#eeeeee\" stroke=\"transparent\" points=\"186,-19 131,-19 131,0 186,0 186,-19\"/>\n<text text-anchor=\"middle\" x=\"158.5\" y=\"-7\" font-family=\"sans\" font-size=\"10.00\">ребенок</text>\n</g>\n<!-- 5&#45;&gt;6 -->\n<g id=\"edge6\" class=\"edge\">\n<title>5&#45;&gt;6</title>\n<path fill=\"none\" stroke=\"gray\" d=\"M158.5,-26.76C158.5,-25.36 158.5,-23.9 158.5,-22.45\"/>\n<polygon fill=\"gray\" stroke=\"gray\" points=\"159.55,-22.11 158.5,-19.11 157.45,-22.11 159.55,-22.11\"/>\n</g>\n</g>\n</svg>\n"
     },
     "metadata": {}
    },
    {
     "output_type": "display_data",
     "data": {
      "text/plain": [
       "KidsNumber(\n",
       "    words=Childrens(),\n",
       "    amount=1\n",
       ")"
      ]
     },
     "metadata": {}
    },
    {
     "output_type": "display_data",
     "data": {
      "text/plain": [
       "<IPython.core.display.HTML object>"
      ],
      "text/html": [
       "<div class=\"tex2jax_ignore\" style=\"white-space: pre-wrap\">Мы можем хоть когда, к датам особо не привязаны. Хотим по горящей путевке съездить. Вы можете нам позвонить-у нас чемоданы собраны и мы можем сразу лететь из барнаула. А сколько сейчас горящие путевки стоят?</div>"
      ]
     },
     "metadata": {}
    },
    {
     "output_type": "display_data",
     "data": {
      "text/plain": [
       "<IPython.core.display.HTML object>"
      ],
      "text/html": [
       "<div class=\"tex2jax_ignore\" style=\"white-space: pre-wrap\">2 семейные пары. У нас с 10 отпуск дней на 7. Хотим море и чистый пляж. Чтобы были зонты и лежаки бесплатные и свой пляж у отеля. Что порекомендуете?</div>"
      ]
     },
     "metadata": {}
    },
    {
     "output_type": "display_data",
     "data": {
      "text/plain": [
       "<IPython.core.display.HTML object>"
      ],
      "text/html": [
       "<div class=\"tex2jax_ignore\" style=\"white-space: pre-wrap\">Отель в Турции 4-5*с песчаным пляжем ,работающий по системе AI с кухней в номере . Едет семья с <span style=\"padding: 2px; border-radius: 4px; border: 1px solid #bbdefb; background: #e3f2fd\">двумя детками</span>,родители и старший ребенок хотят питаться по системе &quot;все включено&quot;,<span style=\"padding: 2px; border-radius: 4px; border: 1px solid #bbdefb; background: #e3f2fd\">младший ребенок</span> находится на специализированном питании</div>"
      ]
     },
     "metadata": {}
    },
    {
     "output_type": "display_data",
     "data": {
      "text/plain": [
       "Graph(nodes=[...], edges=[...])"
      ],
      "image/svg+xml": "<?xml version=\"1.0\" encoding=\"UTF-8\" standalone=\"no\"?>\n<!DOCTYPE svg PUBLIC \"-//W3C//DTD SVG 1.1//EN\"\n \"http://www.w3.org/Graphics/SVG/1.1/DTD/svg11.dtd\">\n<!-- Generated by graphviz version 2.48.0 (20210717.1556)\n -->\n<!-- Title: G Pages: 1 -->\n<svg width=\"217pt\" height=\"108pt\"\n viewBox=\"0.00 0.00 216.50 108.00\" xmlns=\"http://www.w3.org/2000/svg\" xmlns:xlink=\"http://www.w3.org/1999/xlink\">\n<g id=\"graph0\" class=\"graph\" transform=\"scale(1 1) rotate(0) translate(4 104)\">\n<title>G</title>\n<polygon fill=\"white\" stroke=\"transparent\" points=\"-4,4 -4,-104 212.5,-104 212.5,4 -4,4\"/>\n<!-- 0 -->\n<g id=\"node1\" class=\"node\">\n<title>0</title>\n<polygon fill=\"#dbdb8d\" stroke=\"transparent\" points=\"141.5,-100 69.5,-100 69.5,-81 141.5,-81 141.5,-100\"/>\n<text text-anchor=\"middle\" x=\"105.5\" y=\"-88\" font-family=\"sans\" font-size=\"10.00\">KidsNumber</text>\n</g>\n<!-- 1 -->\n<g id=\"node2\" class=\"node\">\n<title>1</title>\n<polygon fill=\"#dbdb8d\" stroke=\"transparent\" points=\"107,-73 0,-73 0,-54 107,-54 107,-73\"/>\n<text text-anchor=\"middle\" x=\"53.5\" y=\"-61\" font-family=\"sans\" font-size=\"10.00\">KidsNumber.amount</text>\n</g>\n<!-- 0&#45;&gt;1 -->\n<g id=\"edge1\" class=\"edge\">\n<title>0&#45;&gt;1</title>\n<path fill=\"none\" stroke=\"gray\" d=\"M87.6,-80.9C83.23,-78.79 78.51,-76.52 74.01,-74.36\"/>\n<polygon fill=\"gray\" stroke=\"gray\" points=\"74.41,-73.39 71.25,-73.03 73.5,-75.28 74.41,-73.39\"/>\n</g>\n<!-- 4 -->\n<g id=\"node5\" class=\"node\">\n<title>4</title>\n<polygon fill=\"#dbdb8d\" stroke=\"transparent\" points=\"208.5,-73 108.5,-73 108.5,-54 208.5,-54 208.5,-73\"/>\n<text text-anchor=\"middle\" x=\"158.5\" y=\"-61\" font-family=\"sans\" font-size=\"10.00\">KidsNumber.words</text>\n</g>\n<!-- 0&#45;&gt;4 -->\n<g id=\"edge2\" class=\"edge\">\n<title>0&#45;&gt;4</title>\n<path fill=\"none\" stroke=\"gray\" d=\"M123.74,-80.9C128.2,-78.79 133.01,-76.52 137.59,-74.36\"/>\n<polygon fill=\"gray\" stroke=\"gray\" points=\"138.14,-75.26 140.41,-73.03 137.25,-73.37 138.14,-75.26\"/>\n</g>\n<!-- 2 -->\n<g id=\"node3\" class=\"node\">\n<title>2</title>\n<polygon fill=\"#aec7e8\" stroke=\"transparent\" points=\"71,-46 36,-46 36,-27 71,-27 71,-46\"/>\n<text text-anchor=\"middle\" x=\"53.5\" y=\"-34\" font-family=\"sans\" font-size=\"10.00\">R10</text>\n</g>\n<!-- 1&#45;&gt;2 -->\n<g id=\"edge3\" class=\"edge\">\n<title>1&#45;&gt;2</title>\n<path fill=\"none\" stroke=\"gray\" d=\"M53.5,-53.76C53.5,-52.36 53.5,-50.9 53.5,-49.45\"/>\n<polygon fill=\"gray\" stroke=\"gray\" points=\"54.55,-49.11 53.5,-46.11 52.45,-49.11 54.55,-49.11\"/>\n</g>\n<!-- 3 -->\n<g id=\"node4\" class=\"node\">\n<title>3</title>\n<polygon fill=\"#eeeeee\" stroke=\"transparent\" points=\"76,-19 31,-19 31,0 76,0 76,-19\"/>\n<text text-anchor=\"middle\" x=\"53.5\" y=\"-7\" font-family=\"sans\" font-size=\"10.00\">двумя</text>\n</g>\n<!-- 2&#45;&gt;3 -->\n<g id=\"edge4\" class=\"edge\">\n<title>2&#45;&gt;3</title>\n<path fill=\"none\" stroke=\"gray\" d=\"M53.5,-26.76C53.5,-25.36 53.5,-23.9 53.5,-22.45\"/>\n<polygon fill=\"gray\" stroke=\"gray\" points=\"54.55,-22.11 53.5,-19.11 52.45,-22.11 54.55,-22.11\"/>\n</g>\n<!-- 5 -->\n<g id=\"node6\" class=\"node\">\n<title>5</title>\n<polygon fill=\"#dbdb8d\" stroke=\"transparent\" points=\"188,-46 129,-46 129,-27 188,-27 188,-46\"/>\n<text text-anchor=\"middle\" x=\"158.5\" y=\"-34\" font-family=\"sans\" font-size=\"10.00\">Childrens</text>\n</g>\n<!-- 4&#45;&gt;5 -->\n<g id=\"edge5\" class=\"edge\">\n<title>4&#45;&gt;5</title>\n<path fill=\"none\" stroke=\"gray\" d=\"M158.5,-53.76C158.5,-52.36 158.5,-50.9 158.5,-49.45\"/>\n<polygon fill=\"gray\" stroke=\"gray\" points=\"159.55,-49.11 158.5,-46.11 157.45,-49.11 159.55,-49.11\"/>\n</g>\n<!-- 6 -->\n<g id=\"node7\" class=\"node\">\n<title>6</title>\n<polygon fill=\"#eeeeee\" stroke=\"transparent\" points=\"187,-19 130,-19 130,0 187,0 187,-19\"/>\n<text text-anchor=\"middle\" x=\"158.5\" y=\"-7\" font-family=\"sans\" font-size=\"10.00\">детками</text>\n</g>\n<!-- 5&#45;&gt;6 -->\n<g id=\"edge6\" class=\"edge\">\n<title>5&#45;&gt;6</title>\n<path fill=\"none\" stroke=\"gray\" d=\"M158.5,-26.76C158.5,-25.36 158.5,-23.9 158.5,-22.45\"/>\n<polygon fill=\"gray\" stroke=\"gray\" points=\"159.55,-22.11 158.5,-19.11 157.45,-22.11 159.55,-22.11\"/>\n</g>\n</g>\n</svg>\n"
     },
     "metadata": {}
    },
    {
     "output_type": "display_data",
     "data": {
      "text/plain": [
       "KidsNumber(\n",
       "    words=Childrens(),\n",
       "    amount='двумя'\n",
       ")"
      ]
     },
     "metadata": {}
    },
    {
     "output_type": "display_data",
     "data": {
      "text/plain": [
       "<IPython.core.display.HTML object>"
      ],
      "text/html": [
       "<div class=\"tex2jax_ignore\" style=\"white-space: pre-wrap\">2 взр с 14.06 до 02.07 даты вылета, на 10 ночей тунис, или кипр, 1, 2 линия в предела 120 на двоих</div>"
      ]
     },
     "metadata": {}
    },
    {
     "output_type": "display_data",
     "data": {
      "text/plain": [
       "<IPython.core.display.HTML object>"
      ],
      "text/html": [
       "<div class=\"tex2jax_ignore\" style=\"white-space: pre-wrap\">2 взрослых, 12-16 июля Горный, на берегу,лесистая территория, домик,отдельный вход, не дальше Берели, авто стоянка</div>"
      ]
     },
     "metadata": {}
    },
    {
     "output_type": "display_data",
     "data": {
      "text/plain": [
       "<IPython.core.display.HTML object>"
      ],
      "text/html": [
       "<div class=\"tex2jax_ignore\" style=\"white-space: pre-wrap\">Здравствуйте. Ищем ну что нибудь популярное такое и недорого. Ну вот вы куда бы сами поехали?</div>"
      ]
     },
     "metadata": {}
    },
    {
     "output_type": "display_data",
     "data": {
      "text/plain": [
       "<IPython.core.display.HTML object>"
      ],
      "text/html": [
       "<div class=\"tex2jax_ignore\" style=\"white-space: pre-wrap\">3взрослых +<span style=\"padding: 2px; border-radius: 4px; border: 1px solid #bbdefb; background: #e3f2fd\">1 ребенок</span> (9), Горный 29.07-01.08, хорошая база,бассейн</div>"
      ]
     },
     "metadata": {}
    },
    {
     "output_type": "display_data",
     "data": {
      "text/plain": [
       "Graph(nodes=[...], edges=[...])"
      ],
      "image/svg+xml": "<?xml version=\"1.0\" encoding=\"UTF-8\" standalone=\"no\"?>\n<!DOCTYPE svg PUBLIC \"-//W3C//DTD SVG 1.1//EN\"\n \"http://www.w3.org/Graphics/SVG/1.1/DTD/svg11.dtd\">\n<!-- Generated by graphviz version 2.48.0 (20210717.1556)\n -->\n<!-- Title: G Pages: 1 -->\n<svg width=\"217pt\" height=\"108pt\"\n viewBox=\"0.00 0.00 216.50 108.00\" xmlns=\"http://www.w3.org/2000/svg\" xmlns:xlink=\"http://www.w3.org/1999/xlink\">\n<g id=\"graph0\" class=\"graph\" transform=\"scale(1 1) rotate(0) translate(4 104)\">\n<title>G</title>\n<polygon fill=\"white\" stroke=\"transparent\" points=\"-4,4 -4,-104 212.5,-104 212.5,4 -4,4\"/>\n<!-- 0 -->\n<g id=\"node1\" class=\"node\">\n<title>0</title>\n<polygon fill=\"#dbdb8d\" stroke=\"transparent\" points=\"141.5,-100 69.5,-100 69.5,-81 141.5,-81 141.5,-100\"/>\n<text text-anchor=\"middle\" x=\"105.5\" y=\"-88\" font-family=\"sans\" font-size=\"10.00\">KidsNumber</text>\n</g>\n<!-- 1 -->\n<g id=\"node2\" class=\"node\">\n<title>1</title>\n<polygon fill=\"#dbdb8d\" stroke=\"transparent\" points=\"107,-73 0,-73 0,-54 107,-54 107,-73\"/>\n<text text-anchor=\"middle\" x=\"53.5\" y=\"-61\" font-family=\"sans\" font-size=\"10.00\">KidsNumber.amount</text>\n</g>\n<!-- 0&#45;&gt;1 -->\n<g id=\"edge1\" class=\"edge\">\n<title>0&#45;&gt;1</title>\n<path fill=\"none\" stroke=\"gray\" d=\"M87.6,-80.9C83.23,-78.79 78.51,-76.52 74.01,-74.36\"/>\n<polygon fill=\"gray\" stroke=\"gray\" points=\"74.41,-73.39 71.25,-73.03 73.5,-75.28 74.41,-73.39\"/>\n</g>\n<!-- 4 -->\n<g id=\"node5\" class=\"node\">\n<title>4</title>\n<polygon fill=\"#dbdb8d\" stroke=\"transparent\" points=\"208.5,-73 108.5,-73 108.5,-54 208.5,-54 208.5,-73\"/>\n<text text-anchor=\"middle\" x=\"158.5\" y=\"-61\" font-family=\"sans\" font-size=\"10.00\">KidsNumber.words</text>\n</g>\n<!-- 0&#45;&gt;4 -->\n<g id=\"edge2\" class=\"edge\">\n<title>0&#45;&gt;4</title>\n<path fill=\"none\" stroke=\"gray\" d=\"M123.74,-80.9C128.2,-78.79 133.01,-76.52 137.59,-74.36\"/>\n<polygon fill=\"gray\" stroke=\"gray\" points=\"138.14,-75.26 140.41,-73.03 137.25,-73.37 138.14,-75.26\"/>\n</g>\n<!-- 2 -->\n<g id=\"node3\" class=\"node\">\n<title>2</title>\n<polygon fill=\"#dbdb8d\" stroke=\"transparent\" points=\"86.5,-46 20.5,-46 20.5,-27 86.5,-27 86.5,-46\"/>\n<text text-anchor=\"middle\" x=\"53.5\" y=\"-34\" font-family=\"sans\" font-size=\"10.00\">custom(int)</text>\n</g>\n<!-- 1&#45;&gt;2 -->\n<g id=\"edge3\" class=\"edge\">\n<title>1&#45;&gt;2</title>\n<path fill=\"none\" stroke=\"gray\" d=\"M53.5,-53.76C53.5,-52.36 53.5,-50.9 53.5,-49.45\"/>\n<polygon fill=\"gray\" stroke=\"gray\" points=\"54.55,-49.11 53.5,-46.11 52.45,-49.11 54.55,-49.11\"/>\n</g>\n<!-- 3 -->\n<g id=\"node4\" class=\"node\">\n<title>3</title>\n<polygon fill=\"#eeeeee\" stroke=\"transparent\" points=\"64.5,-19 42.5,-19 42.5,0 64.5,0 64.5,-19\"/>\n<text text-anchor=\"middle\" x=\"53.5\" y=\"-7\" font-family=\"sans\" font-size=\"10.00\">1</text>\n</g>\n<!-- 2&#45;&gt;3 -->\n<g id=\"edge4\" class=\"edge\">\n<title>2&#45;&gt;3</title>\n<path fill=\"none\" stroke=\"gray\" d=\"M53.5,-26.76C53.5,-25.36 53.5,-23.9 53.5,-22.45\"/>\n<polygon fill=\"gray\" stroke=\"gray\" points=\"54.55,-22.11 53.5,-19.11 52.45,-22.11 54.55,-22.11\"/>\n</g>\n<!-- 5 -->\n<g id=\"node6\" class=\"node\">\n<title>5</title>\n<polygon fill=\"#dbdb8d\" stroke=\"transparent\" points=\"188,-46 129,-46 129,-27 188,-27 188,-46\"/>\n<text text-anchor=\"middle\" x=\"158.5\" y=\"-34\" font-family=\"sans\" font-size=\"10.00\">Childrens</text>\n</g>\n<!-- 4&#45;&gt;5 -->\n<g id=\"edge5\" class=\"edge\">\n<title>4&#45;&gt;5</title>\n<path fill=\"none\" stroke=\"gray\" d=\"M158.5,-53.76C158.5,-52.36 158.5,-50.9 158.5,-49.45\"/>\n<polygon fill=\"gray\" stroke=\"gray\" points=\"159.55,-49.11 158.5,-46.11 157.45,-49.11 159.55,-49.11\"/>\n</g>\n<!-- 6 -->\n<g id=\"node7\" class=\"node\">\n<title>6</title>\n<polygon fill=\"#eeeeee\" stroke=\"transparent\" points=\"186,-19 131,-19 131,0 186,0 186,-19\"/>\n<text text-anchor=\"middle\" x=\"158.5\" y=\"-7\" font-family=\"sans\" font-size=\"10.00\">ребенок</text>\n</g>\n<!-- 5&#45;&gt;6 -->\n<g id=\"edge6\" class=\"edge\">\n<title>5&#45;&gt;6</title>\n<path fill=\"none\" stroke=\"gray\" d=\"M158.5,-26.76C158.5,-25.36 158.5,-23.9 158.5,-22.45\"/>\n<polygon fill=\"gray\" stroke=\"gray\" points=\"159.55,-22.11 158.5,-19.11 157.45,-22.11 159.55,-22.11\"/>\n</g>\n</g>\n</svg>\n"
     },
     "metadata": {}
    },
    {
     "output_type": "display_data",
     "data": {
      "text/plain": [
       "KidsNumber(\n",
       "    words=Childrens(),\n",
       "    amount=1\n",
       ")"
      ]
     },
     "metadata": {}
    },
    {
     "output_type": "display_data",
     "data": {
      "text/plain": [
       "<IPython.core.display.HTML object>"
      ],
      "text/html": [
       "<div class=\"tex2jax_ignore\" style=\"white-space: pre-wrap\">Ну раз Турцию наконец то открыли, решили выбраться с семьей. Едем с мужем и <span style=\"padding: 2px; border-radius: 4px; border: 1px solid #bbdefb; background: #e3f2fd\">двумя детьми</span> (17 и 10). Муж и дети не любят активный отдых, им нужен шведский стол, море, бассейн, мужу мииниьар. Я бы хотела на экскурсии. Отель все включено не ниже хорошей четверки</div>"
      ]
     },
     "metadata": {}
    },
    {
     "output_type": "display_data",
     "data": {
      "text/plain": [
       "Graph(nodes=[...], edges=[...])"
      ],
      "image/svg+xml": "<?xml version=\"1.0\" encoding=\"UTF-8\" standalone=\"no\"?>\n<!DOCTYPE svg PUBLIC \"-//W3C//DTD SVG 1.1//EN\"\n \"http://www.w3.org/Graphics/SVG/1.1/DTD/svg11.dtd\">\n<!-- Generated by graphviz version 2.48.0 (20210717.1556)\n -->\n<!-- Title: G Pages: 1 -->\n<svg width=\"217pt\" height=\"108pt\"\n viewBox=\"0.00 0.00 216.50 108.00\" xmlns=\"http://www.w3.org/2000/svg\" xmlns:xlink=\"http://www.w3.org/1999/xlink\">\n<g id=\"graph0\" class=\"graph\" transform=\"scale(1 1) rotate(0) translate(4 104)\">\n<title>G</title>\n<polygon fill=\"white\" stroke=\"transparent\" points=\"-4,4 -4,-104 212.5,-104 212.5,4 -4,4\"/>\n<!-- 0 -->\n<g id=\"node1\" class=\"node\">\n<title>0</title>\n<polygon fill=\"#dbdb8d\" stroke=\"transparent\" points=\"141.5,-100 69.5,-100 69.5,-81 141.5,-81 141.5,-100\"/>\n<text text-anchor=\"middle\" x=\"105.5\" y=\"-88\" font-family=\"sans\" font-size=\"10.00\">KidsNumber</text>\n</g>\n<!-- 1 -->\n<g id=\"node2\" class=\"node\">\n<title>1</title>\n<polygon fill=\"#dbdb8d\" stroke=\"transparent\" points=\"107,-73 0,-73 0,-54 107,-54 107,-73\"/>\n<text text-anchor=\"middle\" x=\"53.5\" y=\"-61\" font-family=\"sans\" font-size=\"10.00\">KidsNumber.amount</text>\n</g>\n<!-- 0&#45;&gt;1 -->\n<g id=\"edge1\" class=\"edge\">\n<title>0&#45;&gt;1</title>\n<path fill=\"none\" stroke=\"gray\" d=\"M87.6,-80.9C83.23,-78.79 78.51,-76.52 74.01,-74.36\"/>\n<polygon fill=\"gray\" stroke=\"gray\" points=\"74.41,-73.39 71.25,-73.03 73.5,-75.28 74.41,-73.39\"/>\n</g>\n<!-- 4 -->\n<g id=\"node5\" class=\"node\">\n<title>4</title>\n<polygon fill=\"#dbdb8d\" stroke=\"transparent\" points=\"208.5,-73 108.5,-73 108.5,-54 208.5,-54 208.5,-73\"/>\n<text text-anchor=\"middle\" x=\"158.5\" y=\"-61\" font-family=\"sans\" font-size=\"10.00\">KidsNumber.words</text>\n</g>\n<!-- 0&#45;&gt;4 -->\n<g id=\"edge2\" class=\"edge\">\n<title>0&#45;&gt;4</title>\n<path fill=\"none\" stroke=\"gray\" d=\"M123.74,-80.9C128.2,-78.79 133.01,-76.52 137.59,-74.36\"/>\n<polygon fill=\"gray\" stroke=\"gray\" points=\"138.14,-75.26 140.41,-73.03 137.25,-73.37 138.14,-75.26\"/>\n</g>\n<!-- 2 -->\n<g id=\"node3\" class=\"node\">\n<title>2</title>\n<polygon fill=\"#aec7e8\" stroke=\"transparent\" points=\"71,-46 36,-46 36,-27 71,-27 71,-46\"/>\n<text text-anchor=\"middle\" x=\"53.5\" y=\"-34\" font-family=\"sans\" font-size=\"10.00\">R10</text>\n</g>\n<!-- 1&#45;&gt;2 -->\n<g id=\"edge3\" class=\"edge\">\n<title>1&#45;&gt;2</title>\n<path fill=\"none\" stroke=\"gray\" d=\"M53.5,-53.76C53.5,-52.36 53.5,-50.9 53.5,-49.45\"/>\n<polygon fill=\"gray\" stroke=\"gray\" points=\"54.55,-49.11 53.5,-46.11 52.45,-49.11 54.55,-49.11\"/>\n</g>\n<!-- 3 -->\n<g id=\"node4\" class=\"node\">\n<title>3</title>\n<polygon fill=\"#eeeeee\" stroke=\"transparent\" points=\"76,-19 31,-19 31,0 76,0 76,-19\"/>\n<text text-anchor=\"middle\" x=\"53.5\" y=\"-7\" font-family=\"sans\" font-size=\"10.00\">двумя</text>\n</g>\n<!-- 2&#45;&gt;3 -->\n<g id=\"edge4\" class=\"edge\">\n<title>2&#45;&gt;3</title>\n<path fill=\"none\" stroke=\"gray\" d=\"M53.5,-26.76C53.5,-25.36 53.5,-23.9 53.5,-22.45\"/>\n<polygon fill=\"gray\" stroke=\"gray\" points=\"54.55,-22.11 53.5,-19.11 52.45,-22.11 54.55,-22.11\"/>\n</g>\n<!-- 5 -->\n<g id=\"node6\" class=\"node\">\n<title>5</title>\n<polygon fill=\"#dbdb8d\" stroke=\"transparent\" points=\"188,-46 129,-46 129,-27 188,-27 188,-46\"/>\n<text text-anchor=\"middle\" x=\"158.5\" y=\"-34\" font-family=\"sans\" font-size=\"10.00\">Childrens</text>\n</g>\n<!-- 4&#45;&gt;5 -->\n<g id=\"edge5\" class=\"edge\">\n<title>4&#45;&gt;5</title>\n<path fill=\"none\" stroke=\"gray\" d=\"M158.5,-53.76C158.5,-52.36 158.5,-50.9 158.5,-49.45\"/>\n<polygon fill=\"gray\" stroke=\"gray\" points=\"159.55,-49.11 158.5,-46.11 157.45,-49.11 159.55,-49.11\"/>\n</g>\n<!-- 6 -->\n<g id=\"node7\" class=\"node\">\n<title>6</title>\n<polygon fill=\"#eeeeee\" stroke=\"transparent\" points=\"184,-19 133,-19 133,0 184,0 184,-19\"/>\n<text text-anchor=\"middle\" x=\"158.5\" y=\"-7\" font-family=\"sans\" font-size=\"10.00\">детьми</text>\n</g>\n<!-- 5&#45;&gt;6 -->\n<g id=\"edge6\" class=\"edge\">\n<title>5&#45;&gt;6</title>\n<path fill=\"none\" stroke=\"gray\" d=\"M158.5,-26.76C158.5,-25.36 158.5,-23.9 158.5,-22.45\"/>\n<polygon fill=\"gray\" stroke=\"gray\" points=\"159.55,-22.11 158.5,-19.11 157.45,-22.11 159.55,-22.11\"/>\n</g>\n</g>\n</svg>\n"
     },
     "metadata": {}
    },
    {
     "output_type": "display_data",
     "data": {
      "text/plain": [
       "KidsNumber(\n",
       "    words=Childrens(),\n",
       "    amount='двумя'\n",
       ")"
      ]
     },
     "metadata": {}
    },
    {
     "output_type": "display_data",
     "data": {
      "text/plain": [
       "<IPython.core.display.HTML object>"
      ],
      "text/html": [
       "<div class=\"tex2jax_ignore\" style=\"white-space: pre-wrap\">Добрый день! Ищем пляжный отдых для матери с ребенком (13), отель не ниже 4, чтобы был пляж и трансфер из аэропорта. Не особо дорого</div>"
      ]
     },
     "metadata": {}
    },
    {
     "output_type": "display_data",
     "data": {
      "text/plain": [
       "<IPython.core.display.HTML object>"
      ],
      "text/html": [
       "<div class=\"tex2jax_ignore\" style=\"white-space: pre-wrap\">Мне нужно туда. Чтобы было поменьше русских, отель лучше бунгало, первая линия. Питание не обязательно, только завтраки</div>"
      ]
     },
     "metadata": {}
    },
    {
     "output_type": "display_data",
     "data": {
      "text/plain": [
       "<IPython.core.display.HTML object>"
      ],
      "text/html": [
       "<div class=\"tex2jax_ignore\" style=\"white-space: pre-wrap\">Хотим нормальную четверку, первая линия, чтобы был красивый пейзаж. двое взрослых По стоимости до 100. Что посоветуете?</div>"
      ]
     },
     "metadata": {}
    },
    {
     "output_type": "display_data",
     "data": {
      "text/plain": [
       "<IPython.core.display.HTML object>"
      ],
      "text/html": [
       "<div class=\"tex2jax_ignore\" style=\"white-space: pre-wrap\">Здравствуйте, выбрали Грецию. 2 семьи(2 взрослых и 1 подруга семьи и ее ребенок). Хотим у вас взять трансфер и авто на прокат. Номера разные (только на разных этажах). Что можете предложить нам?</div>"
      ]
     },
     "metadata": {}
    },
    {
     "output_type": "display_data",
     "data": {
      "text/plain": [
       "<IPython.core.display.HTML object>"
      ],
      "text/html": [
       "<div class=\"tex2jax_ignore\" style=\"white-space: pre-wrap\">Примерно на 7-9 ночей, море в шаговой доступности, номер с вайфаем, туалетом и кондиционером. Бюджет скромный.</div>"
      ]
     },
     "metadata": {}
    }
   ],
   "metadata": {}
  },
  {
   "cell_type": "code",
   "execution_count": 46,
   "source": [
    "%run -n -i rules/misc.py\n",
    "\n",
    "parser = Parser(UAI)\n",
    "seed(1)\n",
    "for line in sample(lines, 30):\n",
    "    matches = list(parser.findall(line))\n",
    "    spans = [_.span for _ in matches]\n",
    "    show_markup(line, spans)\n",
    "    if matches:\n",
    "        match = matches[0]\n",
    "        display(match.tree.as_dot)\n",
    "        display(match.fact)"
   ],
   "outputs": [
    {
     "output_type": "display_data",
     "data": {
      "text/plain": [
       "<IPython.core.display.HTML object>"
      ],
      "text/html": [
       "<div class=\"tex2jax_ignore\" style=\"white-space: pre-wrap\">Здравствуйте. Мы бы хотели подобрать тур у вас. Хотим море, пляжный тур, нас двое (без детей). Нужно экономично, минимальные затраты(до 60). Но чтобы обязательно было море, спасибо)))</div>"
      ]
     },
     "metadata": {}
    },
    {
     "output_type": "display_data",
     "data": {
      "text/plain": [
       "<IPython.core.display.HTML object>"
      ],
      "text/html": [
       "<div class=\"tex2jax_ignore\" style=\"white-space: pre-wrap\">Доброго времени суток. Интересует Хайнань, слышал от друзей что им там понравилось семьей. Едем с женой, ищем отель в первой линии. Бюджет до 70.</div>"
      ]
     },
     "metadata": {}
    },
    {
     "output_type": "display_data",
     "data": {
      "text/plain": [
       "<IPython.core.display.HTML object>"
      ],
      "text/html": [
       "<div class=\"tex2jax_ignore\" style=\"white-space: pre-wrap\">Ищем отдых ОАЭ, Турция, Тунис, Египет. Период с 10 сентяря до 25 сентября. Количество ночей от 10. Бюджет до 180000. 2взр и 2 ребенка.</div>"
      ]
     },
     "metadata": {}
    },
    {
     "output_type": "display_data",
     "data": {
      "text/plain": [
       "<IPython.core.display.HTML object>"
      ],
      "text/html": [
       "<div class=\"tex2jax_ignore\" style=\"white-space: pre-wrap\">Добрый день! Ищем пляжный отдых для пары, отель не ниже 4, трансфер из аэропорта. Не особо дорого, около 50-70.</div>"
      ]
     },
     "metadata": {}
    },
    {
     "output_type": "display_data",
     "data": {
      "text/plain": [
       "<IPython.core.display.HTML object>"
      ],
      "text/html": [
       "<div class=\"tex2jax_ignore\" style=\"white-space: pre-wrap\">Хотим нормальную пятерку, первая линия, чтобы был красивый пейзаж. двое взрослых + маленький ребенок 5 лет. По стоимости до 100. Что посоветуете?</div>"
      ]
     },
     "metadata": {}
    },
    {
     "output_type": "display_data",
     "data": {
      "text/plain": [
       "<IPython.core.display.HTML object>"
      ],
      "text/html": [
       "<div class=\"tex2jax_ignore\" style=\"white-space: pre-wrap\">Приветики! Я хотела бы поехать куда то на море с мужем и сыном. Ну сын маленький-7 лет ему надо чтобы был ну бассейн там аниматоры что то такое. Мужу надо шведский стол и бар. Слышала что в Таиланде не очень сейчас, может Вьетнам? Что можешь пообрать?</div>"
      ]
     },
     "metadata": {}
    },
    {
     "output_type": "display_data",
     "data": {
      "text/plain": [
       "<IPython.core.display.HTML object>"
      ],
      "text/html": [
       "<div class=\"tex2jax_ignore\" style=\"white-space: pre-wrap\">Семья 2+1 ребенок(11), Турция , Район Авсалар,Инджекум,Тюрклер, 4-5*, 1 линия, песочный заход</div>"
      ]
     },
     "metadata": {}
    },
    {
     "output_type": "display_data",
     "data": {
      "text/plain": [
       "<IPython.core.display.HTML object>"
      ],
      "text/html": [
       "<div class=\"tex2jax_ignore\" style=\"white-space: pre-wrap\">Нужно чтобы отель был недалеко от аэропорта. Чтобы был песчаный вход, чтобы детское питание было, детская кроватка, чтобы номера были 2-х комнатные, у нас семья 4 человека с младенцем. Детские горки в отеле для старшего и штобы был детский клую. Нужно очень хорошее питание.</div>"
      ]
     },
     "metadata": {}
    },
    {
     "output_type": "display_data",
     "data": {
      "text/plain": [
       "<IPython.core.display.HTML object>"
      ],
      "text/html": [
       "<div class=\"tex2jax_ignore\" style=\"white-space: pre-wrap\">Отель нужен новый или чтобы ремонт был в прошлом году. Большая территория, бассейны, <span style=\"padding: 2px; border-radius: 4px; border: 1px solid #bbdefb; background: #e3f2fd\">ультра все включено</span>, импортный алкоголь, детей поменьше</div>"
      ]
     },
     "metadata": {}
    },
    {
     "output_type": "display_data",
     "data": {
      "text/plain": [
       "Graph(nodes=[...], edges=[...])"
      ],
      "image/svg+xml": "<?xml version=\"1.0\" encoding=\"UTF-8\" standalone=\"no\"?>\n<!DOCTYPE svg PUBLIC \"-//W3C//DTD SVG 1.1//EN\"\n \"http://www.w3.org/Graphics/SVG/1.1/DTD/svg11.dtd\">\n<!-- Generated by graphviz version 2.48.0 (20210717.1556)\n -->\n<!-- Title: G Pages: 1 -->\n<svg width=\"155pt\" height=\"81pt\"\n viewBox=\"0.00 0.00 154.50 81.00\" xmlns=\"http://www.w3.org/2000/svg\" xmlns:xlink=\"http://www.w3.org/1999/xlink\">\n<g id=\"graph0\" class=\"graph\" transform=\"scale(1 1) rotate(0) translate(4 77)\">\n<title>G</title>\n<polygon fill=\"white\" stroke=\"transparent\" points=\"-4,4 -4,-77 150.5,-77 150.5,4 -4,4\"/>\n<!-- 0 -->\n<g id=\"node1\" class=\"node\">\n<title>0</title>\n<polygon fill=\"#dbdb8d\" stroke=\"transparent\" points=\"82.5,-73 49.5,-73 49.5,-54 82.5,-54 82.5,-73\"/>\n<text text-anchor=\"middle\" x=\"66\" y=\"-61\" font-family=\"sans\" font-size=\"10.00\">UAI</text>\n</g>\n<!-- 1 -->\n<g id=\"node2\" class=\"node\">\n<title>1</title>\n<polygon fill=\"#aec7e8\" stroke=\"transparent\" points=\"80.5,-46 51.5,-46 51.5,-27 80.5,-27 80.5,-46\"/>\n<text text-anchor=\"middle\" x=\"66\" y=\"-34\" font-family=\"sans\" font-size=\"10.00\">R1</text>\n</g>\n<!-- 0&#45;&gt;1 -->\n<g id=\"edge1\" class=\"edge\">\n<title>0&#45;&gt;1</title>\n<path fill=\"none\" stroke=\"gray\" d=\"M66,-53.76C66,-52.36 66,-50.9 66,-49.45\"/>\n<polygon fill=\"gray\" stroke=\"gray\" points=\"67.05,-49.11 66,-46.11 64.95,-49.11 67.05,-49.11\"/>\n</g>\n<!-- 2 -->\n<g id=\"node3\" class=\"node\">\n<title>2</title>\n<polygon fill=\"#eeeeee\" stroke=\"transparent\" points=\"48,-19 0,-19 0,0 48,0 48,-19\"/>\n<text text-anchor=\"middle\" x=\"24\" y=\"-7\" font-family=\"sans\" font-size=\"10.00\">ультра</text>\n</g>\n<!-- 1&#45;&gt;2 -->\n<g id=\"edge2\" class=\"edge\">\n<title>1&#45;&gt;2</title>\n<path fill=\"none\" stroke=\"gray\" d=\"M51.31,-26.76C48.06,-24.82 44.58,-22.75 41.24,-20.76\"/>\n<polygon fill=\"gray\" stroke=\"gray\" points=\"41.58,-19.74 38.47,-19.11 40.51,-21.55 41.58,-19.74\"/>\n</g>\n<!-- 3 -->\n<g id=\"node4\" class=\"node\">\n<title>3</title>\n<polygon fill=\"#eeeeee\" stroke=\"transparent\" points=\"82.5,-19 49.5,-19 49.5,0 82.5,0 82.5,-19\"/>\n<text text-anchor=\"middle\" x=\"66\" y=\"-7\" font-family=\"sans\" font-size=\"10.00\">все</text>\n</g>\n<!-- 1&#45;&gt;3 -->\n<g id=\"edge3\" class=\"edge\">\n<title>1&#45;&gt;3</title>\n<path fill=\"none\" stroke=\"gray\" d=\"M66,-26.76C66,-25.36 66,-23.9 66,-22.45\"/>\n<polygon fill=\"gray\" stroke=\"gray\" points=\"67.05,-22.11 66,-19.11 64.95,-22.11 67.05,-22.11\"/>\n</g>\n<!-- 4 -->\n<g id=\"node5\" class=\"node\">\n<title>4</title>\n<polygon fill=\"#eeeeee\" stroke=\"transparent\" points=\"146.5,-19 83.5,-19 83.5,0 146.5,0 146.5,-19\"/>\n<text text-anchor=\"middle\" x=\"115\" y=\"-7\" font-family=\"sans\" font-size=\"10.00\">включено</text>\n</g>\n<!-- 1&#45;&gt;4 -->\n<g id=\"edge4\" class=\"edge\">\n<title>1&#45;&gt;4</title>\n<path fill=\"none\" stroke=\"gray\" d=\"M80.7,-28C85.36,-25.62 90.59,-22.95 95.53,-20.43\"/>\n<polygon fill=\"gray\" stroke=\"gray\" points=\"96.05,-21.35 98.25,-19.05 95.1,-19.48 96.05,-21.35\"/>\n</g>\n</g>\n</svg>\n"
     },
     "metadata": {}
    },
    {
     "output_type": "display_data",
     "data": {
      "text/plain": [
       "UAI()"
      ]
     },
     "metadata": {}
    },
    {
     "output_type": "display_data",
     "data": {
      "text/plain": [
       "<IPython.core.display.HTML object>"
      ],
      "text/html": [
       "<div class=\"tex2jax_ignore\" style=\"white-space: pre-wrap\">Добрый вечер. Расскажите куда можно поехать семье с детьми. Какие направления открыты? 2 взр и 2 ребенка</div>"
      ]
     },
     "metadata": {}
    },
    {
     "output_type": "display_data",
     "data": {
      "text/plain": [
       "<IPython.core.display.HTML object>"
      ],
      "text/html": [
       "<div class=\"tex2jax_ignore\" style=\"white-space: pre-wrap\">Два взрослых и ребенок 3 года. Хотим отель на берегу с собственным песчаным пляжем. Важно, чтобы были диетические блюда для ребенка, wifi в номере. Что Вы можете предложить?</div>"
      ]
     },
     "metadata": {}
    },
    {
     "output_type": "display_data",
     "data": {
      "text/plain": [
       "<IPython.core.display.HTML object>"
      ],
      "text/html": [
       "<div class=\"tex2jax_ignore\" style=\"white-space: pre-wrap\">Здравствуйтете. Напишу подробно, чтобы дальше без вопросов. С женой на годовщину хотим поехать в тур по Европе: Бельгия, НИдерланды, Люксембург. Чтобы в каждом городе минимум по 3-4 дня, с гидом, хорошая экскурсия. Отели везде не ниже 4+. Бюджет любой, можем даже арендовать машину</div>"
      ]
     },
     "metadata": {}
    },
    {
     "output_type": "display_data",
     "data": {
      "text/plain": [
       "<IPython.core.display.HTML object>"
      ],
      "text/html": [
       "<div class=\"tex2jax_ignore\" style=\"white-space: pre-wrap\">7 ночей. Бюджет 100 000. Пожелания по отелю: хочется чтобы был чистый, относительно новый и место расположение удобное. Завтрак включён.</div>"
      ]
     },
     "metadata": {}
    },
    {
     "output_type": "display_data",
     "data": {
      "text/plain": [
       "<IPython.core.display.HTML object>"
      ],
      "text/html": [
       "<div class=\"tex2jax_ignore\" style=\"white-space: pre-wrap\">Хотим отдых на 3 семьи На Кипре или в Турции. 6 взрослых и 2 ребенка. Нужно 3 отдельных номера, для детей детские зоны, анимация. Отель 5 звезд</div>"
      ]
     },
     "metadata": {}
    },
    {
     "output_type": "display_data",
     "data": {
      "text/plain": [
       "<IPython.core.display.HTML object>"
      ],
      "text/html": [
       "<div class=\"tex2jax_ignore\" style=\"white-space: pre-wrap\">Привет, ищу качественный отель категории 3* недалеко от пляжа, 11 дней с конца июня. В Египте и Турции была неоднократно, эти страны не интересуют. Не особо чтобы дорого, но готова потратить до 95000.</div>"
      ]
     },
     "metadata": {}
    },
    {
     "output_type": "display_data",
     "data": {
      "text/plain": [
       "<IPython.core.display.HTML object>"
      ],
      "text/html": [
       "<div class=\"tex2jax_ignore\" style=\"white-space: pre-wrap\">Здравствуйте! Посоветуйте,,, какие отели посмотреть на Протарасе и Айя Напе? Куда отправляете туристов? 3-4*.  Пятерки, наверное, под полмиллиона?  И что с Грецией? Открыли? Там шенген надо делать.. в Новосибирске?</div>"
      ]
     },
     "metadata": {}
    },
    {
     "output_type": "display_data",
     "data": {
      "text/plain": [
       "<IPython.core.display.HTML object>"
      ],
      "text/html": [
       "<div class=\"tex2jax_ignore\" style=\"white-space: pre-wrap\">Здравствуйте. Ищем где пополярно, песочек и чтобы для ребенка все было:еда анимация горки. И чтобы поближе к пляжу, можно было дойти пешком. Два человека и 1 ребенок 6 лет.</div>"
      ]
     },
     "metadata": {}
    },
    {
     "output_type": "display_data",
     "data": {
      "text/plain": [
       "<IPython.core.display.HTML object>"
      ],
      "text/html": [
       "<div class=\"tex2jax_ignore\" style=\"white-space: pre-wrap\">Мы можем хоть когда, к датам особо не привязаны. Хотим по горящей путевке съездить. Вы можете нам позвонить-у нас чемоданы собраны и мы можем сразу лететь из барнаула. А сколько сейчас горящие путевки стоят?</div>"
      ]
     },
     "metadata": {}
    },
    {
     "output_type": "display_data",
     "data": {
      "text/plain": [
       "<IPython.core.display.HTML object>"
      ],
      "text/html": [
       "<div class=\"tex2jax_ignore\" style=\"white-space: pre-wrap\">2 семейные пары. У нас с 10 отпуск дней на 7. Хотим море и чистый пляж. Чтобы были зонты и лежаки бесплатные и свой пляж у отеля. Что порекомендуете?</div>"
      ]
     },
     "metadata": {}
    },
    {
     "output_type": "display_data",
     "data": {
      "text/plain": [
       "<IPython.core.display.HTML object>"
      ],
      "text/html": [
       "<div class=\"tex2jax_ignore\" style=\"white-space: pre-wrap\">Отель в Турции 4-5*с песчаным пляжем ,работающий по системе AI с кухней в номере . Едет семья с двумя детками,родители и старший ребенок хотят питаться по системе &quot;все включено&quot;,младший ребенок находится на специализированном питании</div>"
      ]
     },
     "metadata": {}
    },
    {
     "output_type": "display_data",
     "data": {
      "text/plain": [
       "<IPython.core.display.HTML object>"
      ],
      "text/html": [
       "<div class=\"tex2jax_ignore\" style=\"white-space: pre-wrap\">2 взр с 14.06 до 02.07 даты вылета, на 10 ночей тунис, или кипр, 1, 2 линия в предела 120 на двоих</div>"
      ]
     },
     "metadata": {}
    },
    {
     "output_type": "display_data",
     "data": {
      "text/plain": [
       "<IPython.core.display.HTML object>"
      ],
      "text/html": [
       "<div class=\"tex2jax_ignore\" style=\"white-space: pre-wrap\">2 взрослых, 12-16 июля Горный, на берегу,лесистая территория, домик,отдельный вход, не дальше Берели, авто стоянка</div>"
      ]
     },
     "metadata": {}
    },
    {
     "output_type": "display_data",
     "data": {
      "text/plain": [
       "<IPython.core.display.HTML object>"
      ],
      "text/html": [
       "<div class=\"tex2jax_ignore\" style=\"white-space: pre-wrap\">Здравствуйте. Ищем ну что нибудь популярное такое и недорого. Ну вот вы куда бы сами поехали?</div>"
      ]
     },
     "metadata": {}
    },
    {
     "output_type": "display_data",
     "data": {
      "text/plain": [
       "<IPython.core.display.HTML object>"
      ],
      "text/html": [
       "<div class=\"tex2jax_ignore\" style=\"white-space: pre-wrap\">3взрослых +1 ребенок (9), Горный 29.07-01.08, хорошая база,бассейн</div>"
      ]
     },
     "metadata": {}
    },
    {
     "output_type": "display_data",
     "data": {
      "text/plain": [
       "<IPython.core.display.HTML object>"
      ],
      "text/html": [
       "<div class=\"tex2jax_ignore\" style=\"white-space: pre-wrap\">Ну раз Турцию наконец то открыли, решили выбраться с семьей. Едем с мужем и двумя детьми (17 и 10). Муж и дети не любят активный отдых, им нужен шведский стол, море, бассейн, мужу мииниьар. Я бы хотела на экскурсии. Отель все включено не ниже хорошей четверки</div>"
      ]
     },
     "metadata": {}
    },
    {
     "output_type": "display_data",
     "data": {
      "text/plain": [
       "<IPython.core.display.HTML object>"
      ],
      "text/html": [
       "<div class=\"tex2jax_ignore\" style=\"white-space: pre-wrap\">Добрый день! Ищем пляжный отдых для матери с ребенком (13), отель не ниже 4, чтобы был пляж и трансфер из аэропорта. Не особо дорого</div>"
      ]
     },
     "metadata": {}
    },
    {
     "output_type": "display_data",
     "data": {
      "text/plain": [
       "<IPython.core.display.HTML object>"
      ],
      "text/html": [
       "<div class=\"tex2jax_ignore\" style=\"white-space: pre-wrap\">Мне нужно туда. Чтобы было поменьше русских, отель лучше бунгало, первая линия. Питание не обязательно, только завтраки</div>"
      ]
     },
     "metadata": {}
    },
    {
     "output_type": "display_data",
     "data": {
      "text/plain": [
       "<IPython.core.display.HTML object>"
      ],
      "text/html": [
       "<div class=\"tex2jax_ignore\" style=\"white-space: pre-wrap\">Хотим нормальную четверку, первая линия, чтобы был красивый пейзаж. двое взрослых По стоимости до 100. Что посоветуете?</div>"
      ]
     },
     "metadata": {}
    },
    {
     "output_type": "display_data",
     "data": {
      "text/plain": [
       "<IPython.core.display.HTML object>"
      ],
      "text/html": [
       "<div class=\"tex2jax_ignore\" style=\"white-space: pre-wrap\">Здравствуйте, выбрали Грецию. 2 семьи(2 взрослых и 1 подруга семьи и ее ребенок). Хотим у вас взять трансфер и авто на прокат. Номера разные (только на разных этажах). Что можете предложить нам?</div>"
      ]
     },
     "metadata": {}
    },
    {
     "output_type": "display_data",
     "data": {
      "text/plain": [
       "<IPython.core.display.HTML object>"
      ],
      "text/html": [
       "<div class=\"tex2jax_ignore\" style=\"white-space: pre-wrap\">Примерно на 7-9 ночей, море в шаговой доступности, номер с вайфаем, туалетом и кондиционером. Бюджет скромный.</div>"
      ]
     },
     "metadata": {}
    }
   ],
   "metadata": {}
  },
  {
   "cell_type": "code",
   "execution_count": null,
   "source": [],
   "outputs": [],
   "metadata": {}
  }
 ],
 "metadata": {
  "interpreter": {
   "hash": "c2cf870773758035b938b81f22e6070e2526a88a16b51765671f7a44fc858513"
  },
  "kernelspec": {
   "name": "python3",
   "display_name": "Python 3.9.1 64-bit ('base': conda)"
  },
  "language_info": {
   "codemirror_mode": {
    "name": "ipython",
    "version": 3
   },
   "file_extension": ".py",
   "mimetype": "text/x-python",
   "name": "python",
   "nbconvert_exporter": "python",
   "pygments_lexer": "ipython3",
   "version": "3.9.1"
  }
 },
 "nbformat": 4,
 "nbformat_minor": 4
}